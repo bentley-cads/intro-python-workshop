{
 "cells": [
  {
   "cell_type": "markdown",
   "metadata": {
    "deepnote_cell_height": 595.25,
    "deepnote_cell_type": "markdown",
    "tags": []
   },
   "source": [
    "# Python Practice Exercises\n",
    "\n",
    "Thanks to Luke Cherveny for creating these Python exercises.\n",
    "\n",
    "Nathan Carter imported them into Deepnote and created the solutions.  **NOTE:** There are many ways to solve these problems, and the solutions here are just examples.  Other ways that get the same final answer my be just as good or better than the example solutions shown here.\n",
    "\n",
    "## Data file\n",
    "\n",
    "The file `senate_2022.csv` contains data on the 100 current members of the United States Senate. It is a cleaned copy/paste from [Wikipedia](https://en.wikipedia.org/wiki/List_of_current_United_States_senators). Variables include\n",
    "\n",
    " * Name: Senator name\n",
    " * State: State the senator represents\n",
    " * Party: Official political affiliation \n",
    " * BirthDate: Date of Birth (along with age)\n",
    " * Occupation: Declared occupation(s), separated by commas\n",
    " * PreviousOffice: Previously held elected offices, separated by commas\n",
    " * Education: College/University and degree, separated by commas\n",
    " * AssumedOffice: Date senate seat assumed\n",
    " * Election: Year the senator's seat is up for election\n",
    " * Residence: Senator official city of residence (in the state they represent)\n"
   ]
  },
  {
   "cell_type": "markdown",
   "metadata": {
    "deepnote_cell_height": 108.390625,
    "deepnote_cell_type": "markdown",
    "tags": []
   },
   "source": [
    "## Question 1\n",
    "\n",
    "Load the `.csv` as a pandas DataFrame"
   ]
  },
  {
   "cell_type": "code",
   "execution_count": 1,
   "metadata": {
    "deepnote_cell_height": 666,
    "deepnote_cell_type": "code",
    "deepnote_to_be_reexecuted": false,
    "execution_millis": 59,
    "execution_start": 1664650685659,
    "source_hash": "e2f10aba",
    "tags": []
   },
   "outputs": [
    {
     "data": {
      "application/vnd.deepnote.dataframe.v3+json": {
       "column_count": 10,
       "columns": [
        {
         "dtype": "object",
         "name": "Name",
         "stats": {
          "categories": [
           {
            "count": 1,
            "name": "Richard Shelby"
           },
           {
            "count": 1,
            "name": "Tommy Tuberville"
           },
           {
            "count": 98,
            "name": "98 others"
           }
          ],
          "nan_count": 0,
          "unique_count": 100
         }
        },
        {
         "dtype": "object",
         "name": "State",
         "stats": {
          "categories": [
           {
            "count": 2,
            "name": "Alabama"
           },
           {
            "count": 2,
            "name": "Alaska"
           },
           {
            "count": 96,
            "name": "48 others"
           }
          ],
          "nan_count": 0,
          "unique_count": 50
         }
        },
        {
         "dtype": "object",
         "name": "Party",
         "stats": {
          "categories": [
           {
            "count": 50,
            "name": "Republican"
           },
           {
            "count": 48,
            "name": "Democratic"
           },
           {
            "count": 2,
            "name": "Independent"
           }
          ],
          "nan_count": 0,
          "unique_count": 3
         }
        },
        {
         "dtype": "object",
         "name": "BirthDate",
         "stats": {
          "categories": [
           {
            "count": 1,
            "name": "May 6, 1934 (age 88)"
           },
           {
            "count": 1,
            "name": "September 18, 1954 (age 68)"
           },
           {
            "count": 98,
            "name": "98 others"
           }
          ],
          "nan_count": 0,
          "unique_count": 100
         }
        },
        {
         "dtype": "object",
         "name": "Occupation",
         "stats": {
          "categories": [
           {
            "count": 16,
            "name": "Lawyer"
           },
           {
            "count": 4,
            "name": "Businessman"
           },
           {
            "count": 80,
            "name": "78 others"
           }
          ],
          "nan_count": 0,
          "unique_count": 80
         }
        },
        {
         "dtype": "object",
         "name": "PreviousOffice",
         "stats": {
          "categories": [
           {
            "count": 14,
            "name": "U.S. House"
           },
           {
            "count": 13,
            "name": "None"
           },
           {
            "count": 73,
            "name": "72 others"
           }
          ],
          "nan_count": 0,
          "unique_count": 74
         }
        },
        {
         "dtype": "object",
         "name": "Education",
         "stats": {
          "categories": [
           {
            "count": 2,
            "name": "Harvard University (AB, JD)"
           },
           {
            "count": 1,
            "name": "University of Alabama (BA, LLB), Birmingham School of Law (JD)"
           },
           {
            "count": 97,
            "name": "97 others"
           }
          ],
          "nan_count": 0,
          "unique_count": 99
         }
        },
        {
         "dtype": "object",
         "name": "AssumedOffice",
         "stats": {
          "categories": [
           {
            "count": 11,
            "name": "3-Jan-15"
           },
           {
            "count": 11,
            "name": "3-Jan-11"
           },
           {
            "count": 78,
            "name": "36 others"
           }
          ],
          "nan_count": 0,
          "unique_count": 38
         }
        },
        {
         "dtype": "int64",
         "name": "Election",
         "stats": {
          "histogram": [
           {
            "bin_end": 2022.4,
            "bin_start": 2022,
            "count": 35
           },
           {
            "bin_end": 2022.8,
            "bin_start": 2022.4,
            "count": 0
           },
           {
            "bin_end": 2023.2,
            "bin_start": 2022.8,
            "count": 0
           },
           {
            "bin_end": 2023.6,
            "bin_start": 2023.2,
            "count": 0
           },
           {
            "bin_end": 2024,
            "bin_start": 2023.6,
            "count": 0
           },
           {
            "bin_end": 2024.4,
            "bin_start": 2024,
            "count": 33
           },
           {
            "bin_end": 2024.8,
            "bin_start": 2024.4,
            "count": 0
           },
           {
            "bin_end": 2025.2,
            "bin_start": 2024.8,
            "count": 0
           },
           {
            "bin_end": 2025.6,
            "bin_start": 2025.2,
            "count": 0
           },
           {
            "bin_end": 2026,
            "bin_start": 2025.6,
            "count": 32
           }
          ],
          "max": "2026",
          "min": "2022",
          "nan_count": 0,
          "unique_count": 3
         }
        },
        {
         "dtype": "object",
         "name": "Residence",
         "stats": {
          "categories": [
           {
            "count": 2,
            "name": "Denver"
           },
           {
            "count": 2,
            "name": "Wilmington"
           },
           {
            "count": 96,
            "name": "89 others"
           }
          ],
          "nan_count": 0,
          "unique_count": 91
         }
        },
        {
         "dtype": "int64",
         "name": "_deepnote_index_column"
        }
       ],
       "row_count": 100,
       "rows": [
        {
         "AssumedOffice": "3-Jan-87",
         "BirthDate": "May 6, 1934 (age 88)",
         "Education": "University of Alabama (BA, LLB), Birmingham School of Law (JD)",
         "Election": "2022",
         "Name": "Richard Shelby",
         "Occupation": "Lawyer",
         "Party": "Republican",
         "PreviousOffice": "U.S. House, Alabama Senate",
         "Residence": "Tuscaloosa",
         "State": "Alabama",
         "_deepnote_index_column": "0"
        },
        {
         "AssumedOffice": "3-Jan-21",
         "BirthDate": "September 18, 1954 (age 68)",
         "Education": "Southern Arkansas University (BS)",
         "Election": "2026",
         "Name": "Tommy Tuberville",
         "Occupation": "College football coach, Investment management firm partner",
         "Party": "Republican",
         "PreviousOffice": "None",
         "Residence": "Auburn",
         "State": "Alabama",
         "_deepnote_index_column": "1"
        },
        {
         "AssumedOffice": "20-Dec-02",
         "BirthDate": "May 22, 1957 (age 65)",
         "Education": "Georgetown University (AB), Willamette University (JD)",
         "Election": "2022",
         "Name": "Lisa Murkowski",
         "Occupation": "Lawyer",
         "Party": "Republican",
         "PreviousOffice": "Alaska House of Representatives",
         "Residence": "Girdwood",
         "State": "Alaska",
         "_deepnote_index_column": "2"
        },
        {
         "AssumedOffice": "3-Jan-15",
         "BirthDate": "November 13, 1964 (age 57)",
         "Education": "Harvard University (AB), Georgetown University (MS, JD)",
         "Election": "2026",
         "Name": "Dan Sullivan",
         "Occupation": "U.S. Marine Corps officer, Lawyer, Assistant Secretary of State for Economic and Business Affairs",
         "Party": "Republican",
         "PreviousOffice": "Alaska Attorney General",
         "Residence": "Anchorage",
         "State": "Alaska",
         "_deepnote_index_column": "3"
        },
        {
         "AssumedOffice": "3-Jan-19",
         "BirthDate": "July 12, 1976 (age 46)",
         "Education": "Brigham Young University (BA), Arizona State University, Tempe (MSW, JD, PhD)",
         "Election": "2024",
         "Name": "Kyrsten Sinema",
         "Occupation": "Social worker, Political activist, Lawyer, College lecturer",
         "Party": "Democratic",
         "PreviousOffice": "U.S. House, Arizona Senate, Arizona House of Representatives",
         "Residence": "Phoenix",
         "State": "Arizona",
         "_deepnote_index_column": "4"
        },
        {
         "AssumedOffice": "2-Dec-20",
         "BirthDate": "February 21, 1964 (age 58)",
         "Education": "United States Merchant Marine Academy (BS), Naval Postgraduate School (MS)",
         "Election": "2022",
         "Name": "Mark Kelly",
         "Occupation": "U.S. Navy officer, NASA astronaut, Americans for Responsible Solutions Co-founder",
         "Party": "Democratic",
         "PreviousOffice": "None",
         "Residence": "Tucson",
         "State": "Arizona",
         "_deepnote_index_column": "5"
        },
        {
         "AssumedOffice": "3-Jan-11",
         "BirthDate": "December 10, 1950 (age 71)",
         "Education": "University of Arkansas, Southern College of Optometry (OD)",
         "Election": "2022",
         "Name": "John Boozman",
         "Occupation": "Optometrist",
         "Party": "Republican",
         "PreviousOffice": "U.S. House, Rogers Public Schools Board",
         "Residence": "Rogers",
         "State": "Arkansas",
         "_deepnote_index_column": "6"
        },
        {
         "AssumedOffice": "3-Jan-15",
         "BirthDate": "May 13, 1977 (age 45)",
         "Education": "Harvard University (AB, JD)",
         "Election": "2026",
         "Name": "Tom Cotton",
         "Occupation": "Lawyer, United States Army officer",
         "Party": "Republican",
         "PreviousOffice": "U.S. House",
         "Residence": "Dardanelle",
         "State": "Arkansas",
         "_deepnote_index_column": "7"
        },
        {
         "AssumedOffice": "10-Nov-92",
         "BirthDate": "June 22, 1933 (age 89)",
         "Education": "Stanford University (BA)",
         "Election": "2024",
         "Name": "Dianne Feinstein",
         "Occupation": "Nonprofit organization fellow, California Women's Parole Board Member",
         "Party": "Democratic",
         "PreviousOffice": "Mayor of San Francisco, San Francisco Board of Supervisors",
         "Residence": "San Francisco",
         "State": "California",
         "_deepnote_index_column": "8"
        },
        {
         "AssumedOffice": "20-Jan-21",
         "BirthDate": "March 22, 1973 (age 49)",
         "Education": "Massachusetts Institute of Technology (BS)",
         "Election": "2022",
         "Name": "Alex Padilla",
         "Occupation": "Engineer",
         "Party": "Democratic",
         "PreviousOffice": "Secretary of State of California, California Senate, Los Angeles City Council President",
         "Residence": "Los Angeles",
         "State": "California",
         "_deepnote_index_column": "9"
        }
       ]
      },
      "text/html": [
       "<div>\n",
       "<style scoped>\n",
       "    .dataframe tbody tr th:only-of-type {\n",
       "        vertical-align: middle;\n",
       "    }\n",
       "\n",
       "    .dataframe tbody tr th {\n",
       "        vertical-align: top;\n",
       "    }\n",
       "\n",
       "    .dataframe thead th {\n",
       "        text-align: right;\n",
       "    }\n",
       "</style>\n",
       "<table border=\"1\" class=\"dataframe\">\n",
       "  <thead>\n",
       "    <tr style=\"text-align: right;\">\n",
       "      <th></th>\n",
       "      <th>Name</th>\n",
       "      <th>State</th>\n",
       "      <th>Party</th>\n",
       "      <th>BirthDate</th>\n",
       "      <th>Occupation</th>\n",
       "      <th>PreviousOffice</th>\n",
       "      <th>Education</th>\n",
       "      <th>AssumedOffice</th>\n",
       "      <th>Election</th>\n",
       "      <th>Residence</th>\n",
       "    </tr>\n",
       "  </thead>\n",
       "  <tbody>\n",
       "    <tr>\n",
       "      <th>0</th>\n",
       "      <td>Richard Shelby</td>\n",
       "      <td>Alabama</td>\n",
       "      <td>Republican</td>\n",
       "      <td>May 6, 1934 (age 88)</td>\n",
       "      <td>Lawyer</td>\n",
       "      <td>U.S. House, Alabama Senate</td>\n",
       "      <td>University of Alabama (BA, LLB), Birmingham Sc...</td>\n",
       "      <td>3-Jan-87</td>\n",
       "      <td>2022</td>\n",
       "      <td>Tuscaloosa</td>\n",
       "    </tr>\n",
       "    <tr>\n",
       "      <th>1</th>\n",
       "      <td>Tommy Tuberville</td>\n",
       "      <td>Alabama</td>\n",
       "      <td>Republican</td>\n",
       "      <td>September 18, 1954 (age 68)</td>\n",
       "      <td>College football coach, Investment management ...</td>\n",
       "      <td>None</td>\n",
       "      <td>Southern Arkansas University (BS)</td>\n",
       "      <td>3-Jan-21</td>\n",
       "      <td>2026</td>\n",
       "      <td>Auburn</td>\n",
       "    </tr>\n",
       "    <tr>\n",
       "      <th>2</th>\n",
       "      <td>Lisa Murkowski</td>\n",
       "      <td>Alaska</td>\n",
       "      <td>Republican</td>\n",
       "      <td>May 22, 1957 (age 65)</td>\n",
       "      <td>Lawyer</td>\n",
       "      <td>Alaska House of Representatives</td>\n",
       "      <td>Georgetown University (AB), Willamette Univers...</td>\n",
       "      <td>20-Dec-02</td>\n",
       "      <td>2022</td>\n",
       "      <td>Girdwood</td>\n",
       "    </tr>\n",
       "    <tr>\n",
       "      <th>3</th>\n",
       "      <td>Dan Sullivan</td>\n",
       "      <td>Alaska</td>\n",
       "      <td>Republican</td>\n",
       "      <td>November 13, 1964 (age 57)</td>\n",
       "      <td>U.S. Marine Corps officer, Lawyer, Assistant S...</td>\n",
       "      <td>Alaska Attorney General</td>\n",
       "      <td>Harvard University (AB), Georgetown University...</td>\n",
       "      <td>3-Jan-15</td>\n",
       "      <td>2026</td>\n",
       "      <td>Anchorage</td>\n",
       "    </tr>\n",
       "    <tr>\n",
       "      <th>4</th>\n",
       "      <td>Kyrsten Sinema</td>\n",
       "      <td>Arizona</td>\n",
       "      <td>Democratic</td>\n",
       "      <td>July 12, 1976 (age 46)</td>\n",
       "      <td>Social worker, Political activist, Lawyer, Col...</td>\n",
       "      <td>U.S. House, Arizona Senate, Arizona House of R...</td>\n",
       "      <td>Brigham Young University (BA), Arizona State U...</td>\n",
       "      <td>3-Jan-19</td>\n",
       "      <td>2024</td>\n",
       "      <td>Phoenix</td>\n",
       "    </tr>\n",
       "    <tr>\n",
       "      <th>...</th>\n",
       "      <td>...</td>\n",
       "      <td>...</td>\n",
       "      <td>...</td>\n",
       "      <td>...</td>\n",
       "      <td>...</td>\n",
       "      <td>...</td>\n",
       "      <td>...</td>\n",
       "      <td>...</td>\n",
       "      <td>...</td>\n",
       "      <td>...</td>\n",
       "    </tr>\n",
       "    <tr>\n",
       "      <th>95</th>\n",
       "      <td>Shelley Moore Capito</td>\n",
       "      <td>West Virginia</td>\n",
       "      <td>Republican</td>\n",
       "      <td>November 26, 1953 (age 68)</td>\n",
       "      <td>College career counselor, West Virginia Board ...</td>\n",
       "      <td>U.S. House, West Virginia House of Delegates</td>\n",
       "      <td>Duke University (BA), University of Virginia (...</td>\n",
       "      <td>3-Jan-15</td>\n",
       "      <td>2026</td>\n",
       "      <td>Charleston</td>\n",
       "    </tr>\n",
       "    <tr>\n",
       "      <th>96</th>\n",
       "      <td>Ron Johnson</td>\n",
       "      <td>Wisconsin</td>\n",
       "      <td>Republican</td>\n",
       "      <td>April 8, 1955 (age 67)</td>\n",
       "      <td>Accountant, Corporate executive</td>\n",
       "      <td>None</td>\n",
       "      <td>University of Minnesota (BS)</td>\n",
       "      <td>3-Jan-11</td>\n",
       "      <td>2022</td>\n",
       "      <td>Oshkosh</td>\n",
       "    </tr>\n",
       "    <tr>\n",
       "      <th>97</th>\n",
       "      <td>Tammy Baldwin</td>\n",
       "      <td>Wisconsin</td>\n",
       "      <td>Democratic</td>\n",
       "      <td>February 11, 1962 (age 60)</td>\n",
       "      <td>Lawyer</td>\n",
       "      <td>U.S. House, Wisconsin Assembly, Dane County, W...</td>\n",
       "      <td>Smith College (BA), University of Wisconsin-Ma...</td>\n",
       "      <td>3-Jan-13</td>\n",
       "      <td>2024</td>\n",
       "      <td>Madison</td>\n",
       "    </tr>\n",
       "    <tr>\n",
       "      <th>98</th>\n",
       "      <td>John Barrasso</td>\n",
       "      <td>Wyoming</td>\n",
       "      <td>Republican</td>\n",
       "      <td>July 21, 1952 (age 70)</td>\n",
       "      <td>Orthopedic surgeon, Medical chief of staff, No...</td>\n",
       "      <td>Wyoming Senate</td>\n",
       "      <td>Rensselaer Polytechnic Institute, Georgetown U...</td>\n",
       "      <td>25-Jun-07</td>\n",
       "      <td>2024</td>\n",
       "      <td>Casper</td>\n",
       "    </tr>\n",
       "    <tr>\n",
       "      <th>99</th>\n",
       "      <td>Cynthia Lummis</td>\n",
       "      <td>Wyoming</td>\n",
       "      <td>Republican</td>\n",
       "      <td>September 10, 1954 (age 68)</td>\n",
       "      <td>Lawyer</td>\n",
       "      <td>U.S. House, Wyoming Treasurer, Wyoming Senate,...</td>\n",
       "      <td>University of Wyoming (BS, JD)</td>\n",
       "      <td>3-Jan-21</td>\n",
       "      <td>2026</td>\n",
       "      <td>Cheyenne</td>\n",
       "    </tr>\n",
       "  </tbody>\n",
       "</table>\n",
       "<p>100 rows × 10 columns</p>\n",
       "</div>"
      ],
      "text/plain": [
       "                    Name          State       Party  \\\n",
       "0         Richard Shelby        Alabama  Republican   \n",
       "1       Tommy Tuberville        Alabama  Republican   \n",
       "2         Lisa Murkowski         Alaska  Republican   \n",
       "3           Dan Sullivan         Alaska  Republican   \n",
       "4         Kyrsten Sinema        Arizona  Democratic   \n",
       "..                   ...            ...         ...   \n",
       "95  Shelley Moore Capito  West Virginia  Republican   \n",
       "96           Ron Johnson      Wisconsin  Republican   \n",
       "97         Tammy Baldwin      Wisconsin  Democratic   \n",
       "98         John Barrasso        Wyoming  Republican   \n",
       "99        Cynthia Lummis        Wyoming  Republican   \n",
       "\n",
       "                      BirthDate  \\\n",
       "0          May 6, 1934 (age 88)   \n",
       "1   September 18, 1954 (age 68)   \n",
       "2         May 22, 1957 (age 65)   \n",
       "3    November 13, 1964 (age 57)   \n",
       "4        July 12, 1976 (age 46)   \n",
       "..                          ...   \n",
       "95   November 26, 1953 (age 68)   \n",
       "96       April 8, 1955 (age 67)   \n",
       "97   February 11, 1962 (age 60)   \n",
       "98       July 21, 1952 (age 70)   \n",
       "99  September 10, 1954 (age 68)   \n",
       "\n",
       "                                           Occupation  \\\n",
       "0                                              Lawyer   \n",
       "1   College football coach, Investment management ...   \n",
       "2                                              Lawyer   \n",
       "3   U.S. Marine Corps officer, Lawyer, Assistant S...   \n",
       "4   Social worker, Political activist, Lawyer, Col...   \n",
       "..                                                ...   \n",
       "95  College career counselor, West Virginia Board ...   \n",
       "96                    Accountant, Corporate executive   \n",
       "97                                             Lawyer   \n",
       "98  Orthopedic surgeon, Medical chief of staff, No...   \n",
       "99                                             Lawyer   \n",
       "\n",
       "                                       PreviousOffice  \\\n",
       "0                          U.S. House, Alabama Senate   \n",
       "1                                                None   \n",
       "2                     Alaska House of Representatives   \n",
       "3                             Alaska Attorney General   \n",
       "4   U.S. House, Arizona Senate, Arizona House of R...   \n",
       "..                                                ...   \n",
       "95       U.S. House, West Virginia House of Delegates   \n",
       "96                                               None   \n",
       "97  U.S. House, Wisconsin Assembly, Dane County, W...   \n",
       "98                                     Wyoming Senate   \n",
       "99  U.S. House, Wyoming Treasurer, Wyoming Senate,...   \n",
       "\n",
       "                                            Education AssumedOffice  Election  \\\n",
       "0   University of Alabama (BA, LLB), Birmingham Sc...      3-Jan-87      2022   \n",
       "1                   Southern Arkansas University (BS)      3-Jan-21      2026   \n",
       "2   Georgetown University (AB), Willamette Univers...     20-Dec-02      2022   \n",
       "3   Harvard University (AB), Georgetown University...      3-Jan-15      2026   \n",
       "4   Brigham Young University (BA), Arizona State U...      3-Jan-19      2024   \n",
       "..                                                ...           ...       ...   \n",
       "95  Duke University (BA), University of Virginia (...      3-Jan-15      2026   \n",
       "96                       University of Minnesota (BS)      3-Jan-11      2022   \n",
       "97  Smith College (BA), University of Wisconsin-Ma...      3-Jan-13      2024   \n",
       "98  Rensselaer Polytechnic Institute, Georgetown U...     25-Jun-07      2024   \n",
       "99                     University of Wyoming (BS, JD)      3-Jan-21      2026   \n",
       "\n",
       "     Residence  \n",
       "0   Tuscaloosa  \n",
       "1       Auburn  \n",
       "2     Girdwood  \n",
       "3    Anchorage  \n",
       "4      Phoenix  \n",
       "..         ...  \n",
       "95  Charleston  \n",
       "96     Oshkosh  \n",
       "97     Madison  \n",
       "98      Casper  \n",
       "99    Cheyenne  \n",
       "\n",
       "[100 rows x 10 columns]"
      ]
     },
     "execution_count": 1,
     "metadata": {},
     "output_type": "execute_result"
    }
   ],
   "source": [
    "# Solution to Question 1\n",
    "import pandas as pd\n",
    "df = pd.read_csv( 'senate_2022.csv' )\n",
    "df"
   ]
  },
  {
   "cell_type": "markdown",
   "metadata": {
    "deepnote_cell_height": 108.390625,
    "deepnote_cell_type": "markdown",
    "tags": []
   },
   "source": [
    "## Question 2\n",
    "\n",
    "Make a list of the states that have Senate elections this year."
   ]
  },
  {
   "cell_type": "code",
   "execution_count": 2,
   "metadata": {
    "deepnote_cell_height": 245.3125,
    "deepnote_cell_type": "code",
    "deepnote_output_heights": [
     135.3125
    ],
    "deepnote_to_be_reexecuted": false,
    "execution_millis": 2,
    "execution_start": 1664650685763,
    "source_hash": "880af3a6",
    "tags": []
   },
   "outputs": [
    {
     "data": {
      "text/plain": [
       "array(['Alabama', 'Alaska', 'Arizona', 'Arkansas', 'California',\n",
       "       'Colorado', 'Connecticut', 'Florida', 'Georgia', 'Hawaii', 'Idaho',\n",
       "       'Illinois', 'Indiana', 'Iowa', 'Kansas', 'Kentucky', 'Louisiana',\n",
       "       'Maryland', 'Missouri', 'Nevada', 'New Hampshire', 'New York',\n",
       "       'North Carolina', 'North Dakota', 'Ohio', 'Oklahoma', 'Oregon',\n",
       "       'Pennsylvania', 'South Carolina', 'South Dakota', 'Utah',\n",
       "       'Vermont', 'Washington', 'Wisconsin'], dtype=object)"
      ]
     },
     "execution_count": 2,
     "metadata": {},
     "output_type": "execute_result"
    }
   ],
   "source": [
    "# Solution to Question 2\n",
    "df[df.Election == 2022].State.unique()"
   ]
  },
  {
   "cell_type": "markdown",
   "metadata": {
    "deepnote_cell_height": 108.390625,
    "deepnote_cell_type": "markdown",
    "tags": []
   },
   "source": [
    "## Question 3\n",
    "\n",
    "What is the political make up of the US Senate?"
   ]
  },
  {
   "cell_type": "code",
   "execution_count": 3,
   "metadata": {
    "deepnote_cell_height": 188,
    "deepnote_cell_type": "code",
    "deepnote_output_heights": [
     77.75
    ],
    "deepnote_to_be_reexecuted": false,
    "execution_millis": 2,
    "execution_start": 1664650685807,
    "source_hash": "e12b4569",
    "tags": []
   },
   "outputs": [
    {
     "data": {
      "text/plain": [
       "Republican     50\n",
       "Democratic     48\n",
       "Independent     2\n",
       "Name: Party, dtype: int64"
      ]
     },
     "execution_count": 3,
     "metadata": {},
     "output_type": "execute_result"
    }
   ],
   "source": [
    "# Solution to Question 3\n",
    "df.Party.value_counts()"
   ]
  },
  {
   "cell_type": "markdown",
   "metadata": {
    "deepnote_cell_height": 108.390625,
    "deepnote_cell_type": "markdown",
    "tags": []
   },
   "source": [
    "## Question 4\n",
    "\n",
    "Which senators have a JD?"
   ]
  },
  {
   "cell_type": "code",
   "execution_count": 4,
   "metadata": {
    "deepnote_cell_height": 630,
    "deepnote_cell_type": "code",
    "deepnote_to_be_reexecuted": false,
    "execution_millis": 23,
    "execution_start": 1664650685808,
    "source_hash": "c5abbf9b",
    "tags": []
   },
   "outputs": [
    {
     "data": {
      "application/vnd.deepnote.dataframe.v3+json": {
       "column_count": 10,
       "columns": [
        {
         "dtype": "object",
         "name": "Name",
         "stats": {
          "categories": [
           {
            "count": 1,
            "name": "Richard Shelby"
           },
           {
            "count": 1,
            "name": "Lisa Murkowski"
           },
           {
            "count": 48,
            "name": "48 others"
           }
          ],
          "nan_count": 0,
          "unique_count": 50
         }
        },
        {
         "dtype": "object",
         "name": "State",
         "stats": {
          "categories": [
           {
            "count": 2,
            "name": "Alaska"
           },
           {
            "count": 2,
            "name": "Connecticut"
           },
           {
            "count": 46,
            "name": "36 others"
           }
          ],
          "nan_count": 0,
          "unique_count": 38
         }
        },
        {
         "dtype": "object",
         "name": "Party",
         "stats": {
          "categories": [
           {
            "count": 27,
            "name": "Democratic"
           },
           {
            "count": 22,
            "name": "Republican"
           },
           {
            "count": 1,
            "name": "Independent"
           }
          ],
          "nan_count": 0,
          "unique_count": 3
         }
        },
        {
         "dtype": "object",
         "name": "BirthDate",
         "stats": {
          "categories": [
           {
            "count": 1,
            "name": "May 6, 1934 (age 88)"
           },
           {
            "count": 1,
            "name": "May 22, 1957 (age 65)"
           },
           {
            "count": 48,
            "name": "48 others"
           }
          ],
          "nan_count": 0,
          "unique_count": 50
         }
        },
        {
         "dtype": "object",
         "name": "Occupation",
         "stats": {
          "categories": [
           {
            "count": 16,
            "name": "Lawyer"
           },
           {
            "count": 2,
            "name": "Lawyer, Professor"
           },
           {
            "count": 32,
            "name": "32 others"
           }
          ],
          "nan_count": 0,
          "unique_count": 34
         }
        },
        {
         "dtype": "object",
         "name": "PreviousOffice",
         "stats": {
          "categories": [
           {
            "count": 6,
            "name": "U.S. House"
           },
           {
            "count": 5,
            "name": "None"
           },
           {
            "count": 39,
            "name": "39 others"
           }
          ],
          "nan_count": 0,
          "unique_count": 41
         }
        },
        {
         "dtype": "object",
         "name": "Education",
         "stats": {
          "categories": [
           {
            "count": 2,
            "name": "Harvard University (AB, JD)"
           },
           {
            "count": 1,
            "name": "University of Alabama (BA, LLB), Birmingham School of Law (JD)"
           },
           {
            "count": 47,
            "name": "47 others"
           }
          ],
          "nan_count": 0,
          "unique_count": 49
         }
        },
        {
         "dtype": "object",
         "name": "AssumedOffice",
         "stats": {
          "categories": [
           {
            "count": 7,
            "name": "3-Jan-13"
           },
           {
            "count": 5,
            "name": "3-Jan-11"
           },
           {
            "count": 38,
            "name": "23 others"
           }
          ],
          "nan_count": 0,
          "unique_count": 25
         }
        },
        {
         "dtype": "int64",
         "name": "Election",
         "stats": {
          "histogram": [
           {
            "bin_end": 2022.4,
            "bin_start": 2022,
            "count": 17
           },
           {
            "bin_end": 2022.8,
            "bin_start": 2022.4,
            "count": 0
           },
           {
            "bin_end": 2023.2,
            "bin_start": 2022.8,
            "count": 0
           },
           {
            "bin_end": 2023.6,
            "bin_start": 2023.2,
            "count": 0
           },
           {
            "bin_end": 2024,
            "bin_start": 2023.6,
            "count": 0
           },
           {
            "bin_end": 2024.4,
            "bin_start": 2024,
            "count": 18
           },
           {
            "bin_end": 2024.8,
            "bin_start": 2024.4,
            "count": 0
           },
           {
            "bin_end": 2025.2,
            "bin_start": 2024.8,
            "count": 0
           },
           {
            "bin_end": 2025.6,
            "bin_start": 2025.2,
            "count": 0
           },
           {
            "bin_end": 2026,
            "bin_start": 2025.6,
            "count": 15
           }
          ],
          "max": "2026",
          "min": "2022",
          "nan_count": 0,
          "unique_count": 3
         }
        },
        {
         "dtype": "object",
         "name": "Residence",
         "stats": {
          "categories": [
           {
            "count": 1,
            "name": "Tuscaloosa"
           },
           {
            "count": 1,
            "name": "Girdwood"
           },
           {
            "count": 48,
            "name": "48 others"
           }
          ],
          "nan_count": 0,
          "unique_count": 50
         }
        },
        {
         "dtype": "int64",
         "name": "_deepnote_index_column"
        }
       ],
       "row_count": 50,
       "rows": [
        {
         "AssumedOffice": "3-Jan-87",
         "BirthDate": "May 6, 1934 (age 88)",
         "Education": "University of Alabama (BA, LLB), Birmingham School of Law (JD)",
         "Election": "2022",
         "Name": "Richard Shelby",
         "Occupation": "Lawyer",
         "Party": "Republican",
         "PreviousOffice": "U.S. House, Alabama Senate",
         "Residence": "Tuscaloosa",
         "State": "Alabama",
         "_deepnote_index_column": "0"
        },
        {
         "AssumedOffice": "20-Dec-02",
         "BirthDate": "May 22, 1957 (age 65)",
         "Education": "Georgetown University (AB), Willamette University (JD)",
         "Election": "2022",
         "Name": "Lisa Murkowski",
         "Occupation": "Lawyer",
         "Party": "Republican",
         "PreviousOffice": "Alaska House of Representatives",
         "Residence": "Girdwood",
         "State": "Alaska",
         "_deepnote_index_column": "2"
        },
        {
         "AssumedOffice": "3-Jan-15",
         "BirthDate": "November 13, 1964 (age 57)",
         "Education": "Harvard University (AB), Georgetown University (MS, JD)",
         "Election": "2026",
         "Name": "Dan Sullivan",
         "Occupation": "U.S. Marine Corps officer, Lawyer, Assistant Secretary of State for Economic and Business Affairs",
         "Party": "Republican",
         "PreviousOffice": "Alaska Attorney General",
         "Residence": "Anchorage",
         "State": "Alaska",
         "_deepnote_index_column": "3"
        },
        {
         "AssumedOffice": "3-Jan-19",
         "BirthDate": "July 12, 1976 (age 46)",
         "Education": "Brigham Young University (BA), Arizona State University, Tempe (MSW, JD, PhD)",
         "Election": "2024",
         "Name": "Kyrsten Sinema",
         "Occupation": "Social worker, Political activist, Lawyer, College lecturer",
         "Party": "Democratic",
         "PreviousOffice": "U.S. House, Arizona Senate, Arizona House of Representatives",
         "Residence": "Phoenix",
         "State": "Arizona",
         "_deepnote_index_column": "4"
        },
        {
         "AssumedOffice": "3-Jan-15",
         "BirthDate": "May 13, 1977 (age 45)",
         "Education": "Harvard University (AB, JD)",
         "Election": "2026",
         "Name": "Tom Cotton",
         "Occupation": "Lawyer, United States Army officer",
         "Party": "Republican",
         "PreviousOffice": "U.S. House",
         "Residence": "Dardanelle",
         "State": "Arkansas",
         "_deepnote_index_column": "7"
        },
        {
         "AssumedOffice": "21-Jan-09",
         "BirthDate": "November 28, 1964 (age 57)",
         "Education": "Wesleyan University (BA), Yale University (JD)",
         "Election": "2022",
         "Name": "Michael Bennet",
         "Occupation": "Lawyer, Investment company executive, Denver Public SchoolsSuperintendent, Chief of staff to the Mayor of Denver",
         "Party": "Democratic",
         "PreviousOffice": "None",
         "Residence": "Denver",
         "State": "Colorado",
         "_deepnote_index_column": "10"
        },
        {
         "AssumedOffice": "3-Jan-11",
         "BirthDate": "February 13, 1946 (age 76)",
         "Education": "Harvard University (AB), Trinity College, Cambridge, Yale University (JD)",
         "Election": "2022",
         "Name": "Richard Blumenthal",
         "Occupation": "Marine Corps Reserve Sergeant, Senate staffer, Lawyer, U.S. Attorney",
         "Party": "Democratic",
         "PreviousOffice": "Connecticut Attorney General, Connecticut Senate, Connecticut House of Representatives",
         "Residence": "Greenwich",
         "State": "Connecticut",
         "_deepnote_index_column": "12"
        },
        {
         "AssumedOffice": "3-Jan-13",
         "BirthDate": "August 3, 1973 (age 49)",
         "Education": "Williams College (BA), Exeter College, Oxford, University of Connecticut (JD)",
         "Election": "2024",
         "Name": "Chris Murphy",
         "Occupation": "Lawyer, Political campaign manager",
         "Party": "Democratic",
         "PreviousOffice": "U.S. House, Connecticut Senate, Connecticut House of Representatives",
         "Residence": "Hartford",
         "State": "Connecticut",
         "_deepnote_index_column": "13"
        },
        {
         "AssumedOffice": "15-Nov-10",
         "BirthDate": "September 9, 1963 (age 59)",
         "Education": "Amherst College (BA), Yale University (MAR, JD)",
         "Election": "2026",
         "Name": "Chris Coons",
         "Occupation": "Nonprofit organization executive, Lawyer",
         "Party": "Democratic",
         "PreviousOffice": "New Castle County, Delaware County Executive, New Castle County Council",
         "Residence": "Wilmington",
         "State": "Delaware",
         "_deepnote_index_column": "15"
        },
        {
         "AssumedOffice": "3-Jan-11",
         "BirthDate": "May 28, 1971 (age 51)",
         "Education": "University of Florida (BA), University of Miami (JD)",
         "Election": "2022",
         "Name": "Marco Rubio",
         "Occupation": "Lawyer",
         "Party": "Republican",
         "PreviousOffice": "Florida House Speaker, West Miami City Commission",
         "Residence": "West Miami",
         "State": "Florida",
         "_deepnote_index_column": "16"
        }
       ]
      },
      "text/html": [
       "<div>\n",
       "<style scoped>\n",
       "    .dataframe tbody tr th:only-of-type {\n",
       "        vertical-align: middle;\n",
       "    }\n",
       "\n",
       "    .dataframe tbody tr th {\n",
       "        vertical-align: top;\n",
       "    }\n",
       "\n",
       "    .dataframe thead th {\n",
       "        text-align: right;\n",
       "    }\n",
       "</style>\n",
       "<table border=\"1\" class=\"dataframe\">\n",
       "  <thead>\n",
       "    <tr style=\"text-align: right;\">\n",
       "      <th></th>\n",
       "      <th>Name</th>\n",
       "      <th>State</th>\n",
       "      <th>Party</th>\n",
       "      <th>BirthDate</th>\n",
       "      <th>Occupation</th>\n",
       "      <th>PreviousOffice</th>\n",
       "      <th>Education</th>\n",
       "      <th>AssumedOffice</th>\n",
       "      <th>Election</th>\n",
       "      <th>Residence</th>\n",
       "    </tr>\n",
       "  </thead>\n",
       "  <tbody>\n",
       "    <tr>\n",
       "      <th>0</th>\n",
       "      <td>Richard Shelby</td>\n",
       "      <td>Alabama</td>\n",
       "      <td>Republican</td>\n",
       "      <td>May 6, 1934 (age 88)</td>\n",
       "      <td>Lawyer</td>\n",
       "      <td>U.S. House, Alabama Senate</td>\n",
       "      <td>University of Alabama (BA, LLB), Birmingham Sc...</td>\n",
       "      <td>3-Jan-87</td>\n",
       "      <td>2022</td>\n",
       "      <td>Tuscaloosa</td>\n",
       "    </tr>\n",
       "    <tr>\n",
       "      <th>2</th>\n",
       "      <td>Lisa Murkowski</td>\n",
       "      <td>Alaska</td>\n",
       "      <td>Republican</td>\n",
       "      <td>May 22, 1957 (age 65)</td>\n",
       "      <td>Lawyer</td>\n",
       "      <td>Alaska House of Representatives</td>\n",
       "      <td>Georgetown University (AB), Willamette Univers...</td>\n",
       "      <td>20-Dec-02</td>\n",
       "      <td>2022</td>\n",
       "      <td>Girdwood</td>\n",
       "    </tr>\n",
       "    <tr>\n",
       "      <th>3</th>\n",
       "      <td>Dan Sullivan</td>\n",
       "      <td>Alaska</td>\n",
       "      <td>Republican</td>\n",
       "      <td>November 13, 1964 (age 57)</td>\n",
       "      <td>U.S. Marine Corps officer, Lawyer, Assistant S...</td>\n",
       "      <td>Alaska Attorney General</td>\n",
       "      <td>Harvard University (AB), Georgetown University...</td>\n",
       "      <td>3-Jan-15</td>\n",
       "      <td>2026</td>\n",
       "      <td>Anchorage</td>\n",
       "    </tr>\n",
       "    <tr>\n",
       "      <th>4</th>\n",
       "      <td>Kyrsten Sinema</td>\n",
       "      <td>Arizona</td>\n",
       "      <td>Democratic</td>\n",
       "      <td>July 12, 1976 (age 46)</td>\n",
       "      <td>Social worker, Political activist, Lawyer, Col...</td>\n",
       "      <td>U.S. House, Arizona Senate, Arizona House of R...</td>\n",
       "      <td>Brigham Young University (BA), Arizona State U...</td>\n",
       "      <td>3-Jan-19</td>\n",
       "      <td>2024</td>\n",
       "      <td>Phoenix</td>\n",
       "    </tr>\n",
       "    <tr>\n",
       "      <th>7</th>\n",
       "      <td>Tom Cotton</td>\n",
       "      <td>Arkansas</td>\n",
       "      <td>Republican</td>\n",
       "      <td>May 13, 1977 (age 45)</td>\n",
       "      <td>Lawyer, United States Army officer</td>\n",
       "      <td>U.S. House</td>\n",
       "      <td>Harvard University (AB, JD)</td>\n",
       "      <td>3-Jan-15</td>\n",
       "      <td>2026</td>\n",
       "      <td>Dardanelle</td>\n",
       "    </tr>\n",
       "    <tr>\n",
       "      <th>10</th>\n",
       "      <td>Michael Bennet</td>\n",
       "      <td>Colorado</td>\n",
       "      <td>Democratic</td>\n",
       "      <td>November 28, 1964 (age 57)</td>\n",
       "      <td>Lawyer, Investment company executive, Denver P...</td>\n",
       "      <td>None</td>\n",
       "      <td>Wesleyan University (BA), Yale University (JD)</td>\n",
       "      <td>21-Jan-09</td>\n",
       "      <td>2022</td>\n",
       "      <td>Denver</td>\n",
       "    </tr>\n",
       "    <tr>\n",
       "      <th>12</th>\n",
       "      <td>Richard Blumenthal</td>\n",
       "      <td>Connecticut</td>\n",
       "      <td>Democratic</td>\n",
       "      <td>February 13, 1946 (age 76)</td>\n",
       "      <td>Marine Corps Reserve Sergeant, Senate staffer,...</td>\n",
       "      <td>Connecticut Attorney General, Connecticut Sena...</td>\n",
       "      <td>Harvard University (AB), Trinity College, Camb...</td>\n",
       "      <td>3-Jan-11</td>\n",
       "      <td>2022</td>\n",
       "      <td>Greenwich</td>\n",
       "    </tr>\n",
       "    <tr>\n",
       "      <th>13</th>\n",
       "      <td>Chris Murphy</td>\n",
       "      <td>Connecticut</td>\n",
       "      <td>Democratic</td>\n",
       "      <td>August 3, 1973 (age 49)</td>\n",
       "      <td>Lawyer, Political campaign manager</td>\n",
       "      <td>U.S. House, Connecticut Senate, Connecticut Ho...</td>\n",
       "      <td>Williams College (BA), Exeter College, Oxford,...</td>\n",
       "      <td>3-Jan-13</td>\n",
       "      <td>2024</td>\n",
       "      <td>Hartford</td>\n",
       "    </tr>\n",
       "    <tr>\n",
       "      <th>15</th>\n",
       "      <td>Chris Coons</td>\n",
       "      <td>Delaware</td>\n",
       "      <td>Democratic</td>\n",
       "      <td>September 9, 1963 (age 59)</td>\n",
       "      <td>Nonprofit organization executive, Lawyer</td>\n",
       "      <td>New Castle County, Delaware County Executive, ...</td>\n",
       "      <td>Amherst College (BA), Yale University (MAR, JD)</td>\n",
       "      <td>15-Nov-10</td>\n",
       "      <td>2026</td>\n",
       "      <td>Wilmington</td>\n",
       "    </tr>\n",
       "    <tr>\n",
       "      <th>16</th>\n",
       "      <td>Marco Rubio</td>\n",
       "      <td>Florida</td>\n",
       "      <td>Republican</td>\n",
       "      <td>May 28, 1971 (age 51)</td>\n",
       "      <td>Lawyer</td>\n",
       "      <td>Florida House Speaker, West Miami City Commission</td>\n",
       "      <td>University of Florida (BA), University of Miam...</td>\n",
       "      <td>3-Jan-11</td>\n",
       "      <td>2022</td>\n",
       "      <td>West Miami</td>\n",
       "    </tr>\n",
       "    <tr>\n",
       "      <th>17</th>\n",
       "      <td>Rick Scott</td>\n",
       "      <td>Florida</td>\n",
       "      <td>Republican</td>\n",
       "      <td>December 1, 1952 (age 69)</td>\n",
       "      <td>U.S. Navy officer, Lawyer, Columbia/HCA CEO, V...</td>\n",
       "      <td>Governor of Florida</td>\n",
       "      <td>University of Missouri-Kansas City (BS), South...</td>\n",
       "      <td>8-Jan-19</td>\n",
       "      <td>2024</td>\n",
       "      <td>Naples</td>\n",
       "    </tr>\n",
       "    <tr>\n",
       "      <th>21</th>\n",
       "      <td>Mazie Hirono</td>\n",
       "      <td>Hawaii</td>\n",
       "      <td>Democratic</td>\n",
       "      <td>November 3, 1947 (age 74)</td>\n",
       "      <td>Lawyer</td>\n",
       "      <td>U.S. House, Lieutenant Governor of Hawaii, Haw...</td>\n",
       "      <td>University of Hawaii at Manoa (BA), Georgetown...</td>\n",
       "      <td>3-Jan-13</td>\n",
       "      <td>2024</td>\n",
       "      <td>Honolulu</td>\n",
       "    </tr>\n",
       "    <tr>\n",
       "      <th>22</th>\n",
       "      <td>Mike Crapo</td>\n",
       "      <td>Idaho</td>\n",
       "      <td>Republican</td>\n",
       "      <td>May 20, 1951 (age 71)</td>\n",
       "      <td>Lawyer</td>\n",
       "      <td>U.S. House, Idaho Senate</td>\n",
       "      <td>Brigham Young University (BA), Harvard Univers...</td>\n",
       "      <td>3-Jan-99</td>\n",
       "      <td>2022</td>\n",
       "      <td>Idaho Falls</td>\n",
       "    </tr>\n",
       "    <tr>\n",
       "      <th>23</th>\n",
       "      <td>Jim Risch</td>\n",
       "      <td>Idaho</td>\n",
       "      <td>Republican</td>\n",
       "      <td>May 3, 1943 (age 79)</td>\n",
       "      <td>Professor, Rancher, Nonprofit organization exe...</td>\n",
       "      <td>Governor of Idaho, Lieutenant Governor of Idah...</td>\n",
       "      <td>University of Wisconsin-Milwaukee, University ...</td>\n",
       "      <td>3-Jan-09</td>\n",
       "      <td>2026</td>\n",
       "      <td>Boise</td>\n",
       "    </tr>\n",
       "    <tr>\n",
       "      <th>24</th>\n",
       "      <td>Dick Durbin</td>\n",
       "      <td>Illinois</td>\n",
       "      <td>Democratic</td>\n",
       "      <td>November 21, 1944 (age 77)</td>\n",
       "      <td>Lawyer, Professor</td>\n",
       "      <td>U.S. House</td>\n",
       "      <td>Georgetown University (BS, JD)</td>\n",
       "      <td>3-Jan-97</td>\n",
       "      <td>2026</td>\n",
       "      <td>Springfield</td>\n",
       "    </tr>\n",
       "    <tr>\n",
       "      <th>26</th>\n",
       "      <td>Todd Young</td>\n",
       "      <td>Indiana</td>\n",
       "      <td>Republican</td>\n",
       "      <td>August 24, 1972 (age 50)</td>\n",
       "      <td>Marine Corps officer, Professor, Management co...</td>\n",
       "      <td>U.S. House</td>\n",
       "      <td>United States Naval Academy (BS), University o...</td>\n",
       "      <td>3-Jan-17</td>\n",
       "      <td>2022</td>\n",
       "      <td>Bloomington</td>\n",
       "    </tr>\n",
       "    <tr>\n",
       "      <th>30</th>\n",
       "      <td>Jerry Moran</td>\n",
       "      <td>Kansas</td>\n",
       "      <td>Republican</td>\n",
       "      <td>May 29, 1954 (age 68)</td>\n",
       "      <td>Banker, Lawyer</td>\n",
       "      <td>U.S. House, Kansas Senate</td>\n",
       "      <td>Fort Hays State University, University of Kans...</td>\n",
       "      <td>3-Jan-11</td>\n",
       "      <td>2022</td>\n",
       "      <td>Manhattan</td>\n",
       "    </tr>\n",
       "    <tr>\n",
       "      <th>32</th>\n",
       "      <td>Mitch McConnell</td>\n",
       "      <td>Kentucky</td>\n",
       "      <td>Republican</td>\n",
       "      <td>February 20, 1942 (age 80)</td>\n",
       "      <td>Lawyer, U.S. Senate staff member, United State...</td>\n",
       "      <td>Judge/Executive of Jefferson County, Kentucky</td>\n",
       "      <td>University of Louisville (BA), University of K...</td>\n",
       "      <td>3-Jan-85</td>\n",
       "      <td>2026</td>\n",
       "      <td>Louisville</td>\n",
       "    </tr>\n",
       "    <tr>\n",
       "      <th>35</th>\n",
       "      <td>John Kennedy</td>\n",
       "      <td>Louisiana</td>\n",
       "      <td>Republican</td>\n",
       "      <td>November 21, 1951 (age 70)</td>\n",
       "      <td>Magazine editor, Lawyer, Professor, Staff of L...</td>\n",
       "      <td>Louisiana Treasurer</td>\n",
       "      <td>Vanderbilt University (BA), University of Virg...</td>\n",
       "      <td>3-Jan-17</td>\n",
       "      <td>2022</td>\n",
       "      <td>Madisonville</td>\n",
       "    </tr>\n",
       "    <tr>\n",
       "      <th>37</th>\n",
       "      <td>Angus King</td>\n",
       "      <td>Maine</td>\n",
       "      <td>Independent</td>\n",
       "      <td>March 31, 1944 (age 78)</td>\n",
       "      <td>Lawyer, Senate staffer, Entrepreneur, Corporat...</td>\n",
       "      <td>Governor of Maine</td>\n",
       "      <td>Dartmouth College (BA), University of Virginia...</td>\n",
       "      <td>3-Jan-13</td>\n",
       "      <td>2024</td>\n",
       "      <td>Brunswick</td>\n",
       "    </tr>\n",
       "    <tr>\n",
       "      <th>38</th>\n",
       "      <td>Ben Cardin</td>\n",
       "      <td>Maryland</td>\n",
       "      <td>Democratic</td>\n",
       "      <td>October 5, 1943 (age 78)</td>\n",
       "      <td>Lawyer</td>\n",
       "      <td>U.S. House, Speaker of the Maryland House of D...</td>\n",
       "      <td>University of Pittsburgh (BA), University of M...</td>\n",
       "      <td>3-Jan-07</td>\n",
       "      <td>2024</td>\n",
       "      <td>Baltimore</td>\n",
       "    </tr>\n",
       "    <tr>\n",
       "      <th>39</th>\n",
       "      <td>Chris Van Hollen</td>\n",
       "      <td>Maryland</td>\n",
       "      <td>Democratic</td>\n",
       "      <td>January 10, 1959 (age 63)</td>\n",
       "      <td>U.S. Senate staff member, Maryland Governor's ...</td>\n",
       "      <td>U.S. House, Maryland Senate, Maryland House of...</td>\n",
       "      <td>Swarthmore College (BA), Harvard University (M...</td>\n",
       "      <td>3-Jan-17</td>\n",
       "      <td>2022</td>\n",
       "      <td>Kensington</td>\n",
       "    </tr>\n",
       "    <tr>\n",
       "      <th>40</th>\n",
       "      <td>Elizabeth Warren</td>\n",
       "      <td>Massachusetts</td>\n",
       "      <td>Democratic</td>\n",
       "      <td>June 22, 1949 (age 73)</td>\n",
       "      <td>Lawyer, Professor, Research associate, Nonprof...</td>\n",
       "      <td>None</td>\n",
       "      <td>George Washington University, University of Ho...</td>\n",
       "      <td>3-Jan-13</td>\n",
       "      <td>2024</td>\n",
       "      <td>Cambridge</td>\n",
       "    </tr>\n",
       "    <tr>\n",
       "      <th>41</th>\n",
       "      <td>Ed Markey</td>\n",
       "      <td>Massachusetts</td>\n",
       "      <td>Democratic</td>\n",
       "      <td>July 11, 1946 (age 76)</td>\n",
       "      <td>United States Army Reserve, Lawyer</td>\n",
       "      <td>U.S. House, Massachusetts House of Representat...</td>\n",
       "      <td>Boston College (BA, JD)</td>\n",
       "      <td>16-Jul-13</td>\n",
       "      <td>2026</td>\n",
       "      <td>Malden</td>\n",
       "    </tr>\n",
       "    <tr>\n",
       "      <th>43</th>\n",
       "      <td>Gary Peters</td>\n",
       "      <td>Michigan</td>\n",
       "      <td>Democratic</td>\n",
       "      <td>December 1, 1958 (age 63)</td>\n",
       "      <td>United States Navy Reserve officer, Financial ...</td>\n",
       "      <td>U.S. House, Michigan Senate</td>\n",
       "      <td>Alma College (BA), University of Detroit (MBA)...</td>\n",
       "      <td>3-Jan-15</td>\n",
       "      <td>2026</td>\n",
       "      <td>Bloomfield Hills</td>\n",
       "    </tr>\n",
       "    <tr>\n",
       "      <th>44</th>\n",
       "      <td>Amy Klobuchar</td>\n",
       "      <td>Minnesota</td>\n",
       "      <td>Democratic</td>\n",
       "      <td>May 25, 1960 (age 62)</td>\n",
       "      <td>Lawyer</td>\n",
       "      <td>Hennepin County, Minnesota County Attorney</td>\n",
       "      <td>Yale University (BA), University of Chicago (JD)</td>\n",
       "      <td>3-Jan-07</td>\n",
       "      <td>2024</td>\n",
       "      <td>Minneapolis</td>\n",
       "    </tr>\n",
       "    <tr>\n",
       "      <th>46</th>\n",
       "      <td>Roger Wicker</td>\n",
       "      <td>Mississippi</td>\n",
       "      <td>Republican</td>\n",
       "      <td>July 5, 1951 (age 71)</td>\n",
       "      <td>U.S. Air Force officer/Judge Advocate, U.S. Ho...</td>\n",
       "      <td>U.S. House, Mississippi Senate</td>\n",
       "      <td>University of Mississippi (BA, JD)</td>\n",
       "      <td>31-Dec-07</td>\n",
       "      <td>2024</td>\n",
       "      <td>Tupelo</td>\n",
       "    </tr>\n",
       "    <tr>\n",
       "      <th>49</th>\n",
       "      <td>Josh Hawley</td>\n",
       "      <td>Missouri</td>\n",
       "      <td>Republican</td>\n",
       "      <td>December 31, 1979 (age 42)</td>\n",
       "      <td>Lawyer, Professor</td>\n",
       "      <td>Attorney General of Missouri</td>\n",
       "      <td>Stanford University (BA), Yale University (JD)</td>\n",
       "      <td>3-Jan-19</td>\n",
       "      <td>2024</td>\n",
       "      <td>Ozark</td>\n",
       "    </tr>\n",
       "    <tr>\n",
       "      <th>54</th>\n",
       "      <td>Catherine Cortez Masto</td>\n",
       "      <td>Nevada</td>\n",
       "      <td>Democratic</td>\n",
       "      <td>March 29, 1964 (age 58)</td>\n",
       "      <td>Lawyer</td>\n",
       "      <td>Nevada Attorney General</td>\n",
       "      <td>University of Nevada, Reno (BS), Gonzaga Unive...</td>\n",
       "      <td>3-Jan-17</td>\n",
       "      <td>2022</td>\n",
       "      <td>Las Vegas</td>\n",
       "    </tr>\n",
       "    <tr>\n",
       "      <th>57</th>\n",
       "      <td>Maggie Hassan</td>\n",
       "      <td>New Hampshire</td>\n",
       "      <td>Democratic</td>\n",
       "      <td>February 27, 1958 (age 64)</td>\n",
       "      <td>Lawyer</td>\n",
       "      <td>Governor of New Hampshire, New Hampshire Senate</td>\n",
       "      <td>Brown University (BA), Northeastern University...</td>\n",
       "      <td>3-Jan-17</td>\n",
       "      <td>2022</td>\n",
       "      <td>Newfields</td>\n",
       "    </tr>\n",
       "    <tr>\n",
       "      <th>58</th>\n",
       "      <td>Bob Menendez</td>\n",
       "      <td>New Jersey</td>\n",
       "      <td>Democratic</td>\n",
       "      <td>January 1, 1954 (age 68)</td>\n",
       "      <td>Lawyer</td>\n",
       "      <td>U.S. House, New Jersey Senate, New Jersey Gene...</td>\n",
       "      <td>Saint Peter's University (BA), Rutgers Univers...</td>\n",
       "      <td>17-Jan-06</td>\n",
       "      <td>2024</td>\n",
       "      <td>Harrison</td>\n",
       "    </tr>\n",
       "    <tr>\n",
       "      <th>59</th>\n",
       "      <td>Cory Booker</td>\n",
       "      <td>New Jersey</td>\n",
       "      <td>Democratic</td>\n",
       "      <td>April 27, 1969 (age 53)</td>\n",
       "      <td>Lawyer</td>\n",
       "      <td>Mayor of Newark, New Jersey, Newark Municipal ...</td>\n",
       "      <td>Stanford University (BA, MA), Queen's College,...</td>\n",
       "      <td>31-Oct-13</td>\n",
       "      <td>2026</td>\n",
       "      <td>Newark</td>\n",
       "    </tr>\n",
       "    <tr>\n",
       "      <th>62</th>\n",
       "      <td>Chuck Schumer</td>\n",
       "      <td>New York</td>\n",
       "      <td>Democratic</td>\n",
       "      <td>November 23, 1950 (age 71)</td>\n",
       "      <td>Lawyer</td>\n",
       "      <td>U.S. House, New York State Assembly</td>\n",
       "      <td>Harvard University (AB, JD)</td>\n",
       "      <td>3-Jan-99</td>\n",
       "      <td>2022</td>\n",
       "      <td>Brooklyn</td>\n",
       "    </tr>\n",
       "    <tr>\n",
       "      <th>63</th>\n",
       "      <td>Kirsten Gillibrand</td>\n",
       "      <td>New York</td>\n",
       "      <td>Democratic</td>\n",
       "      <td>December 9, 1966 (age 55)</td>\n",
       "      <td>Lawyer, U.S. HUD special counsel</td>\n",
       "      <td>U.S. House</td>\n",
       "      <td>Dartmouth College (BA), University of Californ...</td>\n",
       "      <td>26-Jan-09</td>\n",
       "      <td>2024</td>\n",
       "      <td>Albany</td>\n",
       "    </tr>\n",
       "    <tr>\n",
       "      <th>69</th>\n",
       "      <td>Rob Portman</td>\n",
       "      <td>Ohio</td>\n",
       "      <td>Republican</td>\n",
       "      <td>December 19, 1955 (age 66)</td>\n",
       "      <td>Lawyer, U.S. Trade Representative, Director of...</td>\n",
       "      <td>U.S. House</td>\n",
       "      <td>Dartmouth College (BA), University of Michigan...</td>\n",
       "      <td>3-Jan-11</td>\n",
       "      <td>2022</td>\n",
       "      <td>Terrace Park</td>\n",
       "    </tr>\n",
       "    <tr>\n",
       "      <th>72</th>\n",
       "      <td>Ron Wyden</td>\n",
       "      <td>Oregon</td>\n",
       "      <td>Democratic</td>\n",
       "      <td>May 3, 1949 (age 73)</td>\n",
       "      <td>Teacher, Nonprofit organization executive</td>\n",
       "      <td>U.S. House</td>\n",
       "      <td>Stanford University (BA), University of Oregon...</td>\n",
       "      <td>5-Feb-96</td>\n",
       "      <td>2022</td>\n",
       "      <td>Portland</td>\n",
       "    </tr>\n",
       "    <tr>\n",
       "      <th>74</th>\n",
       "      <td>Bob Casey Jr.</td>\n",
       "      <td>Pennsylvania</td>\n",
       "      <td>Democratic</td>\n",
       "      <td>April 13, 1960 (age 62)</td>\n",
       "      <td>Teacher, Lawyer</td>\n",
       "      <td>Pennsylvania Treasurer, Pennsylvania Auditor</td>\n",
       "      <td>College of the Holy Cross (BA), Catholic Unive...</td>\n",
       "      <td>3-Jan-07</td>\n",
       "      <td>2024</td>\n",
       "      <td>Scranton</td>\n",
       "    </tr>\n",
       "    <tr>\n",
       "      <th>76</th>\n",
       "      <td>Jack Reed</td>\n",
       "      <td>Rhode Island</td>\n",
       "      <td>Democratic</td>\n",
       "      <td>November 12, 1949 (age 72)</td>\n",
       "      <td>Lawyer, U.S. Army Reserve officer, U.S. Army o...</td>\n",
       "      <td>U.S. House, Rhode Island Senate</td>\n",
       "      <td>United States Military Academy (BS), Harvard U...</td>\n",
       "      <td>3-Jan-97</td>\n",
       "      <td>2026</td>\n",
       "      <td>Jamestown</td>\n",
       "    </tr>\n",
       "    <tr>\n",
       "      <th>77</th>\n",
       "      <td>Sheldon Whitehouse</td>\n",
       "      <td>Rhode Island</td>\n",
       "      <td>Democratic</td>\n",
       "      <td>October 20, 1955 (age 66)</td>\n",
       "      <td>Lawyer, United States Attorney</td>\n",
       "      <td>Attorney General of Rhode Island</td>\n",
       "      <td>Yale University (BA), University of Virginia (JD)</td>\n",
       "      <td>3-Jan-07</td>\n",
       "      <td>2024</td>\n",
       "      <td>Newport</td>\n",
       "    </tr>\n",
       "    <tr>\n",
       "      <th>78</th>\n",
       "      <td>Lindsey Graham</td>\n",
       "      <td>South Carolina</td>\n",
       "      <td>Republican</td>\n",
       "      <td>July 9, 1955 (age 67)</td>\n",
       "      <td>Lawyer, U.S. Air Force Reserve officer</td>\n",
       "      <td>U.S. House, South Carolina House of Representa...</td>\n",
       "      <td>University of South Carolina (BA, JD)</td>\n",
       "      <td>3-Jan-03</td>\n",
       "      <td>2026</td>\n",
       "      <td>Seneca</td>\n",
       "    </tr>\n",
       "    <tr>\n",
       "      <th>83</th>\n",
       "      <td>Bill Hagerty</td>\n",
       "      <td>Tennessee</td>\n",
       "      <td>Republican</td>\n",
       "      <td>August 14, 1959 (age 63)</td>\n",
       "      <td>Management consultant, Private equity investme...</td>\n",
       "      <td>None</td>\n",
       "      <td>Vanderbilt University (BA, JD)</td>\n",
       "      <td>3-Jan-21</td>\n",
       "      <td>2026</td>\n",
       "      <td>Nashville</td>\n",
       "    </tr>\n",
       "    <tr>\n",
       "      <th>84</th>\n",
       "      <td>John Cornyn</td>\n",
       "      <td>Texas</td>\n",
       "      <td>Republican</td>\n",
       "      <td>February 2, 1952 (age 70)</td>\n",
       "      <td>Lawyer</td>\n",
       "      <td>San Antonio District Judge, Texas Attorney Gen...</td>\n",
       "      <td>Trinity University (BA), St. Mary's University...</td>\n",
       "      <td>2-Dec-02</td>\n",
       "      <td>2026</td>\n",
       "      <td>Austin</td>\n",
       "    </tr>\n",
       "    <tr>\n",
       "      <th>85</th>\n",
       "      <td>Ted Cruz</td>\n",
       "      <td>Texas</td>\n",
       "      <td>Republican</td>\n",
       "      <td>December 22, 1970 (age 51)</td>\n",
       "      <td>Lawyer, U.S. Assoc. Deputy AG, Texas Solicitor...</td>\n",
       "      <td>None</td>\n",
       "      <td>Princeton University (AB), Harvard University ...</td>\n",
       "      <td>3-Jan-13</td>\n",
       "      <td>2024</td>\n",
       "      <td>Houston</td>\n",
       "    </tr>\n",
       "    <tr>\n",
       "      <th>86</th>\n",
       "      <td>Mike Lee</td>\n",
       "      <td>Utah</td>\n",
       "      <td>Republican</td>\n",
       "      <td>June 4, 1971 (age 51)</td>\n",
       "      <td>Lawyer, Governor's general counsel, Assistant ...</td>\n",
       "      <td>None</td>\n",
       "      <td>Brigham Young University (BA, JD)</td>\n",
       "      <td>3-Jan-11</td>\n",
       "      <td>2022</td>\n",
       "      <td>Alpine</td>\n",
       "    </tr>\n",
       "    <tr>\n",
       "      <th>87</th>\n",
       "      <td>Mitt Romney</td>\n",
       "      <td>Utah</td>\n",
       "      <td>Republican</td>\n",
       "      <td>March 12, 1947 (age 75)</td>\n",
       "      <td>Businessman</td>\n",
       "      <td>Governor of Massachusetts</td>\n",
       "      <td>Brigham Young University (BA), Harvard Univers...</td>\n",
       "      <td>3-Jan-19</td>\n",
       "      <td>2024</td>\n",
       "      <td>Holladay</td>\n",
       "    </tr>\n",
       "    <tr>\n",
       "      <th>88</th>\n",
       "      <td>Patrick Leahy</td>\n",
       "      <td>Vermont</td>\n",
       "      <td>Democratic</td>\n",
       "      <td>March 31, 1940 (age 82)</td>\n",
       "      <td>Lawyer</td>\n",
       "      <td>State's Attorney, Chittenden County, Vermont</td>\n",
       "      <td>Saint Michael's College (BA), Georgetown Unive...</td>\n",
       "      <td>3-Jan-75</td>\n",
       "      <td>2022</td>\n",
       "      <td>Middlesex</td>\n",
       "    </tr>\n",
       "    <tr>\n",
       "      <th>90</th>\n",
       "      <td>Mark Warner</td>\n",
       "      <td>Virginia</td>\n",
       "      <td>Democratic</td>\n",
       "      <td>December 15, 1954 (age 67)</td>\n",
       "      <td>Businessman, Venture capitalist, Virginia Demo...</td>\n",
       "      <td>Governor of Virginia</td>\n",
       "      <td>George Washington University (BA), Harvard Uni...</td>\n",
       "      <td>3-Jan-09</td>\n",
       "      <td>2026</td>\n",
       "      <td>Alexandria</td>\n",
       "    </tr>\n",
       "    <tr>\n",
       "      <th>91</th>\n",
       "      <td>Tim Kaine</td>\n",
       "      <td>Virginia</td>\n",
       "      <td>Democratic</td>\n",
       "      <td>February 26, 1958 (age 64)</td>\n",
       "      <td>Missionary, Lawyer, Teacher, Democratic Nation...</td>\n",
       "      <td>Governor of Virginia, Lieutenant Governor of V...</td>\n",
       "      <td>University of Missouri (BA), Harvard Universit...</td>\n",
       "      <td>3-Jan-13</td>\n",
       "      <td>2024</td>\n",
       "      <td>Richmond</td>\n",
       "    </tr>\n",
       "    <tr>\n",
       "      <th>97</th>\n",
       "      <td>Tammy Baldwin</td>\n",
       "      <td>Wisconsin</td>\n",
       "      <td>Democratic</td>\n",
       "      <td>February 11, 1962 (age 60)</td>\n",
       "      <td>Lawyer</td>\n",
       "      <td>U.S. House, Wisconsin Assembly, Dane County, W...</td>\n",
       "      <td>Smith College (BA), University of Wisconsin-Ma...</td>\n",
       "      <td>3-Jan-13</td>\n",
       "      <td>2024</td>\n",
       "      <td>Madison</td>\n",
       "    </tr>\n",
       "    <tr>\n",
       "      <th>99</th>\n",
       "      <td>Cynthia Lummis</td>\n",
       "      <td>Wyoming</td>\n",
       "      <td>Republican</td>\n",
       "      <td>September 10, 1954 (age 68)</td>\n",
       "      <td>Lawyer</td>\n",
       "      <td>U.S. House, Wyoming Treasurer, Wyoming Senate,...</td>\n",
       "      <td>University of Wyoming (BS, JD)</td>\n",
       "      <td>3-Jan-21</td>\n",
       "      <td>2026</td>\n",
       "      <td>Cheyenne</td>\n",
       "    </tr>\n",
       "  </tbody>\n",
       "</table>\n",
       "</div>"
      ],
      "text/plain": [
       "                      Name           State        Party  \\\n",
       "0           Richard Shelby         Alabama   Republican   \n",
       "2           Lisa Murkowski          Alaska   Republican   \n",
       "3             Dan Sullivan          Alaska   Republican   \n",
       "4           Kyrsten Sinema         Arizona   Democratic   \n",
       "7               Tom Cotton        Arkansas   Republican   \n",
       "10          Michael Bennet        Colorado   Democratic   \n",
       "12      Richard Blumenthal     Connecticut   Democratic   \n",
       "13            Chris Murphy     Connecticut   Democratic   \n",
       "15             Chris Coons        Delaware   Democratic   \n",
       "16             Marco Rubio         Florida   Republican   \n",
       "17              Rick Scott         Florida   Republican   \n",
       "21            Mazie Hirono          Hawaii   Democratic   \n",
       "22              Mike Crapo           Idaho   Republican   \n",
       "23               Jim Risch           Idaho   Republican   \n",
       "24             Dick Durbin        Illinois   Democratic   \n",
       "26              Todd Young         Indiana   Republican   \n",
       "30             Jerry Moran          Kansas   Republican   \n",
       "32         Mitch McConnell        Kentucky   Republican   \n",
       "35            John Kennedy       Louisiana   Republican   \n",
       "37              Angus King           Maine  Independent   \n",
       "38              Ben Cardin        Maryland   Democratic   \n",
       "39        Chris Van Hollen        Maryland   Democratic   \n",
       "40        Elizabeth Warren   Massachusetts   Democratic   \n",
       "41               Ed Markey   Massachusetts   Democratic   \n",
       "43             Gary Peters        Michigan   Democratic   \n",
       "44           Amy Klobuchar       Minnesota   Democratic   \n",
       "46            Roger Wicker     Mississippi   Republican   \n",
       "49             Josh Hawley        Missouri   Republican   \n",
       "54  Catherine Cortez Masto          Nevada   Democratic   \n",
       "57           Maggie Hassan   New Hampshire   Democratic   \n",
       "58            Bob Menendez      New Jersey   Democratic   \n",
       "59             Cory Booker      New Jersey   Democratic   \n",
       "62           Chuck Schumer        New York   Democratic   \n",
       "63      Kirsten Gillibrand        New York   Democratic   \n",
       "69             Rob Portman            Ohio   Republican   \n",
       "72               Ron Wyden          Oregon   Democratic   \n",
       "74           Bob Casey Jr.    Pennsylvania   Democratic   \n",
       "76               Jack Reed    Rhode Island   Democratic   \n",
       "77      Sheldon Whitehouse    Rhode Island   Democratic   \n",
       "78          Lindsey Graham  South Carolina   Republican   \n",
       "83            Bill Hagerty       Tennessee   Republican   \n",
       "84             John Cornyn           Texas   Republican   \n",
       "85                Ted Cruz           Texas   Republican   \n",
       "86                Mike Lee            Utah   Republican   \n",
       "87             Mitt Romney            Utah   Republican   \n",
       "88           Patrick Leahy         Vermont   Democratic   \n",
       "90             Mark Warner        Virginia   Democratic   \n",
       "91               Tim Kaine        Virginia   Democratic   \n",
       "97           Tammy Baldwin       Wisconsin   Democratic   \n",
       "99          Cynthia Lummis         Wyoming   Republican   \n",
       "\n",
       "                      BirthDate  \\\n",
       "0          May 6, 1934 (age 88)   \n",
       "2         May 22, 1957 (age 65)   \n",
       "3    November 13, 1964 (age 57)   \n",
       "4        July 12, 1976 (age 46)   \n",
       "7         May 13, 1977 (age 45)   \n",
       "10   November 28, 1964 (age 57)   \n",
       "12   February 13, 1946 (age 76)   \n",
       "13      August 3, 1973 (age 49)   \n",
       "15   September 9, 1963 (age 59)   \n",
       "16        May 28, 1971 (age 51)   \n",
       "17    December 1, 1952 (age 69)   \n",
       "21    November 3, 1947 (age 74)   \n",
       "22        May 20, 1951 (age 71)   \n",
       "23         May 3, 1943 (age 79)   \n",
       "24   November 21, 1944 (age 77)   \n",
       "26     August 24, 1972 (age 50)   \n",
       "30        May 29, 1954 (age 68)   \n",
       "32   February 20, 1942 (age 80)   \n",
       "35   November 21, 1951 (age 70)   \n",
       "37      March 31, 1944 (age 78)   \n",
       "38     October 5, 1943 (age 78)   \n",
       "39    January 10, 1959 (age 63)   \n",
       "40       June 22, 1949 (age 73)   \n",
       "41       July 11, 1946 (age 76)   \n",
       "43    December 1, 1958 (age 63)   \n",
       "44        May 25, 1960 (age 62)   \n",
       "46        July 5, 1951 (age 71)   \n",
       "49   December 31, 1979 (age 42)   \n",
       "54      March 29, 1964 (age 58)   \n",
       "57   February 27, 1958 (age 64)   \n",
       "58     January 1, 1954 (age 68)   \n",
       "59      April 27, 1969 (age 53)   \n",
       "62   November 23, 1950 (age 71)   \n",
       "63    December 9, 1966 (age 55)   \n",
       "69   December 19, 1955 (age 66)   \n",
       "72         May 3, 1949 (age 73)   \n",
       "74      April 13, 1960 (age 62)   \n",
       "76   November 12, 1949 (age 72)   \n",
       "77    October 20, 1955 (age 66)   \n",
       "78        July 9, 1955 (age 67)   \n",
       "83     August 14, 1959 (age 63)   \n",
       "84    February 2, 1952 (age 70)   \n",
       "85   December 22, 1970 (age 51)   \n",
       "86        June 4, 1971 (age 51)   \n",
       "87      March 12, 1947 (age 75)   \n",
       "88      March 31, 1940 (age 82)   \n",
       "90   December 15, 1954 (age 67)   \n",
       "91   February 26, 1958 (age 64)   \n",
       "97   February 11, 1962 (age 60)   \n",
       "99  September 10, 1954 (age 68)   \n",
       "\n",
       "                                           Occupation  \\\n",
       "0                                              Lawyer   \n",
       "2                                              Lawyer   \n",
       "3   U.S. Marine Corps officer, Lawyer, Assistant S...   \n",
       "4   Social worker, Political activist, Lawyer, Col...   \n",
       "7                  Lawyer, United States Army officer   \n",
       "10  Lawyer, Investment company executive, Denver P...   \n",
       "12  Marine Corps Reserve Sergeant, Senate staffer,...   \n",
       "13                 Lawyer, Political campaign manager   \n",
       "15           Nonprofit organization executive, Lawyer   \n",
       "16                                             Lawyer   \n",
       "17  U.S. Navy officer, Lawyer, Columbia/HCA CEO, V...   \n",
       "21                                             Lawyer   \n",
       "22                                             Lawyer   \n",
       "23  Professor, Rancher, Nonprofit organization exe...   \n",
       "24                                  Lawyer, Professor   \n",
       "26  Marine Corps officer, Professor, Management co...   \n",
       "30                                     Banker, Lawyer   \n",
       "32  Lawyer, U.S. Senate staff member, United State...   \n",
       "35  Magazine editor, Lawyer, Professor, Staff of L...   \n",
       "37  Lawyer, Senate staffer, Entrepreneur, Corporat...   \n",
       "38                                             Lawyer   \n",
       "39  U.S. Senate staff member, Maryland Governor's ...   \n",
       "40  Lawyer, Professor, Research associate, Nonprof...   \n",
       "41                 United States Army Reserve, Lawyer   \n",
       "43  United States Navy Reserve officer, Financial ...   \n",
       "44                                             Lawyer   \n",
       "46  U.S. Air Force officer/Judge Advocate, U.S. Ho...   \n",
       "49                                  Lawyer, Professor   \n",
       "54                                             Lawyer   \n",
       "57                                             Lawyer   \n",
       "58                                             Lawyer   \n",
       "59                                             Lawyer   \n",
       "62                                             Lawyer   \n",
       "63                   Lawyer, U.S. HUD special counsel   \n",
       "69  Lawyer, U.S. Trade Representative, Director of...   \n",
       "72          Teacher, Nonprofit organization executive   \n",
       "74                                    Teacher, Lawyer   \n",
       "76  Lawyer, U.S. Army Reserve officer, U.S. Army o...   \n",
       "77                     Lawyer, United States Attorney   \n",
       "78             Lawyer, U.S. Air Force Reserve officer   \n",
       "83  Management consultant, Private equity investme...   \n",
       "84                                             Lawyer   \n",
       "85  Lawyer, U.S. Assoc. Deputy AG, Texas Solicitor...   \n",
       "86  Lawyer, Governor's general counsel, Assistant ...   \n",
       "87                                        Businessman   \n",
       "88                                             Lawyer   \n",
       "90  Businessman, Venture capitalist, Virginia Demo...   \n",
       "91  Missionary, Lawyer, Teacher, Democratic Nation...   \n",
       "97                                             Lawyer   \n",
       "99                                             Lawyer   \n",
       "\n",
       "                                       PreviousOffice  \\\n",
       "0                          U.S. House, Alabama Senate   \n",
       "2                     Alaska House of Representatives   \n",
       "3                             Alaska Attorney General   \n",
       "4   U.S. House, Arizona Senate, Arizona House of R...   \n",
       "7                                          U.S. House   \n",
       "10                                               None   \n",
       "12  Connecticut Attorney General, Connecticut Sena...   \n",
       "13  U.S. House, Connecticut Senate, Connecticut Ho...   \n",
       "15  New Castle County, Delaware County Executive, ...   \n",
       "16  Florida House Speaker, West Miami City Commission   \n",
       "17                                Governor of Florida   \n",
       "21  U.S. House, Lieutenant Governor of Hawaii, Haw...   \n",
       "22                           U.S. House, Idaho Senate   \n",
       "23  Governor of Idaho, Lieutenant Governor of Idah...   \n",
       "24                                         U.S. House   \n",
       "26                                         U.S. House   \n",
       "30                          U.S. House, Kansas Senate   \n",
       "32      Judge/Executive of Jefferson County, Kentucky   \n",
       "35                                Louisiana Treasurer   \n",
       "37                                  Governor of Maine   \n",
       "38  U.S. House, Speaker of the Maryland House of D...   \n",
       "39  U.S. House, Maryland Senate, Maryland House of...   \n",
       "40                                               None   \n",
       "41  U.S. House, Massachusetts House of Representat...   \n",
       "43                        U.S. House, Michigan Senate   \n",
       "44         Hennepin County, Minnesota County Attorney   \n",
       "46                     U.S. House, Mississippi Senate   \n",
       "49                       Attorney General of Missouri   \n",
       "54                            Nevada Attorney General   \n",
       "57    Governor of New Hampshire, New Hampshire Senate   \n",
       "58  U.S. House, New Jersey Senate, New Jersey Gene...   \n",
       "59  Mayor of Newark, New Jersey, Newark Municipal ...   \n",
       "62                U.S. House, New York State Assembly   \n",
       "63                                         U.S. House   \n",
       "69                                         U.S. House   \n",
       "72                                         U.S. House   \n",
       "74       Pennsylvania Treasurer, Pennsylvania Auditor   \n",
       "76                    U.S. House, Rhode Island Senate   \n",
       "77                   Attorney General of Rhode Island   \n",
       "78  U.S. House, South Carolina House of Representa...   \n",
       "83                                               None   \n",
       "84  San Antonio District Judge, Texas Attorney Gen...   \n",
       "85                                               None   \n",
       "86                                               None   \n",
       "87                          Governor of Massachusetts   \n",
       "88       State's Attorney, Chittenden County, Vermont   \n",
       "90                               Governor of Virginia   \n",
       "91  Governor of Virginia, Lieutenant Governor of V...   \n",
       "97  U.S. House, Wisconsin Assembly, Dane County, W...   \n",
       "99  U.S. House, Wyoming Treasurer, Wyoming Senate,...   \n",
       "\n",
       "                                            Education AssumedOffice  Election  \\\n",
       "0   University of Alabama (BA, LLB), Birmingham Sc...      3-Jan-87      2022   \n",
       "2   Georgetown University (AB), Willamette Univers...     20-Dec-02      2022   \n",
       "3   Harvard University (AB), Georgetown University...      3-Jan-15      2026   \n",
       "4   Brigham Young University (BA), Arizona State U...      3-Jan-19      2024   \n",
       "7                         Harvard University (AB, JD)      3-Jan-15      2026   \n",
       "10     Wesleyan University (BA), Yale University (JD)     21-Jan-09      2022   \n",
       "12  Harvard University (AB), Trinity College, Camb...      3-Jan-11      2022   \n",
       "13  Williams College (BA), Exeter College, Oxford,...      3-Jan-13      2024   \n",
       "15    Amherst College (BA), Yale University (MAR, JD)     15-Nov-10      2026   \n",
       "16  University of Florida (BA), University of Miam...      3-Jan-11      2022   \n",
       "17  University of Missouri-Kansas City (BS), South...      8-Jan-19      2024   \n",
       "21  University of Hawaii at Manoa (BA), Georgetown...      3-Jan-13      2024   \n",
       "22  Brigham Young University (BA), Harvard Univers...      3-Jan-99      2022   \n",
       "23  University of Wisconsin-Milwaukee, University ...      3-Jan-09      2026   \n",
       "24                     Georgetown University (BS, JD)      3-Jan-97      2026   \n",
       "26  United States Naval Academy (BS), University o...      3-Jan-17      2022   \n",
       "30  Fort Hays State University, University of Kans...      3-Jan-11      2022   \n",
       "32  University of Louisville (BA), University of K...      3-Jan-85      2026   \n",
       "35  Vanderbilt University (BA), University of Virg...      3-Jan-17      2022   \n",
       "37  Dartmouth College (BA), University of Virginia...      3-Jan-13      2024   \n",
       "38  University of Pittsburgh (BA), University of M...      3-Jan-07      2024   \n",
       "39  Swarthmore College (BA), Harvard University (M...      3-Jan-17      2022   \n",
       "40  George Washington University, University of Ho...      3-Jan-13      2024   \n",
       "41                            Boston College (BA, JD)     16-Jul-13      2026   \n",
       "43  Alma College (BA), University of Detroit (MBA)...      3-Jan-15      2026   \n",
       "44   Yale University (BA), University of Chicago (JD)      3-Jan-07      2024   \n",
       "46                 University of Mississippi (BA, JD)     31-Dec-07      2024   \n",
       "49     Stanford University (BA), Yale University (JD)      3-Jan-19      2024   \n",
       "54  University of Nevada, Reno (BS), Gonzaga Unive...      3-Jan-17      2022   \n",
       "57  Brown University (BA), Northeastern University...      3-Jan-17      2022   \n",
       "58  Saint Peter's University (BA), Rutgers Univers...     17-Jan-06      2024   \n",
       "59  Stanford University (BA, MA), Queen's College,...     31-Oct-13      2026   \n",
       "62                        Harvard University (AB, JD)      3-Jan-99      2022   \n",
       "63  Dartmouth College (BA), University of Californ...     26-Jan-09      2024   \n",
       "69  Dartmouth College (BA), University of Michigan...      3-Jan-11      2022   \n",
       "72  Stanford University (BA), University of Oregon...      5-Feb-96      2022   \n",
       "74  College of the Holy Cross (BA), Catholic Unive...      3-Jan-07      2024   \n",
       "76  United States Military Academy (BS), Harvard U...      3-Jan-97      2026   \n",
       "77  Yale University (BA), University of Virginia (JD)      3-Jan-07      2024   \n",
       "78              University of South Carolina (BA, JD)      3-Jan-03      2026   \n",
       "83                     Vanderbilt University (BA, JD)      3-Jan-21      2026   \n",
       "84  Trinity University (BA), St. Mary's University...      2-Dec-02      2026   \n",
       "85  Princeton University (AB), Harvard University ...      3-Jan-13      2024   \n",
       "86                  Brigham Young University (BA, JD)      3-Jan-11      2022   \n",
       "87  Brigham Young University (BA), Harvard Univers...      3-Jan-19      2024   \n",
       "88  Saint Michael's College (BA), Georgetown Unive...      3-Jan-75      2022   \n",
       "90  George Washington University (BA), Harvard Uni...      3-Jan-09      2026   \n",
       "91  University of Missouri (BA), Harvard Universit...      3-Jan-13      2024   \n",
       "97  Smith College (BA), University of Wisconsin-Ma...      3-Jan-13      2024   \n",
       "99                     University of Wyoming (BS, JD)      3-Jan-21      2026   \n",
       "\n",
       "           Residence  \n",
       "0         Tuscaloosa  \n",
       "2           Girdwood  \n",
       "3          Anchorage  \n",
       "4            Phoenix  \n",
       "7         Dardanelle  \n",
       "10            Denver  \n",
       "12         Greenwich  \n",
       "13          Hartford  \n",
       "15        Wilmington  \n",
       "16        West Miami  \n",
       "17            Naples  \n",
       "21          Honolulu  \n",
       "22       Idaho Falls  \n",
       "23             Boise  \n",
       "24       Springfield  \n",
       "26       Bloomington  \n",
       "30         Manhattan  \n",
       "32        Louisville  \n",
       "35      Madisonville  \n",
       "37         Brunswick  \n",
       "38         Baltimore  \n",
       "39        Kensington  \n",
       "40         Cambridge  \n",
       "41            Malden  \n",
       "43  Bloomfield Hills  \n",
       "44       Minneapolis  \n",
       "46            Tupelo  \n",
       "49             Ozark  \n",
       "54         Las Vegas  \n",
       "57         Newfields  \n",
       "58          Harrison  \n",
       "59            Newark  \n",
       "62          Brooklyn  \n",
       "63            Albany  \n",
       "69      Terrace Park  \n",
       "72          Portland  \n",
       "74          Scranton  \n",
       "76         Jamestown  \n",
       "77           Newport  \n",
       "78            Seneca  \n",
       "83         Nashville  \n",
       "84            Austin  \n",
       "85           Houston  \n",
       "86            Alpine  \n",
       "87          Holladay  \n",
       "88         Middlesex  \n",
       "90        Alexandria  \n",
       "91          Richmond  \n",
       "97           Madison  \n",
       "99          Cheyenne  "
      ]
     },
     "execution_count": 4,
     "metadata": {},
     "output_type": "execute_result"
    }
   ],
   "source": [
    "# Solution to Question 4 (assuming no school contains the initials \"JD\" in it...)\n",
    "df[df.Education.str.contains( 'JD' )]"
   ]
  },
  {
   "cell_type": "markdown",
   "metadata": {
    "deepnote_cell_height": 108.390625,
    "deepnote_cell_type": "markdown",
    "tags": []
   },
   "source": [
    "## Question 5\n",
    "\n",
    "Which senator names have more than two words?"
   ]
  },
  {
   "cell_type": "code",
   "execution_count": 5,
   "metadata": {
    "deepnote_cell_height": 262.125,
    "deepnote_cell_type": "code",
    "deepnote_output_heights": [
     116.125
    ],
    "deepnote_to_be_reexecuted": false,
    "execution_millis": 19,
    "execution_start": 1664650685875,
    "source_hash": "d315dc23",
    "tags": []
   },
   "outputs": [
    {
     "data": {
      "text/plain": [
       "39          Chris Van Hollen\n",
       "54    Catherine Cortez Masto\n",
       "61             Ben Ray Luján\n",
       "74             Bob Casey Jr.\n",
       "95      Shelley Moore Capito\n",
       "Name: Name, dtype: object"
      ]
     },
     "execution_count": 5,
     "metadata": {},
     "output_type": "execute_result"
    }
   ],
   "source": [
    "# Solution to Question 5\n",
    "name_parts = df.Name.str.split()\n",
    "num_parts = name_parts.apply( len )\n",
    "df[num_parts > 2].Name"
   ]
  },
  {
   "cell_type": "markdown",
   "metadata": {
    "deepnote_cell_height": 108.390625,
    "deepnote_cell_type": "markdown",
    "tags": []
   },
   "source": [
    "## Question 6\n",
    "\n",
    "Change each senator's hometown to include the state, e.g. \"Cambridge\" becomes \"Cambridge, Massachusetts\"."
   ]
  },
  {
   "cell_type": "code",
   "execution_count": 6,
   "metadata": {
    "deepnote_cell_height": 631,
    "deepnote_cell_type": "code",
    "deepnote_to_be_reexecuted": false,
    "execution_millis": 7,
    "execution_start": 1664650685893,
    "source_hash": "5ea6a39b",
    "tags": []
   },
   "outputs": [
    {
     "data": {
      "application/vnd.deepnote.dataframe.v3+json": {
       "column_count": 2,
       "columns": [
        {
         "dtype": "object",
         "name": "Name",
         "stats": {
          "categories": [
           {
            "count": 1,
            "name": "Richard Shelby"
           },
           {
            "count": 1,
            "name": "Tommy Tuberville"
           },
           {
            "count": 98,
            "name": "98 others"
           }
          ],
          "nan_count": 0,
          "unique_count": 100
         }
        },
        {
         "dtype": "object",
         "name": "Residence",
         "stats": {
          "categories": [
           {
            "count": 2,
            "name": "Denver, Colorado"
           },
           {
            "count": 2,
            "name": "Wilmington, Delaware"
           },
           {
            "count": 96,
            "name": "90 others"
           }
          ],
          "nan_count": 0,
          "unique_count": 92
         }
        },
        {
         "dtype": "int64",
         "name": "_deepnote_index_column"
        }
       ],
       "row_count": 100,
       "rows": [
        {
         "Name": "Richard Shelby",
         "Residence": "Tuscaloosa, Alabama",
         "_deepnote_index_column": "0"
        },
        {
         "Name": "Tommy Tuberville",
         "Residence": "Auburn, Alabama",
         "_deepnote_index_column": "1"
        },
        {
         "Name": "Lisa Murkowski",
         "Residence": "Girdwood, Alaska",
         "_deepnote_index_column": "2"
        },
        {
         "Name": "Dan Sullivan",
         "Residence": "Anchorage, Alaska",
         "_deepnote_index_column": "3"
        },
        {
         "Name": "Kyrsten Sinema",
         "Residence": "Phoenix, Arizona",
         "_deepnote_index_column": "4"
        },
        {
         "Name": "Mark Kelly",
         "Residence": "Tucson, Arizona",
         "_deepnote_index_column": "5"
        },
        {
         "Name": "John Boozman",
         "Residence": "Rogers, Arkansas",
         "_deepnote_index_column": "6"
        },
        {
         "Name": "Tom Cotton",
         "Residence": "Dardanelle, Arkansas",
         "_deepnote_index_column": "7"
        },
        {
         "Name": "Dianne Feinstein",
         "Residence": "San Francisco, California",
         "_deepnote_index_column": "8"
        },
        {
         "Name": "Alex Padilla",
         "Residence": "Los Angeles, California",
         "_deepnote_index_column": "9"
        }
       ]
      },
      "text/html": [
       "<div>\n",
       "<style scoped>\n",
       "    .dataframe tbody tr th:only-of-type {\n",
       "        vertical-align: middle;\n",
       "    }\n",
       "\n",
       "    .dataframe tbody tr th {\n",
       "        vertical-align: top;\n",
       "    }\n",
       "\n",
       "    .dataframe thead th {\n",
       "        text-align: right;\n",
       "    }\n",
       "</style>\n",
       "<table border=\"1\" class=\"dataframe\">\n",
       "  <thead>\n",
       "    <tr style=\"text-align: right;\">\n",
       "      <th></th>\n",
       "      <th>Name</th>\n",
       "      <th>Residence</th>\n",
       "    </tr>\n",
       "  </thead>\n",
       "  <tbody>\n",
       "    <tr>\n",
       "      <th>0</th>\n",
       "      <td>Richard Shelby</td>\n",
       "      <td>Tuscaloosa, Alabama</td>\n",
       "    </tr>\n",
       "    <tr>\n",
       "      <th>1</th>\n",
       "      <td>Tommy Tuberville</td>\n",
       "      <td>Auburn, Alabama</td>\n",
       "    </tr>\n",
       "    <tr>\n",
       "      <th>2</th>\n",
       "      <td>Lisa Murkowski</td>\n",
       "      <td>Girdwood, Alaska</td>\n",
       "    </tr>\n",
       "    <tr>\n",
       "      <th>3</th>\n",
       "      <td>Dan Sullivan</td>\n",
       "      <td>Anchorage, Alaska</td>\n",
       "    </tr>\n",
       "    <tr>\n",
       "      <th>4</th>\n",
       "      <td>Kyrsten Sinema</td>\n",
       "      <td>Phoenix, Arizona</td>\n",
       "    </tr>\n",
       "    <tr>\n",
       "      <th>...</th>\n",
       "      <td>...</td>\n",
       "      <td>...</td>\n",
       "    </tr>\n",
       "    <tr>\n",
       "      <th>95</th>\n",
       "      <td>Shelley Moore Capito</td>\n",
       "      <td>Charleston, West Virginia</td>\n",
       "    </tr>\n",
       "    <tr>\n",
       "      <th>96</th>\n",
       "      <td>Ron Johnson</td>\n",
       "      <td>Oshkosh, Wisconsin</td>\n",
       "    </tr>\n",
       "    <tr>\n",
       "      <th>97</th>\n",
       "      <td>Tammy Baldwin</td>\n",
       "      <td>Madison, Wisconsin</td>\n",
       "    </tr>\n",
       "    <tr>\n",
       "      <th>98</th>\n",
       "      <td>John Barrasso</td>\n",
       "      <td>Casper, Wyoming</td>\n",
       "    </tr>\n",
       "    <tr>\n",
       "      <th>99</th>\n",
       "      <td>Cynthia Lummis</td>\n",
       "      <td>Cheyenne, Wyoming</td>\n",
       "    </tr>\n",
       "  </tbody>\n",
       "</table>\n",
       "<p>100 rows × 2 columns</p>\n",
       "</div>"
      ],
      "text/plain": [
       "                    Name                  Residence\n",
       "0         Richard Shelby        Tuscaloosa, Alabama\n",
       "1       Tommy Tuberville            Auburn, Alabama\n",
       "2         Lisa Murkowski           Girdwood, Alaska\n",
       "3           Dan Sullivan          Anchorage, Alaska\n",
       "4         Kyrsten Sinema           Phoenix, Arizona\n",
       "..                   ...                        ...\n",
       "95  Shelley Moore Capito  Charleston, West Virginia\n",
       "96           Ron Johnson         Oshkosh, Wisconsin\n",
       "97         Tammy Baldwin         Madison, Wisconsin\n",
       "98         John Barrasso            Casper, Wyoming\n",
       "99        Cynthia Lummis          Cheyenne, Wyoming\n",
       "\n",
       "[100 rows x 2 columns]"
      ]
     },
     "execution_count": 6,
     "metadata": {},
     "output_type": "execute_result"
    }
   ],
   "source": [
    "# Solution to Question 6\n",
    "df.Residence = df.Residence + ', ' + df.State\n",
    "df[['Name','Residence']]"
   ]
  },
  {
   "cell_type": "markdown",
   "metadata": {
    "deepnote_cell_height": 108.390625,
    "deepnote_cell_type": "markdown",
    "tags": []
   },
   "source": [
    "## Question 7\n",
    "\n",
    "Make a new variable for just the age of each senator and sort the senators by age."
   ]
  },
  {
   "cell_type": "code",
   "execution_count": 7,
   "metadata": {
    "deepnote_cell_height": 666,
    "deepnote_cell_type": "code",
    "deepnote_to_be_reexecuted": false,
    "execution_millis": 24,
    "execution_start": 1664650685944,
    "source_hash": "46a374df",
    "tags": []
   },
   "outputs": [
    {
     "data": {
      "application/vnd.deepnote.dataframe.v3+json": {
       "column_count": 11,
       "columns": [
        {
         "dtype": "object",
         "name": "Name",
         "stats": {
          "categories": [
           {
            "count": 1,
            "name": "Jon Ossoff"
           },
           {
            "count": 1,
            "name": "Josh Hawley"
           },
           {
            "count": 98,
            "name": "98 others"
           }
          ],
          "nan_count": 0,
          "unique_count": 100
         }
        },
        {
         "dtype": "object",
         "name": "State",
         "stats": {
          "categories": [
           {
            "count": 2,
            "name": "Georgia"
           },
           {
            "count": 2,
            "name": "Missouri"
           },
           {
            "count": 96,
            "name": "48 others"
           }
          ],
          "nan_count": 0,
          "unique_count": 50
         }
        },
        {
         "dtype": "object",
         "name": "Party",
         "stats": {
          "categories": [
           {
            "count": 50,
            "name": "Republican"
           },
           {
            "count": 48,
            "name": "Democratic"
           },
           {
            "count": 2,
            "name": "Independent"
           }
          ],
          "nan_count": 0,
          "unique_count": 3
         }
        },
        {
         "dtype": "object",
         "name": "BirthDate",
         "stats": {
          "categories": [
           {
            "count": 1,
            "name": "February 16, 1987 (age 35)"
           },
           {
            "count": 1,
            "name": "December 31, 1979 (age 42)"
           },
           {
            "count": 98,
            "name": "98 others"
           }
          ],
          "nan_count": 0,
          "unique_count": 100
         }
        },
        {
         "dtype": "object",
         "name": "Occupation",
         "stats": {
          "categories": [
           {
            "count": 16,
            "name": "Lawyer"
           },
           {
            "count": 4,
            "name": "Businessman"
           },
           {
            "count": 80,
            "name": "78 others"
           }
          ],
          "nan_count": 0,
          "unique_count": 80
         }
        },
        {
         "dtype": "object",
         "name": "PreviousOffice",
         "stats": {
          "categories": [
           {
            "count": 14,
            "name": "U.S. House"
           },
           {
            "count": 13,
            "name": "None"
           },
           {
            "count": 73,
            "name": "72 others"
           }
          ],
          "nan_count": 0,
          "unique_count": 74
         }
        },
        {
         "dtype": "object",
         "name": "Education",
         "stats": {
          "categories": [
           {
            "count": 2,
            "name": "Harvard University (AB, JD)"
           },
           {
            "count": 1,
            "name": "Georgetown University (BS), London School of Economics (MSc)"
           },
           {
            "count": 97,
            "name": "97 others"
           }
          ],
          "nan_count": 0,
          "unique_count": 99
         }
        },
        {
         "dtype": "object",
         "name": "AssumedOffice",
         "stats": {
          "categories": [
           {
            "count": 11,
            "name": "3-Jan-15"
           },
           {
            "count": 11,
            "name": "3-Jan-11"
           },
           {
            "count": 78,
            "name": "36 others"
           }
          ],
          "nan_count": 0,
          "unique_count": 38
         }
        },
        {
         "dtype": "int64",
         "name": "Election",
         "stats": {
          "histogram": [
           {
            "bin_end": 2022.4,
            "bin_start": 2022,
            "count": 35
           },
           {
            "bin_end": 2022.8,
            "bin_start": 2022.4,
            "count": 0
           },
           {
            "bin_end": 2023.2,
            "bin_start": 2022.8,
            "count": 0
           },
           {
            "bin_end": 2023.6,
            "bin_start": 2023.2,
            "count": 0
           },
           {
            "bin_end": 2024,
            "bin_start": 2023.6,
            "count": 0
           },
           {
            "bin_end": 2024.4,
            "bin_start": 2024,
            "count": 33
           },
           {
            "bin_end": 2024.8,
            "bin_start": 2024.4,
            "count": 0
           },
           {
            "bin_end": 2025.2,
            "bin_start": 2024.8,
            "count": 0
           },
           {
            "bin_end": 2025.6,
            "bin_start": 2025.2,
            "count": 0
           },
           {
            "bin_end": 2026,
            "bin_start": 2025.6,
            "count": 32
           }
          ],
          "max": "2026",
          "min": "2022",
          "nan_count": 0,
          "unique_count": 3
         }
        },
        {
         "dtype": "object",
         "name": "Residence",
         "stats": {
          "categories": [
           {
            "count": 2,
            "name": "Atlanta, Georgia"
           },
           {
            "count": 2,
            "name": "Honolulu, Hawaii"
           },
           {
            "count": 96,
            "name": "90 others"
           }
          ],
          "nan_count": 0,
          "unique_count": 92
         }
        },
        {
         "dtype": "int64",
         "name": "Age",
         "stats": {
          "histogram": [
           {
            "bin_end": 40.4,
            "bin_start": 35,
            "count": 1
           },
           {
            "bin_end": 45.8,
            "bin_start": 40.4,
            "count": 2
           },
           {
            "bin_end": 51.2,
            "bin_start": 45.8,
            "count": 11
           },
           {
            "bin_end": 56.6,
            "bin_start": 51.2,
            "count": 6
           },
           {
            "bin_end": 62,
            "bin_start": 56.6,
            "count": 12
           },
           {
            "bin_end": 67.4,
            "bin_start": 62,
            "count": 25
           },
           {
            "bin_end": 72.80000000000001,
            "bin_start": 67.4,
            "count": 23
           },
           {
            "bin_end": 78.2,
            "bin_start": 72.80000000000001,
            "count": 12
           },
           {
            "bin_end": 83.6,
            "bin_start": 78.2,
            "count": 4
           },
           {
            "bin_end": 89,
            "bin_start": 83.6,
            "count": 4
           }
          ],
          "max": "89",
          "min": "35",
          "nan_count": 0,
          "unique_count": 40
         }
        },
        {
         "dtype": "int64",
         "name": "_deepnote_index_column"
        }
       ],
       "row_count": 100,
       "rows": [
        {
         "Age": "35",
         "AssumedOffice": "20-Jan-21",
         "BirthDate": "February 16, 1987 (age 35)",
         "Education": "Georgetown University (BS), London School of Economics (MSc)",
         "Election": "2026",
         "Name": "Jon Ossoff",
         "Occupation": "Investigative journalist, Documentary film producer, U.S. House staffer",
         "Party": "Democratic",
         "PreviousOffice": "None",
         "Residence": "Atlanta, Georgia",
         "State": "Georgia",
         "_deepnote_index_column": "18"
        },
        {
         "Age": "42",
         "AssumedOffice": "3-Jan-19",
         "BirthDate": "December 31, 1979 (age 42)",
         "Education": "Stanford University (BA), Yale University (JD)",
         "Election": "2024",
         "Name": "Josh Hawley",
         "Occupation": "Lawyer, Professor",
         "Party": "Republican",
         "PreviousOffice": "Attorney General of Missouri",
         "Residence": "Ozark, Missouri",
         "State": "Missouri",
         "_deepnote_index_column": "49"
        },
        {
         "Age": "45",
         "AssumedOffice": "3-Jan-15",
         "BirthDate": "May 13, 1977 (age 45)",
         "Education": "Harvard University (AB, JD)",
         "Election": "2026",
         "Name": "Tom Cotton",
         "Occupation": "Lawyer, United States Army officer",
         "Party": "Republican",
         "PreviousOffice": "U.S. House",
         "Residence": "Dardanelle, Arkansas",
         "State": "Arkansas",
         "_deepnote_index_column": "7"
        },
        {
         "Age": "46",
         "AssumedOffice": "3-Jan-19",
         "BirthDate": "July 12, 1976 (age 46)",
         "Education": "Brigham Young University (BA), Arizona State University, Tempe (MSW, JD, PhD)",
         "Election": "2024",
         "Name": "Kyrsten Sinema",
         "Occupation": "Social worker, Political activist, Lawyer, College lecturer",
         "Party": "Democratic",
         "PreviousOffice": "U.S. House, Arizona Senate, Arizona House of Representatives",
         "Residence": "Phoenix, Arizona",
         "State": "Arizona",
         "_deepnote_index_column": "4"
        },
        {
         "Age": "49",
         "AssumedOffice": "3-Jan-13",
         "BirthDate": "August 3, 1973 (age 49)",
         "Education": "Williams College (BA), Exeter College, Oxford, University of Connecticut (JD)",
         "Election": "2024",
         "Name": "Chris Murphy",
         "Occupation": "Lawyer, Political campaign manager",
         "Party": "Democratic",
         "PreviousOffice": "U.S. House, Connecticut Senate, Connecticut House of Representatives",
         "Residence": "Hartford, Connecticut",
         "State": "Connecticut",
         "_deepnote_index_column": "13"
        },
        {
         "Age": "49",
         "AssumedOffice": "20-Jan-21",
         "BirthDate": "March 22, 1973 (age 49)",
         "Education": "Massachusetts Institute of Technology (BS)",
         "Election": "2022",
         "Name": "Alex Padilla",
         "Occupation": "Engineer",
         "Party": "Democratic",
         "PreviousOffice": "Secretary of State of California, California Senate, Los Angeles City Council President",
         "Residence": "Los Angeles, California",
         "State": "California",
         "_deepnote_index_column": "9"
        },
        {
         "Age": "49",
         "AssumedOffice": "26-Dec-12",
         "BirthDate": "October 20, 1972 (age 49)",
         "Education": "Pomona College (BA)",
         "Election": "2022",
         "Name": "Brian Schatz",
         "Occupation": "Teacher, Nonprofit organization executive",
         "Party": "Democratic",
         "PreviousOffice": "Lieutenant Governor of Hawaii, Hawaii House of Representatives",
         "Residence": "Honolulu, Hawaii",
         "State": "Hawaii",
         "_deepnote_index_column": "20"
        },
        {
         "Age": "50",
         "AssumedOffice": "3-Jan-13",
         "BirthDate": "October 17, 1971 (age 50)",
         "Education": "University of Missouri (BS)",
         "Election": "2024",
         "Name": "Martin Heinrich",
         "Occupation": "Nonprofit organization executive, Public relations consultant",
         "Party": "Democratic",
         "PreviousOffice": "U.S. House, Albuquerque City Council",
         "Residence": "Albuquerque, New Mexico",
         "State": "New Mexico",
         "_deepnote_index_column": "60"
        },
        {
         "Age": "50",
         "AssumedOffice": "3-Jan-17",
         "BirthDate": "August 24, 1972 (age 50)",
         "Education": "United States Naval Academy (BS), University of Chicago (MBA), University of London (MA), Indiana University, Indianapolis (JD)",
         "Election": "2022",
         "Name": "Todd Young",
         "Occupation": "Marine Corps officer, Professor, Management consultant, Lawyer",
         "Party": "Republican",
         "PreviousOffice": "U.S. House",
         "Residence": "Bloomington, Indiana",
         "State": "Indiana",
         "_deepnote_index_column": "26"
        },
        {
         "Age": "50",
         "AssumedOffice": "3-Jan-21",
         "BirthDate": "June 7, 1972 (age 50)",
         "Education": "New Mexico Highlands University (BBA)",
         "Election": "2026",
         "Name": "Ben Ray Luján",
         "Occupation": "New Mexico Cultural Affairs Department Director of Administrative Services and, Chief Financial Officer, , New Mexico Deputy State Treasurer",
         "Party": "Democratic",
         "PreviousOffice": "U.S. House, New Mexico Public Regulation Commission",
         "Residence": "Nambe, New Mexico",
         "State": "New Mexico",
         "_deepnote_index_column": "61"
        }
       ]
      },
      "text/html": [
       "<div>\n",
       "<style scoped>\n",
       "    .dataframe tbody tr th:only-of-type {\n",
       "        vertical-align: middle;\n",
       "    }\n",
       "\n",
       "    .dataframe tbody tr th {\n",
       "        vertical-align: top;\n",
       "    }\n",
       "\n",
       "    .dataframe thead th {\n",
       "        text-align: right;\n",
       "    }\n",
       "</style>\n",
       "<table border=\"1\" class=\"dataframe\">\n",
       "  <thead>\n",
       "    <tr style=\"text-align: right;\">\n",
       "      <th></th>\n",
       "      <th>Name</th>\n",
       "      <th>State</th>\n",
       "      <th>Party</th>\n",
       "      <th>BirthDate</th>\n",
       "      <th>Occupation</th>\n",
       "      <th>PreviousOffice</th>\n",
       "      <th>Education</th>\n",
       "      <th>AssumedOffice</th>\n",
       "      <th>Election</th>\n",
       "      <th>Residence</th>\n",
       "      <th>Age</th>\n",
       "    </tr>\n",
       "  </thead>\n",
       "  <tbody>\n",
       "    <tr>\n",
       "      <th>18</th>\n",
       "      <td>Jon Ossoff</td>\n",
       "      <td>Georgia</td>\n",
       "      <td>Democratic</td>\n",
       "      <td>February 16, 1987 (age 35)</td>\n",
       "      <td>Investigative journalist, Documentary film pro...</td>\n",
       "      <td>None</td>\n",
       "      <td>Georgetown University (BS), London School of E...</td>\n",
       "      <td>20-Jan-21</td>\n",
       "      <td>2026</td>\n",
       "      <td>Atlanta, Georgia</td>\n",
       "      <td>35</td>\n",
       "    </tr>\n",
       "    <tr>\n",
       "      <th>49</th>\n",
       "      <td>Josh Hawley</td>\n",
       "      <td>Missouri</td>\n",
       "      <td>Republican</td>\n",
       "      <td>December 31, 1979 (age 42)</td>\n",
       "      <td>Lawyer, Professor</td>\n",
       "      <td>Attorney General of Missouri</td>\n",
       "      <td>Stanford University (BA), Yale University (JD)</td>\n",
       "      <td>3-Jan-19</td>\n",
       "      <td>2024</td>\n",
       "      <td>Ozark, Missouri</td>\n",
       "      <td>42</td>\n",
       "    </tr>\n",
       "    <tr>\n",
       "      <th>7</th>\n",
       "      <td>Tom Cotton</td>\n",
       "      <td>Arkansas</td>\n",
       "      <td>Republican</td>\n",
       "      <td>May 13, 1977 (age 45)</td>\n",
       "      <td>Lawyer, United States Army officer</td>\n",
       "      <td>U.S. House</td>\n",
       "      <td>Harvard University (AB, JD)</td>\n",
       "      <td>3-Jan-15</td>\n",
       "      <td>2026</td>\n",
       "      <td>Dardanelle, Arkansas</td>\n",
       "      <td>45</td>\n",
       "    </tr>\n",
       "    <tr>\n",
       "      <th>4</th>\n",
       "      <td>Kyrsten Sinema</td>\n",
       "      <td>Arizona</td>\n",
       "      <td>Democratic</td>\n",
       "      <td>July 12, 1976 (age 46)</td>\n",
       "      <td>Social worker, Political activist, Lawyer, Col...</td>\n",
       "      <td>U.S. House, Arizona Senate, Arizona House of R...</td>\n",
       "      <td>Brigham Young University (BA), Arizona State U...</td>\n",
       "      <td>3-Jan-19</td>\n",
       "      <td>2024</td>\n",
       "      <td>Phoenix, Arizona</td>\n",
       "      <td>46</td>\n",
       "    </tr>\n",
       "    <tr>\n",
       "      <th>13</th>\n",
       "      <td>Chris Murphy</td>\n",
       "      <td>Connecticut</td>\n",
       "      <td>Democratic</td>\n",
       "      <td>August 3, 1973 (age 49)</td>\n",
       "      <td>Lawyer, Political campaign manager</td>\n",
       "      <td>U.S. House, Connecticut Senate, Connecticut Ho...</td>\n",
       "      <td>Williams College (BA), Exeter College, Oxford,...</td>\n",
       "      <td>3-Jan-13</td>\n",
       "      <td>2024</td>\n",
       "      <td>Hartford, Connecticut</td>\n",
       "      <td>49</td>\n",
       "    </tr>\n",
       "    <tr>\n",
       "      <th>...</th>\n",
       "      <td>...</td>\n",
       "      <td>...</td>\n",
       "      <td>...</td>\n",
       "      <td>...</td>\n",
       "      <td>...</td>\n",
       "      <td>...</td>\n",
       "      <td>...</td>\n",
       "      <td>...</td>\n",
       "      <td>...</td>\n",
       "      <td>...</td>\n",
       "      <td>...</td>\n",
       "    </tr>\n",
       "    <tr>\n",
       "      <th>88</th>\n",
       "      <td>Patrick Leahy</td>\n",
       "      <td>Vermont</td>\n",
       "      <td>Democratic</td>\n",
       "      <td>March 31, 1940 (age 82)</td>\n",
       "      <td>Lawyer</td>\n",
       "      <td>State's Attorney, Chittenden County, Vermont</td>\n",
       "      <td>Saint Michael's College (BA), Georgetown Unive...</td>\n",
       "      <td>3-Jan-75</td>\n",
       "      <td>2022</td>\n",
       "      <td>Middlesex, Vermont</td>\n",
       "      <td>82</td>\n",
       "    </tr>\n",
       "    <tr>\n",
       "      <th>70</th>\n",
       "      <td>Jim Inhofe</td>\n",
       "      <td>Oklahoma</td>\n",
       "      <td>Republican</td>\n",
       "      <td>November 17, 1934 (age 87)</td>\n",
       "      <td>U.S. Army, Businessman, Real estate developer,...</td>\n",
       "      <td>U.S. House, Mayor of Tulsa, Oklahoma, Oklahoma...</td>\n",
       "      <td>University of Tulsa (BA)</td>\n",
       "      <td>16-Nov-94</td>\n",
       "      <td>2022</td>\n",
       "      <td>Tulsa, Oklahoma</td>\n",
       "      <td>87</td>\n",
       "    </tr>\n",
       "    <tr>\n",
       "      <th>0</th>\n",
       "      <td>Richard Shelby</td>\n",
       "      <td>Alabama</td>\n",
       "      <td>Republican</td>\n",
       "      <td>May 6, 1934 (age 88)</td>\n",
       "      <td>Lawyer</td>\n",
       "      <td>U.S. House, Alabama Senate</td>\n",
       "      <td>University of Alabama (BA, LLB), Birmingham Sc...</td>\n",
       "      <td>3-Jan-87</td>\n",
       "      <td>2022</td>\n",
       "      <td>Tuscaloosa, Alabama</td>\n",
       "      <td>88</td>\n",
       "    </tr>\n",
       "    <tr>\n",
       "      <th>28</th>\n",
       "      <td>Chuck Grassley</td>\n",
       "      <td>Iowa</td>\n",
       "      <td>Republican</td>\n",
       "      <td>September 17, 1933 (age 89)</td>\n",
       "      <td>Farmer, College professor</td>\n",
       "      <td>U.S. House, Iowa House of Representatives</td>\n",
       "      <td>University of Northern Iowa (BA, MA), Universi...</td>\n",
       "      <td>3-Jan-81</td>\n",
       "      <td>2022</td>\n",
       "      <td>New Hartford, Iowa</td>\n",
       "      <td>89</td>\n",
       "    </tr>\n",
       "    <tr>\n",
       "      <th>8</th>\n",
       "      <td>Dianne Feinstein</td>\n",
       "      <td>California</td>\n",
       "      <td>Democratic</td>\n",
       "      <td>June 22, 1933 (age 89)</td>\n",
       "      <td>Nonprofit organization fellow, California Wome...</td>\n",
       "      <td>Mayor of San Francisco, San Francisco Board of...</td>\n",
       "      <td>Stanford University (BA)</td>\n",
       "      <td>10-Nov-92</td>\n",
       "      <td>2024</td>\n",
       "      <td>San Francisco, California</td>\n",
       "      <td>89</td>\n",
       "    </tr>\n",
       "  </tbody>\n",
       "</table>\n",
       "<p>100 rows × 11 columns</p>\n",
       "</div>"
      ],
      "text/plain": [
       "                Name        State       Party                    BirthDate  \\\n",
       "18        Jon Ossoff      Georgia  Democratic   February 16, 1987 (age 35)   \n",
       "49       Josh Hawley     Missouri  Republican   December 31, 1979 (age 42)   \n",
       "7         Tom Cotton     Arkansas  Republican        May 13, 1977 (age 45)   \n",
       "4     Kyrsten Sinema      Arizona  Democratic       July 12, 1976 (age 46)   \n",
       "13      Chris Murphy  Connecticut  Democratic      August 3, 1973 (age 49)   \n",
       "..               ...          ...         ...                          ...   \n",
       "88     Patrick Leahy      Vermont  Democratic      March 31, 1940 (age 82)   \n",
       "70        Jim Inhofe     Oklahoma  Republican   November 17, 1934 (age 87)   \n",
       "0     Richard Shelby      Alabama  Republican         May 6, 1934 (age 88)   \n",
       "28    Chuck Grassley         Iowa  Republican  September 17, 1933 (age 89)   \n",
       "8   Dianne Feinstein   California  Democratic       June 22, 1933 (age 89)   \n",
       "\n",
       "                                           Occupation  \\\n",
       "18  Investigative journalist, Documentary film pro...   \n",
       "49                                  Lawyer, Professor   \n",
       "7                  Lawyer, United States Army officer   \n",
       "4   Social worker, Political activist, Lawyer, Col...   \n",
       "13                 Lawyer, Political campaign manager   \n",
       "..                                                ...   \n",
       "88                                             Lawyer   \n",
       "70  U.S. Army, Businessman, Real estate developer,...   \n",
       "0                                              Lawyer   \n",
       "28                          Farmer, College professor   \n",
       "8   Nonprofit organization fellow, California Wome...   \n",
       "\n",
       "                                       PreviousOffice  \\\n",
       "18                                               None   \n",
       "49                       Attorney General of Missouri   \n",
       "7                                          U.S. House   \n",
       "4   U.S. House, Arizona Senate, Arizona House of R...   \n",
       "13  U.S. House, Connecticut Senate, Connecticut Ho...   \n",
       "..                                                ...   \n",
       "88       State's Attorney, Chittenden County, Vermont   \n",
       "70  U.S. House, Mayor of Tulsa, Oklahoma, Oklahoma...   \n",
       "0                          U.S. House, Alabama Senate   \n",
       "28          U.S. House, Iowa House of Representatives   \n",
       "8   Mayor of San Francisco, San Francisco Board of...   \n",
       "\n",
       "                                            Education AssumedOffice  Election  \\\n",
       "18  Georgetown University (BS), London School of E...     20-Jan-21      2026   \n",
       "49     Stanford University (BA), Yale University (JD)      3-Jan-19      2024   \n",
       "7                         Harvard University (AB, JD)      3-Jan-15      2026   \n",
       "4   Brigham Young University (BA), Arizona State U...      3-Jan-19      2024   \n",
       "13  Williams College (BA), Exeter College, Oxford,...      3-Jan-13      2024   \n",
       "..                                                ...           ...       ...   \n",
       "88  Saint Michael's College (BA), Georgetown Unive...      3-Jan-75      2022   \n",
       "70                           University of Tulsa (BA)     16-Nov-94      2022   \n",
       "0   University of Alabama (BA, LLB), Birmingham Sc...      3-Jan-87      2022   \n",
       "28  University of Northern Iowa (BA, MA), Universi...      3-Jan-81      2022   \n",
       "8                            Stanford University (BA)     10-Nov-92      2024   \n",
       "\n",
       "                    Residence  Age  \n",
       "18           Atlanta, Georgia   35  \n",
       "49            Ozark, Missouri   42  \n",
       "7        Dardanelle, Arkansas   45  \n",
       "4            Phoenix, Arizona   46  \n",
       "13      Hartford, Connecticut   49  \n",
       "..                        ...  ...  \n",
       "88         Middlesex, Vermont   82  \n",
       "70            Tulsa, Oklahoma   87  \n",
       "0         Tuscaloosa, Alabama   88  \n",
       "28         New Hartford, Iowa   89  \n",
       "8   San Francisco, California   89  \n",
       "\n",
       "[100 rows x 11 columns]"
      ]
     },
     "execution_count": 7,
     "metadata": {},
     "output_type": "execute_result"
    }
   ],
   "source": [
    "# Solution to Question 7\n",
    "df['Age'] = df.BirthDate.str[-3:-1].astype( int )\n",
    "df = df.sort_values( by='Age' )\n",
    "df"
   ]
  },
  {
   "cell_type": "markdown",
   "metadata": {
    "deepnote_cell_height": 108.390625,
    "deepnote_cell_type": "markdown",
    "tags": []
   },
   "source": [
    "## Question 8\n",
    "\n",
    "Make a new variable for whether a senator was in the U.S. House."
   ]
  },
  {
   "cell_type": "code",
   "execution_count": 8,
   "metadata": {
    "deepnote_cell_height": 648,
    "deepnote_cell_type": "code",
    "deepnote_to_be_reexecuted": false,
    "execution_millis": 6,
    "execution_start": 1664650686015,
    "source_hash": "d8b059d6",
    "tags": []
   },
   "outputs": [
    {
     "data": {
      "application/vnd.deepnote.dataframe.v3+json": {
       "column_count": 12,
       "columns": [
        {
         "dtype": "object",
         "name": "Name",
         "stats": {
          "categories": [
           {
            "count": 1,
            "name": "Jon Ossoff"
           },
           {
            "count": 1,
            "name": "Josh Hawley"
           },
           {
            "count": 98,
            "name": "98 others"
           }
          ],
          "nan_count": 0,
          "unique_count": 100
         }
        },
        {
         "dtype": "object",
         "name": "State",
         "stats": {
          "categories": [
           {
            "count": 2,
            "name": "Georgia"
           },
           {
            "count": 2,
            "name": "Missouri"
           },
           {
            "count": 96,
            "name": "48 others"
           }
          ],
          "nan_count": 0,
          "unique_count": 50
         }
        },
        {
         "dtype": "object",
         "name": "Party",
         "stats": {
          "categories": [
           {
            "count": 50,
            "name": "Republican"
           },
           {
            "count": 48,
            "name": "Democratic"
           },
           {
            "count": 2,
            "name": "Independent"
           }
          ],
          "nan_count": 0,
          "unique_count": 3
         }
        },
        {
         "dtype": "object",
         "name": "BirthDate",
         "stats": {
          "categories": [
           {
            "count": 1,
            "name": "February 16, 1987 (age 35)"
           },
           {
            "count": 1,
            "name": "December 31, 1979 (age 42)"
           },
           {
            "count": 98,
            "name": "98 others"
           }
          ],
          "nan_count": 0,
          "unique_count": 100
         }
        },
        {
         "dtype": "object",
         "name": "Occupation",
         "stats": {
          "categories": [
           {
            "count": 16,
            "name": "Lawyer"
           },
           {
            "count": 4,
            "name": "Businessman"
           },
           {
            "count": 80,
            "name": "78 others"
           }
          ],
          "nan_count": 0,
          "unique_count": 80
         }
        },
        {
         "dtype": "object",
         "name": "PreviousOffice",
         "stats": {
          "categories": [
           {
            "count": 14,
            "name": "U.S. House"
           },
           {
            "count": 13,
            "name": "None"
           },
           {
            "count": 73,
            "name": "72 others"
           }
          ],
          "nan_count": 0,
          "unique_count": 74
         }
        },
        {
         "dtype": "object",
         "name": "Education",
         "stats": {
          "categories": [
           {
            "count": 2,
            "name": "Harvard University (AB, JD)"
           },
           {
            "count": 1,
            "name": "Georgetown University (BS), London School of Economics (MSc)"
           },
           {
            "count": 97,
            "name": "97 others"
           }
          ],
          "nan_count": 0,
          "unique_count": 99
         }
        },
        {
         "dtype": "object",
         "name": "AssumedOffice",
         "stats": {
          "categories": [
           {
            "count": 11,
            "name": "3-Jan-15"
           },
           {
            "count": 11,
            "name": "3-Jan-11"
           },
           {
            "count": 78,
            "name": "36 others"
           }
          ],
          "nan_count": 0,
          "unique_count": 38
         }
        },
        {
         "dtype": "int64",
         "name": "Election",
         "stats": {
          "histogram": [
           {
            "bin_end": 2022.4,
            "bin_start": 2022,
            "count": 35
           },
           {
            "bin_end": 2022.8,
            "bin_start": 2022.4,
            "count": 0
           },
           {
            "bin_end": 2023.2,
            "bin_start": 2022.8,
            "count": 0
           },
           {
            "bin_end": 2023.6,
            "bin_start": 2023.2,
            "count": 0
           },
           {
            "bin_end": 2024,
            "bin_start": 2023.6,
            "count": 0
           },
           {
            "bin_end": 2024.4,
            "bin_start": 2024,
            "count": 33
           },
           {
            "bin_end": 2024.8,
            "bin_start": 2024.4,
            "count": 0
           },
           {
            "bin_end": 2025.2,
            "bin_start": 2024.8,
            "count": 0
           },
           {
            "bin_end": 2025.6,
            "bin_start": 2025.2,
            "count": 0
           },
           {
            "bin_end": 2026,
            "bin_start": 2025.6,
            "count": 32
           }
          ],
          "max": "2026",
          "min": "2022",
          "nan_count": 0,
          "unique_count": 3
         }
        },
        {
         "dtype": "object",
         "name": "Residence",
         "stats": {
          "categories": [
           {
            "count": 2,
            "name": "Atlanta, Georgia"
           },
           {
            "count": 2,
            "name": "Honolulu, Hawaii"
           },
           {
            "count": 96,
            "name": "90 others"
           }
          ],
          "nan_count": 0,
          "unique_count": 92
         }
        },
        {
         "dtype": "int64",
         "name": "Age",
         "stats": {
          "histogram": [
           {
            "bin_end": 40.4,
            "bin_start": 35,
            "count": 1
           },
           {
            "bin_end": 45.8,
            "bin_start": 40.4,
            "count": 2
           },
           {
            "bin_end": 51.2,
            "bin_start": 45.8,
            "count": 11
           },
           {
            "bin_end": 56.6,
            "bin_start": 51.2,
            "count": 6
           },
           {
            "bin_end": 62,
            "bin_start": 56.6,
            "count": 12
           },
           {
            "bin_end": 67.4,
            "bin_start": 62,
            "count": 25
           },
           {
            "bin_end": 72.80000000000001,
            "bin_start": 67.4,
            "count": 23
           },
           {
            "bin_end": 78.2,
            "bin_start": 72.80000000000001,
            "count": 12
           },
           {
            "bin_end": 83.6,
            "bin_start": 78.2,
            "count": 4
           },
           {
            "bin_end": 89,
            "bin_start": 83.6,
            "count": 4
           }
          ],
          "max": "89",
          "min": "35",
          "nan_count": 0,
          "unique_count": 40
         }
        },
        {
         "dtype": "bool",
         "name": "WasInHouse",
         "stats": {
          "categories": [
           {
            "count": 53,
            "name": "False"
           },
           {
            "count": 47,
            "name": "True"
           }
          ],
          "nan_count": 0,
          "unique_count": 2
         }
        },
        {
         "dtype": "int64",
         "name": "_deepnote_index_column"
        }
       ],
       "row_count": 100,
       "rows": [
        {
         "Age": "35",
         "AssumedOffice": "20-Jan-21",
         "BirthDate": "February 16, 1987 (age 35)",
         "Education": "Georgetown University (BS), London School of Economics (MSc)",
         "Election": "2026",
         "Name": "Jon Ossoff",
         "Occupation": "Investigative journalist, Documentary film producer, U.S. House staffer",
         "Party": "Democratic",
         "PreviousOffice": "None",
         "Residence": "Atlanta, Georgia",
         "State": "Georgia",
         "WasInHouse": "False",
         "_deepnote_index_column": "18"
        },
        {
         "Age": "42",
         "AssumedOffice": "3-Jan-19",
         "BirthDate": "December 31, 1979 (age 42)",
         "Education": "Stanford University (BA), Yale University (JD)",
         "Election": "2024",
         "Name": "Josh Hawley",
         "Occupation": "Lawyer, Professor",
         "Party": "Republican",
         "PreviousOffice": "Attorney General of Missouri",
         "Residence": "Ozark, Missouri",
         "State": "Missouri",
         "WasInHouse": "False",
         "_deepnote_index_column": "49"
        },
        {
         "Age": "45",
         "AssumedOffice": "3-Jan-15",
         "BirthDate": "May 13, 1977 (age 45)",
         "Education": "Harvard University (AB, JD)",
         "Election": "2026",
         "Name": "Tom Cotton",
         "Occupation": "Lawyer, United States Army officer",
         "Party": "Republican",
         "PreviousOffice": "U.S. House",
         "Residence": "Dardanelle, Arkansas",
         "State": "Arkansas",
         "WasInHouse": "True",
         "_deepnote_index_column": "7"
        },
        {
         "Age": "46",
         "AssumedOffice": "3-Jan-19",
         "BirthDate": "July 12, 1976 (age 46)",
         "Education": "Brigham Young University (BA), Arizona State University, Tempe (MSW, JD, PhD)",
         "Election": "2024",
         "Name": "Kyrsten Sinema",
         "Occupation": "Social worker, Political activist, Lawyer, College lecturer",
         "Party": "Democratic",
         "PreviousOffice": "U.S. House, Arizona Senate, Arizona House of Representatives",
         "Residence": "Phoenix, Arizona",
         "State": "Arizona",
         "WasInHouse": "True",
         "_deepnote_index_column": "4"
        },
        {
         "Age": "49",
         "AssumedOffice": "3-Jan-13",
         "BirthDate": "August 3, 1973 (age 49)",
         "Education": "Williams College (BA), Exeter College, Oxford, University of Connecticut (JD)",
         "Election": "2024",
         "Name": "Chris Murphy",
         "Occupation": "Lawyer, Political campaign manager",
         "Party": "Democratic",
         "PreviousOffice": "U.S. House, Connecticut Senate, Connecticut House of Representatives",
         "Residence": "Hartford, Connecticut",
         "State": "Connecticut",
         "WasInHouse": "True",
         "_deepnote_index_column": "13"
        },
        {
         "Age": "49",
         "AssumedOffice": "20-Jan-21",
         "BirthDate": "March 22, 1973 (age 49)",
         "Education": "Massachusetts Institute of Technology (BS)",
         "Election": "2022",
         "Name": "Alex Padilla",
         "Occupation": "Engineer",
         "Party": "Democratic",
         "PreviousOffice": "Secretary of State of California, California Senate, Los Angeles City Council President",
         "Residence": "Los Angeles, California",
         "State": "California",
         "WasInHouse": "False",
         "_deepnote_index_column": "9"
        },
        {
         "Age": "49",
         "AssumedOffice": "26-Dec-12",
         "BirthDate": "October 20, 1972 (age 49)",
         "Education": "Pomona College (BA)",
         "Election": "2022",
         "Name": "Brian Schatz",
         "Occupation": "Teacher, Nonprofit organization executive",
         "Party": "Democratic",
         "PreviousOffice": "Lieutenant Governor of Hawaii, Hawaii House of Representatives",
         "Residence": "Honolulu, Hawaii",
         "State": "Hawaii",
         "WasInHouse": "False",
         "_deepnote_index_column": "20"
        },
        {
         "Age": "50",
         "AssumedOffice": "3-Jan-13",
         "BirthDate": "October 17, 1971 (age 50)",
         "Education": "University of Missouri (BS)",
         "Election": "2024",
         "Name": "Martin Heinrich",
         "Occupation": "Nonprofit organization executive, Public relations consultant",
         "Party": "Democratic",
         "PreviousOffice": "U.S. House, Albuquerque City Council",
         "Residence": "Albuquerque, New Mexico",
         "State": "New Mexico",
         "WasInHouse": "True",
         "_deepnote_index_column": "60"
        },
        {
         "Age": "50",
         "AssumedOffice": "3-Jan-17",
         "BirthDate": "August 24, 1972 (age 50)",
         "Education": "United States Naval Academy (BS), University of Chicago (MBA), University of London (MA), Indiana University, Indianapolis (JD)",
         "Election": "2022",
         "Name": "Todd Young",
         "Occupation": "Marine Corps officer, Professor, Management consultant, Lawyer",
         "Party": "Republican",
         "PreviousOffice": "U.S. House",
         "Residence": "Bloomington, Indiana",
         "State": "Indiana",
         "WasInHouse": "True",
         "_deepnote_index_column": "26"
        },
        {
         "Age": "50",
         "AssumedOffice": "3-Jan-21",
         "BirthDate": "June 7, 1972 (age 50)",
         "Education": "New Mexico Highlands University (BBA)",
         "Election": "2026",
         "Name": "Ben Ray Luján",
         "Occupation": "New Mexico Cultural Affairs Department Director of Administrative Services and, Chief Financial Officer, , New Mexico Deputy State Treasurer",
         "Party": "Democratic",
         "PreviousOffice": "U.S. House, New Mexico Public Regulation Commission",
         "Residence": "Nambe, New Mexico",
         "State": "New Mexico",
         "WasInHouse": "True",
         "_deepnote_index_column": "61"
        }
       ]
      },
      "text/html": [
       "<div>\n",
       "<style scoped>\n",
       "    .dataframe tbody tr th:only-of-type {\n",
       "        vertical-align: middle;\n",
       "    }\n",
       "\n",
       "    .dataframe tbody tr th {\n",
       "        vertical-align: top;\n",
       "    }\n",
       "\n",
       "    .dataframe thead th {\n",
       "        text-align: right;\n",
       "    }\n",
       "</style>\n",
       "<table border=\"1\" class=\"dataframe\">\n",
       "  <thead>\n",
       "    <tr style=\"text-align: right;\">\n",
       "      <th></th>\n",
       "      <th>Name</th>\n",
       "      <th>State</th>\n",
       "      <th>Party</th>\n",
       "      <th>BirthDate</th>\n",
       "      <th>Occupation</th>\n",
       "      <th>PreviousOffice</th>\n",
       "      <th>Education</th>\n",
       "      <th>AssumedOffice</th>\n",
       "      <th>Election</th>\n",
       "      <th>Residence</th>\n",
       "      <th>Age</th>\n",
       "      <th>WasInHouse</th>\n",
       "    </tr>\n",
       "  </thead>\n",
       "  <tbody>\n",
       "    <tr>\n",
       "      <th>18</th>\n",
       "      <td>Jon Ossoff</td>\n",
       "      <td>Georgia</td>\n",
       "      <td>Democratic</td>\n",
       "      <td>February 16, 1987 (age 35)</td>\n",
       "      <td>Investigative journalist, Documentary film pro...</td>\n",
       "      <td>None</td>\n",
       "      <td>Georgetown University (BS), London School of E...</td>\n",
       "      <td>20-Jan-21</td>\n",
       "      <td>2026</td>\n",
       "      <td>Atlanta, Georgia</td>\n",
       "      <td>35</td>\n",
       "      <td>False</td>\n",
       "    </tr>\n",
       "    <tr>\n",
       "      <th>49</th>\n",
       "      <td>Josh Hawley</td>\n",
       "      <td>Missouri</td>\n",
       "      <td>Republican</td>\n",
       "      <td>December 31, 1979 (age 42)</td>\n",
       "      <td>Lawyer, Professor</td>\n",
       "      <td>Attorney General of Missouri</td>\n",
       "      <td>Stanford University (BA), Yale University (JD)</td>\n",
       "      <td>3-Jan-19</td>\n",
       "      <td>2024</td>\n",
       "      <td>Ozark, Missouri</td>\n",
       "      <td>42</td>\n",
       "      <td>False</td>\n",
       "    </tr>\n",
       "    <tr>\n",
       "      <th>7</th>\n",
       "      <td>Tom Cotton</td>\n",
       "      <td>Arkansas</td>\n",
       "      <td>Republican</td>\n",
       "      <td>May 13, 1977 (age 45)</td>\n",
       "      <td>Lawyer, United States Army officer</td>\n",
       "      <td>U.S. House</td>\n",
       "      <td>Harvard University (AB, JD)</td>\n",
       "      <td>3-Jan-15</td>\n",
       "      <td>2026</td>\n",
       "      <td>Dardanelle, Arkansas</td>\n",
       "      <td>45</td>\n",
       "      <td>True</td>\n",
       "    </tr>\n",
       "    <tr>\n",
       "      <th>4</th>\n",
       "      <td>Kyrsten Sinema</td>\n",
       "      <td>Arizona</td>\n",
       "      <td>Democratic</td>\n",
       "      <td>July 12, 1976 (age 46)</td>\n",
       "      <td>Social worker, Political activist, Lawyer, Col...</td>\n",
       "      <td>U.S. House, Arizona Senate, Arizona House of R...</td>\n",
       "      <td>Brigham Young University (BA), Arizona State U...</td>\n",
       "      <td>3-Jan-19</td>\n",
       "      <td>2024</td>\n",
       "      <td>Phoenix, Arizona</td>\n",
       "      <td>46</td>\n",
       "      <td>True</td>\n",
       "    </tr>\n",
       "    <tr>\n",
       "      <th>13</th>\n",
       "      <td>Chris Murphy</td>\n",
       "      <td>Connecticut</td>\n",
       "      <td>Democratic</td>\n",
       "      <td>August 3, 1973 (age 49)</td>\n",
       "      <td>Lawyer, Political campaign manager</td>\n",
       "      <td>U.S. House, Connecticut Senate, Connecticut Ho...</td>\n",
       "      <td>Williams College (BA), Exeter College, Oxford,...</td>\n",
       "      <td>3-Jan-13</td>\n",
       "      <td>2024</td>\n",
       "      <td>Hartford, Connecticut</td>\n",
       "      <td>49</td>\n",
       "      <td>True</td>\n",
       "    </tr>\n",
       "    <tr>\n",
       "      <th>...</th>\n",
       "      <td>...</td>\n",
       "      <td>...</td>\n",
       "      <td>...</td>\n",
       "      <td>...</td>\n",
       "      <td>...</td>\n",
       "      <td>...</td>\n",
       "      <td>...</td>\n",
       "      <td>...</td>\n",
       "      <td>...</td>\n",
       "      <td>...</td>\n",
       "      <td>...</td>\n",
       "      <td>...</td>\n",
       "    </tr>\n",
       "    <tr>\n",
       "      <th>88</th>\n",
       "      <td>Patrick Leahy</td>\n",
       "      <td>Vermont</td>\n",
       "      <td>Democratic</td>\n",
       "      <td>March 31, 1940 (age 82)</td>\n",
       "      <td>Lawyer</td>\n",
       "      <td>State's Attorney, Chittenden County, Vermont</td>\n",
       "      <td>Saint Michael's College (BA), Georgetown Unive...</td>\n",
       "      <td>3-Jan-75</td>\n",
       "      <td>2022</td>\n",
       "      <td>Middlesex, Vermont</td>\n",
       "      <td>82</td>\n",
       "      <td>False</td>\n",
       "    </tr>\n",
       "    <tr>\n",
       "      <th>70</th>\n",
       "      <td>Jim Inhofe</td>\n",
       "      <td>Oklahoma</td>\n",
       "      <td>Republican</td>\n",
       "      <td>November 17, 1934 (age 87)</td>\n",
       "      <td>U.S. Army, Businessman, Real estate developer,...</td>\n",
       "      <td>U.S. House, Mayor of Tulsa, Oklahoma, Oklahoma...</td>\n",
       "      <td>University of Tulsa (BA)</td>\n",
       "      <td>16-Nov-94</td>\n",
       "      <td>2022</td>\n",
       "      <td>Tulsa, Oklahoma</td>\n",
       "      <td>87</td>\n",
       "      <td>True</td>\n",
       "    </tr>\n",
       "    <tr>\n",
       "      <th>0</th>\n",
       "      <td>Richard Shelby</td>\n",
       "      <td>Alabama</td>\n",
       "      <td>Republican</td>\n",
       "      <td>May 6, 1934 (age 88)</td>\n",
       "      <td>Lawyer</td>\n",
       "      <td>U.S. House, Alabama Senate</td>\n",
       "      <td>University of Alabama (BA, LLB), Birmingham Sc...</td>\n",
       "      <td>3-Jan-87</td>\n",
       "      <td>2022</td>\n",
       "      <td>Tuscaloosa, Alabama</td>\n",
       "      <td>88</td>\n",
       "      <td>True</td>\n",
       "    </tr>\n",
       "    <tr>\n",
       "      <th>28</th>\n",
       "      <td>Chuck Grassley</td>\n",
       "      <td>Iowa</td>\n",
       "      <td>Republican</td>\n",
       "      <td>September 17, 1933 (age 89)</td>\n",
       "      <td>Farmer, College professor</td>\n",
       "      <td>U.S. House, Iowa House of Representatives</td>\n",
       "      <td>University of Northern Iowa (BA, MA), Universi...</td>\n",
       "      <td>3-Jan-81</td>\n",
       "      <td>2022</td>\n",
       "      <td>New Hartford, Iowa</td>\n",
       "      <td>89</td>\n",
       "      <td>True</td>\n",
       "    </tr>\n",
       "    <tr>\n",
       "      <th>8</th>\n",
       "      <td>Dianne Feinstein</td>\n",
       "      <td>California</td>\n",
       "      <td>Democratic</td>\n",
       "      <td>June 22, 1933 (age 89)</td>\n",
       "      <td>Nonprofit organization fellow, California Wome...</td>\n",
       "      <td>Mayor of San Francisco, San Francisco Board of...</td>\n",
       "      <td>Stanford University (BA)</td>\n",
       "      <td>10-Nov-92</td>\n",
       "      <td>2024</td>\n",
       "      <td>San Francisco, California</td>\n",
       "      <td>89</td>\n",
       "      <td>False</td>\n",
       "    </tr>\n",
       "  </tbody>\n",
       "</table>\n",
       "<p>100 rows × 12 columns</p>\n",
       "</div>"
      ],
      "text/plain": [
       "                Name        State       Party                    BirthDate  \\\n",
       "18        Jon Ossoff      Georgia  Democratic   February 16, 1987 (age 35)   \n",
       "49       Josh Hawley     Missouri  Republican   December 31, 1979 (age 42)   \n",
       "7         Tom Cotton     Arkansas  Republican        May 13, 1977 (age 45)   \n",
       "4     Kyrsten Sinema      Arizona  Democratic       July 12, 1976 (age 46)   \n",
       "13      Chris Murphy  Connecticut  Democratic      August 3, 1973 (age 49)   \n",
       "..               ...          ...         ...                          ...   \n",
       "88     Patrick Leahy      Vermont  Democratic      March 31, 1940 (age 82)   \n",
       "70        Jim Inhofe     Oklahoma  Republican   November 17, 1934 (age 87)   \n",
       "0     Richard Shelby      Alabama  Republican         May 6, 1934 (age 88)   \n",
       "28    Chuck Grassley         Iowa  Republican  September 17, 1933 (age 89)   \n",
       "8   Dianne Feinstein   California  Democratic       June 22, 1933 (age 89)   \n",
       "\n",
       "                                           Occupation  \\\n",
       "18  Investigative journalist, Documentary film pro...   \n",
       "49                                  Lawyer, Professor   \n",
       "7                  Lawyer, United States Army officer   \n",
       "4   Social worker, Political activist, Lawyer, Col...   \n",
       "13                 Lawyer, Political campaign manager   \n",
       "..                                                ...   \n",
       "88                                             Lawyer   \n",
       "70  U.S. Army, Businessman, Real estate developer,...   \n",
       "0                                              Lawyer   \n",
       "28                          Farmer, College professor   \n",
       "8   Nonprofit organization fellow, California Wome...   \n",
       "\n",
       "                                       PreviousOffice  \\\n",
       "18                                               None   \n",
       "49                       Attorney General of Missouri   \n",
       "7                                          U.S. House   \n",
       "4   U.S. House, Arizona Senate, Arizona House of R...   \n",
       "13  U.S. House, Connecticut Senate, Connecticut Ho...   \n",
       "..                                                ...   \n",
       "88       State's Attorney, Chittenden County, Vermont   \n",
       "70  U.S. House, Mayor of Tulsa, Oklahoma, Oklahoma...   \n",
       "0                          U.S. House, Alabama Senate   \n",
       "28          U.S. House, Iowa House of Representatives   \n",
       "8   Mayor of San Francisco, San Francisco Board of...   \n",
       "\n",
       "                                            Education AssumedOffice  Election  \\\n",
       "18  Georgetown University (BS), London School of E...     20-Jan-21      2026   \n",
       "49     Stanford University (BA), Yale University (JD)      3-Jan-19      2024   \n",
       "7                         Harvard University (AB, JD)      3-Jan-15      2026   \n",
       "4   Brigham Young University (BA), Arizona State U...      3-Jan-19      2024   \n",
       "13  Williams College (BA), Exeter College, Oxford,...      3-Jan-13      2024   \n",
       "..                                                ...           ...       ...   \n",
       "88  Saint Michael's College (BA), Georgetown Unive...      3-Jan-75      2022   \n",
       "70                           University of Tulsa (BA)     16-Nov-94      2022   \n",
       "0   University of Alabama (BA, LLB), Birmingham Sc...      3-Jan-87      2022   \n",
       "28  University of Northern Iowa (BA, MA), Universi...      3-Jan-81      2022   \n",
       "8                            Stanford University (BA)     10-Nov-92      2024   \n",
       "\n",
       "                    Residence  Age  WasInHouse  \n",
       "18           Atlanta, Georgia   35       False  \n",
       "49            Ozark, Missouri   42       False  \n",
       "7        Dardanelle, Arkansas   45        True  \n",
       "4            Phoenix, Arizona   46        True  \n",
       "13      Hartford, Connecticut   49        True  \n",
       "..                        ...  ...         ...  \n",
       "88         Middlesex, Vermont   82       False  \n",
       "70            Tulsa, Oklahoma   87        True  \n",
       "0         Tuscaloosa, Alabama   88        True  \n",
       "28         New Hartford, Iowa   89        True  \n",
       "8   San Francisco, California   89       False  \n",
       "\n",
       "[100 rows x 12 columns]"
      ]
     },
     "execution_count": 8,
     "metadata": {},
     "output_type": "execute_result"
    }
   ],
   "source": [
    "# Solution to Question 8\n",
    "df['WasInHouse'] = df.PreviousOffice.str.contains( 'U.S. House' )\n",
    "df"
   ]
  },
  {
   "cell_type": "markdown",
   "metadata": {
    "deepnote_cell_height": 108.390625,
    "deepnote_cell_type": "markdown",
    "tags": []
   },
   "source": [
    "## Question 9\n",
    "\n",
    "Which senator has the most declared occupations?"
   ]
  },
  {
   "cell_type": "code",
   "execution_count": 9,
   "metadata": {
    "deepnote_cell_height": 443,
    "deepnote_cell_type": "code",
    "deepnote_to_be_reexecuted": false,
    "execution_millis": 60,
    "execution_start": 1664650686020,
    "source_hash": "4156683f",
    "tags": []
   },
   "outputs": [
    {
     "data": {
      "application/vnd.deepnote.dataframe.v3+json": {
       "column_count": 13,
       "columns": [
        {
         "dtype": "object",
         "name": "Name",
         "stats": {
          "categories": [
           {
            "count": 1,
            "name": "Ben Sasse"
           },
           {
            "count": 1,
            "name": "Elizabeth Warren"
           },
           {
            "count": 3,
            "name": "3 others"
           }
          ],
          "nan_count": 0,
          "unique_count": 5
         }
        },
        {
         "dtype": "object",
         "name": "State",
         "stats": {
          "categories": [
           {
            "count": 1,
            "name": "Nebraska"
           },
           {
            "count": 1,
            "name": "Massachusetts"
           },
           {
            "count": 3,
            "name": "3 others"
           }
          ],
          "nan_count": 0,
          "unique_count": 5
         }
        },
        {
         "dtype": "object",
         "name": "Party",
         "stats": {
          "categories": [
           {
            "count": 2,
            "name": "Republican"
           },
           {
            "count": 2,
            "name": "Democratic"
           },
           {
            "count": 1,
            "name": "Independent"
           }
          ],
          "nan_count": 0,
          "unique_count": 3
         }
        },
        {
         "dtype": "object",
         "name": "BirthDate",
         "stats": {
          "categories": [
           {
            "count": 1,
            "name": "February 22, 1972 (age 50)"
           },
           {
            "count": 1,
            "name": "June 22, 1949 (age 73)"
           },
           {
            "count": 3,
            "name": "3 others"
           }
          ],
          "nan_count": 0,
          "unique_count": 5
         }
        },
        {
         "dtype": "object",
         "name": "Occupation",
         "stats": {
          "categories": [
           {
            "count": 1,
            "name": "Management consultant, House staffer, Professor, University president, Assistant Secretary for Planning and Evaluation, HHS"
           },
           {
            "count": 1,
            "name": "Lawyer, Professor, Research associate, Nonprofit organization executive, COP Chair, CFPB Special Advisor"
           },
           {
            "count": 3,
            "name": "3 others"
           }
          ],
          "nan_count": 0,
          "unique_count": 5
         }
        },
        {
         "dtype": "object",
         "name": "PreviousOffice",
         "stats": {
          "categories": [
           {
            "count": 2,
            "name": "None"
           },
           {
            "count": 1,
            "name": "Governor of Maine"
           },
           {
            "count": 2,
            "name": "2 others"
           }
          ],
          "nan_count": 0,
          "unique_count": 4
         }
        },
        {
         "dtype": "object",
         "name": "Education",
         "stats": {
          "categories": [
           {
            "count": 1,
            "name": "Harvard University (AB), St. John's College, Maryland (MA), Yale University (MA, MPhil, PhD)"
           },
           {
            "count": 1,
            "name": "George Washington University, University of Houston (BS), Rutgers University-Newark (JD)"
           },
           {
            "count": 3,
            "name": "3 others"
           }
          ],
          "nan_count": 0,
          "unique_count": 5
         }
        },
        {
         "dtype": "object",
         "name": "AssumedOffice",
         "stats": {
          "categories": [
           {
            "count": 3,
            "name": "3-Jan-13"
           },
           {
            "count": 1,
            "name": "3-Jan-15"
           },
           {
            "count": 1,
            "name": "3-Jan-17"
           }
          ],
          "nan_count": 0,
          "unique_count": 3
         }
        },
        {
         "dtype": "int64",
         "name": "Election",
         "stats": {
          "histogram": [
           {
            "bin_end": 2022.4,
            "bin_start": 2022,
            "count": 1
           },
           {
            "bin_end": 2022.8,
            "bin_start": 2022.4,
            "count": 0
           },
           {
            "bin_end": 2023.2,
            "bin_start": 2022.8,
            "count": 0
           },
           {
            "bin_end": 2023.6,
            "bin_start": 2023.2,
            "count": 0
           },
           {
            "bin_end": 2024,
            "bin_start": 2023.6,
            "count": 0
           },
           {
            "bin_end": 2024.4,
            "bin_start": 2024,
            "count": 3
           },
           {
            "bin_end": 2024.8,
            "bin_start": 2024.4,
            "count": 0
           },
           {
            "bin_end": 2025.2,
            "bin_start": 2024.8,
            "count": 0
           },
           {
            "bin_end": 2025.6,
            "bin_start": 2025.2,
            "count": 0
           },
           {
            "bin_end": 2026,
            "bin_start": 2025.6,
            "count": 1
           }
          ],
          "max": "2026",
          "min": "2022",
          "nan_count": 0,
          "unique_count": 3
         }
        },
        {
         "dtype": "object",
         "name": "Residence",
         "stats": {
          "categories": [
           {
            "count": 1,
            "name": "Fremont, Nebraska"
           },
           {
            "count": 1,
            "name": "Cambridge, Massachusetts"
           },
           {
            "count": 3,
            "name": "3 others"
           }
          ],
          "nan_count": 0,
          "unique_count": 5
         }
        },
        {
         "dtype": "int64",
         "name": "Age",
         "stats": {
          "histogram": [
           {
            "bin_end": 52.8,
            "bin_start": 50,
            "count": 1
           },
           {
            "bin_end": 55.6,
            "bin_start": 52.8,
            "count": 0
           },
           {
            "bin_end": 58.4,
            "bin_start": 55.6,
            "count": 0
           },
           {
            "bin_end": 61.2,
            "bin_start": 58.4,
            "count": 0
           },
           {
            "bin_end": 64,
            "bin_start": 61.2,
            "count": 0
           },
           {
            "bin_end": 66.8,
            "bin_start": 64,
            "count": 1
           },
           {
            "bin_end": 69.6,
            "bin_start": 66.8,
            "count": 0
           },
           {
            "bin_end": 72.4,
            "bin_start": 69.6,
            "count": 1
           },
           {
            "bin_end": 75.2,
            "bin_start": 72.4,
            "count": 1
           },
           {
            "bin_end": 78,
            "bin_start": 75.2,
            "count": 1
           }
          ],
          "max": "78",
          "min": "50",
          "nan_count": 0,
          "unique_count": 5
         }
        },
        {
         "dtype": "bool",
         "name": "WasInHouse",
         "stats": {
          "categories": [
           {
            "count": 5,
            "name": "False"
           }
          ],
          "nan_count": 0,
          "unique_count": 1
         }
        },
        {
         "dtype": "int64",
         "name": "NumOccupations",
         "stats": {
          "histogram": [
           {
            "bin_end": 4.2,
            "bin_start": 4,
            "count": 1
           },
           {
            "bin_end": 4.4,
            "bin_start": 4.2,
            "count": 0
           },
           {
            "bin_end": 4.6,
            "bin_start": 4.4,
            "count": 0
           },
           {
            "bin_end": 4.8,
            "bin_start": 4.6,
            "count": 0
           },
           {
            "bin_end": 5,
            "bin_start": 4.8,
            "count": 0
           },
           {
            "bin_end": 5.2,
            "bin_start": 5,
            "count": 2
           },
           {
            "bin_end": 5.4,
            "bin_start": 5.2,
            "count": 0
           },
           {
            "bin_end": 5.6,
            "bin_start": 5.4,
            "count": 0
           },
           {
            "bin_end": 5.8,
            "bin_start": 5.6,
            "count": 0
           },
           {
            "bin_end": 6,
            "bin_start": 5.8,
            "count": 2
           }
          ],
          "max": "6",
          "min": "4",
          "nan_count": 0,
          "unique_count": 3
         }
        },
        {
         "dtype": "int64",
         "name": "_deepnote_index_column"
        }
       ],
       "row_count": 5,
       "rows": [
        {
         "Age": "50",
         "AssumedOffice": "3-Jan-15",
         "BirthDate": "February 22, 1972 (age 50)",
         "Education": "Harvard University (AB), St. John's College, Maryland (MA), Yale University (MA, MPhil, PhD)",
         "Election": "2026",
         "Name": "Ben Sasse",
         "NumOccupations": "6",
         "Occupation": "Management consultant, House staffer, Professor, University president, Assistant Secretary for Planning and Evaluation, HHS",
         "Party": "Republican",
         "PreviousOffice": "None",
         "Residence": "Fremont, Nebraska",
         "State": "Nebraska",
         "WasInHouse": "False",
         "_deepnote_index_column": "53"
        },
        {
         "Age": "73",
         "AssumedOffice": "3-Jan-13",
         "BirthDate": "June 22, 1949 (age 73)",
         "Education": "George Washington University, University of Houston (BS), Rutgers University-Newark (JD)",
         "Election": "2024",
         "Name": "Elizabeth Warren",
         "NumOccupations": "6",
         "Occupation": "Lawyer, Professor, Research associate, Nonprofit organization executive, COP Chair, CFPB Special Advisor",
         "Party": "Democratic",
         "PreviousOffice": "None",
         "Residence": "Cambridge, Massachusetts",
         "State": "Massachusetts",
         "WasInHouse": "False",
         "_deepnote_index_column": "40"
        },
        {
         "Age": "78",
         "AssumedOffice": "3-Jan-13",
         "BirthDate": "March 31, 1944 (age 78)",
         "Education": "Dartmouth College (BA), University of Virginia (JD)",
         "Election": "2024",
         "Name": "Angus King",
         "NumOccupations": "5",
         "Occupation": "Lawyer, Senate staffer, Entrepreneur, Corporate executive, Public television news program host",
         "Party": "Independent",
         "PreviousOffice": "Governor of Maine",
         "Residence": "Brunswick, Maine",
         "State": "Maine",
         "WasInHouse": "False",
         "_deepnote_index_column": "37"
        },
        {
         "Age": "70",
         "AssumedOffice": "3-Jan-17",
         "BirthDate": "November 21, 1951 (age 70)",
         "Education": "Vanderbilt University (BA), University of Virginia (JD), Magdalen College, Oxford (BCL)",
         "Election": "2022",
         "Name": "John Kennedy",
         "NumOccupations": "5",
         "Occupation": "Magazine editor, Lawyer, Professor, Staff of Louisiana Governor Buddy Roemer, Secretary of the Louisiana Department of Revenue",
         "Party": "Republican",
         "PreviousOffice": "Louisiana Treasurer",
         "Residence": "Madisonville, Louisiana",
         "State": "Louisiana",
         "WasInHouse": "False",
         "_deepnote_index_column": "35"
        },
        {
         "Age": "64",
         "AssumedOffice": "3-Jan-13",
         "BirthDate": "February 26, 1958 (age 64)",
         "Education": "University of Missouri (BA), Harvard University (JD)",
         "Election": "2024",
         "Name": "Tim Kaine",
         "NumOccupations": "4",
         "Occupation": "Missionary, Lawyer, Teacher, Democratic National Committee Chair",
         "Party": "Democratic",
         "PreviousOffice": "Governor of Virginia, Lieutenant Governor of Virginia, Mayor of Richmond, Virginia",
         "Residence": "Richmond, Virginia",
         "State": "Virginia",
         "WasInHouse": "False",
         "_deepnote_index_column": "91"
        }
       ]
      },
      "text/html": [
       "<div>\n",
       "<style scoped>\n",
       "    .dataframe tbody tr th:only-of-type {\n",
       "        vertical-align: middle;\n",
       "    }\n",
       "\n",
       "    .dataframe tbody tr th {\n",
       "        vertical-align: top;\n",
       "    }\n",
       "\n",
       "    .dataframe thead th {\n",
       "        text-align: right;\n",
       "    }\n",
       "</style>\n",
       "<table border=\"1\" class=\"dataframe\">\n",
       "  <thead>\n",
       "    <tr style=\"text-align: right;\">\n",
       "      <th></th>\n",
       "      <th>Name</th>\n",
       "      <th>State</th>\n",
       "      <th>Party</th>\n",
       "      <th>BirthDate</th>\n",
       "      <th>Occupation</th>\n",
       "      <th>PreviousOffice</th>\n",
       "      <th>Education</th>\n",
       "      <th>AssumedOffice</th>\n",
       "      <th>Election</th>\n",
       "      <th>Residence</th>\n",
       "      <th>Age</th>\n",
       "      <th>WasInHouse</th>\n",
       "      <th>NumOccupations</th>\n",
       "    </tr>\n",
       "  </thead>\n",
       "  <tbody>\n",
       "    <tr>\n",
       "      <th>53</th>\n",
       "      <td>Ben Sasse</td>\n",
       "      <td>Nebraska</td>\n",
       "      <td>Republican</td>\n",
       "      <td>February 22, 1972 (age 50)</td>\n",
       "      <td>Management consultant, House staffer, Professo...</td>\n",
       "      <td>None</td>\n",
       "      <td>Harvard University (AB), St. John's College, M...</td>\n",
       "      <td>3-Jan-15</td>\n",
       "      <td>2026</td>\n",
       "      <td>Fremont, Nebraska</td>\n",
       "      <td>50</td>\n",
       "      <td>False</td>\n",
       "      <td>6</td>\n",
       "    </tr>\n",
       "    <tr>\n",
       "      <th>40</th>\n",
       "      <td>Elizabeth Warren</td>\n",
       "      <td>Massachusetts</td>\n",
       "      <td>Democratic</td>\n",
       "      <td>June 22, 1949 (age 73)</td>\n",
       "      <td>Lawyer, Professor, Research associate, Nonprof...</td>\n",
       "      <td>None</td>\n",
       "      <td>George Washington University, University of Ho...</td>\n",
       "      <td>3-Jan-13</td>\n",
       "      <td>2024</td>\n",
       "      <td>Cambridge, Massachusetts</td>\n",
       "      <td>73</td>\n",
       "      <td>False</td>\n",
       "      <td>6</td>\n",
       "    </tr>\n",
       "    <tr>\n",
       "      <th>37</th>\n",
       "      <td>Angus King</td>\n",
       "      <td>Maine</td>\n",
       "      <td>Independent</td>\n",
       "      <td>March 31, 1944 (age 78)</td>\n",
       "      <td>Lawyer, Senate staffer, Entrepreneur, Corporat...</td>\n",
       "      <td>Governor of Maine</td>\n",
       "      <td>Dartmouth College (BA), University of Virginia...</td>\n",
       "      <td>3-Jan-13</td>\n",
       "      <td>2024</td>\n",
       "      <td>Brunswick, Maine</td>\n",
       "      <td>78</td>\n",
       "      <td>False</td>\n",
       "      <td>5</td>\n",
       "    </tr>\n",
       "    <tr>\n",
       "      <th>35</th>\n",
       "      <td>John Kennedy</td>\n",
       "      <td>Louisiana</td>\n",
       "      <td>Republican</td>\n",
       "      <td>November 21, 1951 (age 70)</td>\n",
       "      <td>Magazine editor, Lawyer, Professor, Staff of L...</td>\n",
       "      <td>Louisiana Treasurer</td>\n",
       "      <td>Vanderbilt University (BA), University of Virg...</td>\n",
       "      <td>3-Jan-17</td>\n",
       "      <td>2022</td>\n",
       "      <td>Madisonville, Louisiana</td>\n",
       "      <td>70</td>\n",
       "      <td>False</td>\n",
       "      <td>5</td>\n",
       "    </tr>\n",
       "    <tr>\n",
       "      <th>91</th>\n",
       "      <td>Tim Kaine</td>\n",
       "      <td>Virginia</td>\n",
       "      <td>Democratic</td>\n",
       "      <td>February 26, 1958 (age 64)</td>\n",
       "      <td>Missionary, Lawyer, Teacher, Democratic Nation...</td>\n",
       "      <td>Governor of Virginia, Lieutenant Governor of V...</td>\n",
       "      <td>University of Missouri (BA), Harvard Universit...</td>\n",
       "      <td>3-Jan-13</td>\n",
       "      <td>2024</td>\n",
       "      <td>Richmond, Virginia</td>\n",
       "      <td>64</td>\n",
       "      <td>False</td>\n",
       "      <td>4</td>\n",
       "    </tr>\n",
       "  </tbody>\n",
       "</table>\n",
       "</div>"
      ],
      "text/plain": [
       "                Name          State        Party                   BirthDate  \\\n",
       "53         Ben Sasse       Nebraska   Republican  February 22, 1972 (age 50)   \n",
       "40  Elizabeth Warren  Massachusetts   Democratic      June 22, 1949 (age 73)   \n",
       "37        Angus King          Maine  Independent     March 31, 1944 (age 78)   \n",
       "35      John Kennedy      Louisiana   Republican  November 21, 1951 (age 70)   \n",
       "91         Tim Kaine       Virginia   Democratic  February 26, 1958 (age 64)   \n",
       "\n",
       "                                           Occupation  \\\n",
       "53  Management consultant, House staffer, Professo...   \n",
       "40  Lawyer, Professor, Research associate, Nonprof...   \n",
       "37  Lawyer, Senate staffer, Entrepreneur, Corporat...   \n",
       "35  Magazine editor, Lawyer, Professor, Staff of L...   \n",
       "91  Missionary, Lawyer, Teacher, Democratic Nation...   \n",
       "\n",
       "                                       PreviousOffice  \\\n",
       "53                                               None   \n",
       "40                                               None   \n",
       "37                                  Governor of Maine   \n",
       "35                                Louisiana Treasurer   \n",
       "91  Governor of Virginia, Lieutenant Governor of V...   \n",
       "\n",
       "                                            Education AssumedOffice  Election  \\\n",
       "53  Harvard University (AB), St. John's College, M...      3-Jan-15      2026   \n",
       "40  George Washington University, University of Ho...      3-Jan-13      2024   \n",
       "37  Dartmouth College (BA), University of Virginia...      3-Jan-13      2024   \n",
       "35  Vanderbilt University (BA), University of Virg...      3-Jan-17      2022   \n",
       "91  University of Missouri (BA), Harvard Universit...      3-Jan-13      2024   \n",
       "\n",
       "                   Residence  Age  WasInHouse  NumOccupations  \n",
       "53         Fremont, Nebraska   50       False               6  \n",
       "40  Cambridge, Massachusetts   73       False               6  \n",
       "37          Brunswick, Maine   78       False               5  \n",
       "35   Madisonville, Louisiana   70       False               5  \n",
       "91        Richmond, Virginia   64       False               4  "
      ]
     },
     "execution_count": 9,
     "metadata": {},
     "output_type": "execute_result"
    }
   ],
   "source": [
    "# Solution to Question 9\n",
    "df['NumOccupations'] = df.Occupation.str.split( ',' ).apply( len )\n",
    "df.sort_values( by='NumOccupations', ascending=False ).head()"
   ]
  },
  {
   "cell_type": "markdown",
   "metadata": {
    "deepnote_cell_height": 108.390625,
    "deepnote_cell_type": "markdown",
    "tags": []
   },
   "source": [
    "## Question 10\n",
    "\n",
    "In which states are both seats in the Senate controlled by the same party?"
   ]
  },
  {
   "cell_type": "code",
   "execution_count": 10,
   "metadata": {
    "deepnote_cell_height": 756,
    "deepnote_cell_type": "code",
    "deepnote_output_heights": [
     610
    ],
    "deepnote_to_be_reexecuted": false,
    "execution_millis": 26,
    "execution_start": 1664650686085,
    "source_hash": "bcaabf24",
    "tags": []
   },
   "outputs": [
    {
     "data": {
      "text/plain": [
       "['Georgia',\n",
       " 'Missouri',\n",
       " 'Arkansas',\n",
       " 'Arizona',\n",
       " 'Connecticut',\n",
       " 'California',\n",
       " 'Hawaii',\n",
       " 'New Mexico',\n",
       " 'Indiana',\n",
       " 'Nebraska',\n",
       " 'Florida',\n",
       " 'Utah',\n",
       " 'Texas',\n",
       " 'Iowa',\n",
       " 'New Jersey',\n",
       " 'Oklahoma',\n",
       " 'Illinois',\n",
       " 'New York',\n",
       " 'Alaska',\n",
       " 'Colorado',\n",
       " 'South Carolina',\n",
       " 'Nevada',\n",
       " 'Kentucky',\n",
       " 'Delaware',\n",
       " 'South Dakota',\n",
       " 'North Dakota',\n",
       " 'Kansas',\n",
       " 'Minnesota',\n",
       " 'North Carolina',\n",
       " 'Tennessee',\n",
       " 'Washington',\n",
       " 'Michigan',\n",
       " 'Maryland',\n",
       " 'Mississippi',\n",
       " 'New Hampshire',\n",
       " 'Virginia',\n",
       " 'Oregon',\n",
       " 'Louisiana',\n",
       " 'Rhode Island',\n",
       " 'Wyoming',\n",
       " 'Alabama',\n",
       " 'Idaho',\n",
       " 'Massachusetts']"
      ]
     },
     "execution_count": 10,
     "metadata": {},
     "output_type": "execute_result"
    }
   ],
   "source": [
    "# Solution to Question 10\n",
    "def has_only_one_party ( state_name ):\n",
    "    return len( df[df.State == state_name].Party.unique() ) == 1\n",
    "[ state for state in df.State.unique() if has_only_one_party( state ) ]"
   ]
  },
  {
   "cell_type": "markdown",
   "metadata": {
    "deepnote_cell_height": 108.390625,
    "deepnote_cell_type": "markdown",
    "tags": []
   },
   "source": [
    "## Question 11\n",
    "\n",
    "Make a histogram of senator ages."
   ]
  },
  {
   "cell_type": "code",
   "execution_count": 11,
   "metadata": {
    "deepnote_cell_height": 674,
    "deepnote_cell_type": "code",
    "deepnote_output_heights": [
     456,
     414
    ],
    "deepnote_to_be_reexecuted": false,
    "execution_millis": 2133,
    "execution_start": 1664650686113,
    "source_hash": "397a8174",
    "tags": []
   },
   "outputs": [
    {
     "data": {
      "image/png": "[encoded data removed]",
      "text/plain": [
       "<Figure size 640x480 with 1 Axes>"
      ]
     },
     "metadata": {
      "image/png": {
       "height": 455,
       "width": 562
      }
     },
     "output_type": "display_data"
    }
   ],
   "source": [
    "# Solution to Question 11\n",
    "# NOTE: Only the df.Age.plot.hist() line is strictly necessary.\n",
    "#       The rest just make the plot readable.\n",
    "import matplotlib.pyplot as plt\n",
    "df.Age.plot.hist()\n",
    "plt.title( 'Distribution of Senator Ages' )\n",
    "plt.xlabel( 'Age' )\n",
    "plt.show()"
   ]
  },
  {
   "cell_type": "markdown",
   "metadata": {
    "deepnote_cell_height": 144.78125,
    "deepnote_cell_type": "markdown",
    "tags": []
   },
   "source": [
    "## Question 12\n",
    "\n",
    "How does average age for republican senators compare to average age for democratic senators?\n",
    "\n",
    "Challenge: Make side-by-side box plots to compare the age distribution by party.\n"
   ]
  },
  {
   "cell_type": "code",
   "execution_count": 12,
   "metadata": {
    "deepnote_cell_height": 207,
    "deepnote_cell_type": "code",
    "deepnote_output_heights": [
     96.9375
    ],
    "deepnote_to_be_reexecuted": false,
    "execution_millis": 768,
    "execution_start": 1664650687481,
    "source_hash": "edb3b4c0",
    "tags": []
   },
   "outputs": [
    {
     "data": {
      "text/plain": [
       "Party\n",
       "Democratic     64.270833\n",
       "Independent    79.500000\n",
       "Republican     65.020000\n",
       "Name: Age, dtype: float64"
      ]
     },
     "execution_count": 12,
     "metadata": {},
     "output_type": "execute_result"
    }
   ],
   "source": [
    "# Solution to Question 12 (challenge solution is further below)\n",
    "df.groupby( 'Party' )['Age'].mean()"
   ]
  },
  {
   "cell_type": "code",
   "execution_count": 13,
   "metadata": {
    "deepnote_cell_height": 623.1875,
    "deepnote_cell_type": "code",
    "deepnote_output_heights": [
     20.1875,
     462
    ],
    "deepnote_to_be_reexecuted": false,
    "execution_millis": 768,
    "execution_start": 1664650687489,
    "source_hash": "caa779ee",
    "tags": []
   },
   "outputs": [
    {
     "data": {
      "text/plain": [
       "<AxesSubplot:title={'center':'Age'}, xlabel='Party'>"
      ]
     },
     "execution_count": 13,
     "metadata": {},
     "output_type": "execute_result"
    },
    {
     "data": {
      "image/png": "[encoded data removed]",
      "text/plain": [
       "<Figure size 640x480 with 1 Axes>"
      ]
     },
     "metadata": {
      "image/png": {
       "height": 461,
       "width": 559
      }
     },
     "output_type": "display_data"
    }
   ],
   "source": [
    "# Solution to Question 12's Challenge\n",
    "df.boxplot( column='Age', by='Party' )"
   ]
  },
  {
   "cell_type": "markdown",
   "metadata": {
    "deepnote_cell_height": 144.78125,
    "deepnote_cell_type": "markdown",
    "tags": []
   },
   "source": [
    "## Question 13\n",
    "\n",
    "Which senator has been in the senate the longest?\n",
    "\n",
    "(Hint: You don't *need* to use `datetime`s, but the solution is cleaner if you do.)\n"
   ]
  },
  {
   "cell_type": "code",
   "execution_count": 14,
   "metadata": {
    "deepnote_cell_height": 551,
    "deepnote_cell_type": "code",
    "deepnote_output_heights": [
     231.25
    ],
    "deepnote_to_be_reexecuted": false,
    "execution_millis": 484,
    "execution_start": 1664650687775,
    "source_hash": "d268e359",
    "tags": []
   },
   "outputs": [
    {
     "data": {
      "application/vnd.deepnote.dataframe.v3+json": {
       "column_count": 14,
       "columns": [
        {
         "dtype": "object",
         "name": "Name",
         "stats": {
          "categories": [
           {
            "count": 1,
            "name": "Patrick Leahy"
           },
           {
            "count": 1,
            "name": "Chuck Grassley"
           },
           {
            "count": 3,
            "name": "3 others"
           }
          ],
          "nan_count": 0,
          "unique_count": 5
         }
        },
        {
         "dtype": "object",
         "name": "State",
         "stats": {
          "categories": [
           {
            "count": 1,
            "name": "Vermont"
           },
           {
            "count": 1,
            "name": "Iowa"
           },
           {
            "count": 3,
            "name": "3 others"
           }
          ],
          "nan_count": 0,
          "unique_count": 5
         }
        },
        {
         "dtype": "object",
         "name": "Party",
         "stats": {
          "categories": [
           {
            "count": 3,
            "name": "Republican"
           },
           {
            "count": 2,
            "name": "Democratic"
           }
          ],
          "nan_count": 0,
          "unique_count": 2
         }
        },
        {
         "dtype": "object",
         "name": "BirthDate",
         "stats": {
          "categories": [
           {
            "count": 1,
            "name": "March 31, 1940 (age 82)"
           },
           {
            "count": 1,
            "name": "September 17, 1933 (age 89)"
           },
           {
            "count": 3,
            "name": "3 others"
           }
          ],
          "nan_count": 0,
          "unique_count": 5
         }
        },
        {
         "dtype": "object",
         "name": "Occupation",
         "stats": {
          "categories": [
           {
            "count": 2,
            "name": "Lawyer"
           },
           {
            "count": 1,
            "name": "Farmer, College professor"
           },
           {
            "count": 2,
            "name": "2 others"
           }
          ],
          "nan_count": 0,
          "unique_count": 4
         }
        },
        {
         "dtype": "object",
         "name": "PreviousOffice",
         "stats": {
          "categories": [
           {
            "count": 1,
            "name": "State's Attorney, Chittenden County, Vermont"
           },
           {
            "count": 1,
            "name": "U.S. House, Iowa House of Representatives"
           },
           {
            "count": 3,
            "name": "3 others"
           }
          ],
          "nan_count": 0,
          "unique_count": 5
         }
        },
        {
         "dtype": "object",
         "name": "Education",
         "stats": {
          "categories": [
           {
            "count": 1,
            "name": "Saint Michael's College (BA), Georgetown University (JD)"
           },
           {
            "count": 1,
            "name": "University of Northern Iowa (BA, MA), University of Iowa"
           },
           {
            "count": 3,
            "name": "3 others"
           }
          ],
          "nan_count": 0,
          "unique_count": 5
         }
        },
        {
         "dtype": "datetime64[ns]",
         "name": "AssumedOffice",
         "stats": {
          "histogram": [
           {
            "bin_end": 214280640000000000,
            "bin_start": 157939200000000000,
            "count": 1
           },
           {
            "bin_end": 270622080000000000,
            "bin_start": 214280640000000000,
            "count": 0
           },
           {
            "bin_end": 326963520000000000,
            "bin_start": 270622080000000000,
            "count": 0
           },
           {
            "bin_end": 383304960000000000,
            "bin_start": 326963520000000000,
            "count": 1
           },
           {
            "bin_end": 439646400000000000,
            "bin_start": 383304960000000000,
            "count": 0
           },
           {
            "bin_end": 495987840000000000,
            "bin_start": 439646400000000000,
            "count": 1
           },
           {
            "bin_end": 552329280000000000,
            "bin_start": 495987840000000000,
            "count": 1
           },
           {
            "bin_end": 608670720000000000,
            "bin_start": 552329280000000000,
            "count": 0
           },
           {
            "bin_end": 665012160000000000,
            "bin_start": 608670720000000000,
            "count": 0
           },
           {
            "bin_end": 721353600000000000,
            "bin_start": 665012160000000000,
            "count": 1
           }
          ],
          "max": "1992-11-10 00:00:00",
          "min": "1975-01-03 00:00:00",
          "nan_count": 0,
          "unique_count": 5
         }
        },
        {
         "dtype": "int64",
         "name": "Election",
         "stats": {
          "histogram": [
           {
            "bin_end": 2022.4,
            "bin_start": 2022,
            "count": 3
           },
           {
            "bin_end": 2022.8,
            "bin_start": 2022.4,
            "count": 0
           },
           {
            "bin_end": 2023.2,
            "bin_start": 2022.8,
            "count": 0
           },
           {
            "bin_end": 2023.6,
            "bin_start": 2023.2,
            "count": 0
           },
           {
            "bin_end": 2024,
            "bin_start": 2023.6,
            "count": 0
           },
           {
            "bin_end": 2024.4,
            "bin_start": 2024,
            "count": 1
           },
           {
            "bin_end": 2024.8,
            "bin_start": 2024.4,
            "count": 0
           },
           {
            "bin_end": 2025.2,
            "bin_start": 2024.8,
            "count": 0
           },
           {
            "bin_end": 2025.6,
            "bin_start": 2025.2,
            "count": 0
           },
           {
            "bin_end": 2026,
            "bin_start": 2025.6,
            "count": 1
           }
          ],
          "max": "2026",
          "min": "2022",
          "nan_count": 0,
          "unique_count": 3
         }
        },
        {
         "dtype": "object",
         "name": "Residence",
         "stats": {
          "categories": [
           {
            "count": 1,
            "name": "Middlesex, Vermont"
           },
           {
            "count": 1,
            "name": "New Hartford, Iowa"
           },
           {
            "count": 3,
            "name": "3 others"
           }
          ],
          "nan_count": 0,
          "unique_count": 5
         }
        },
        {
         "dtype": "int64",
         "name": "Age",
         "stats": {
          "histogram": [
           {
            "bin_end": 80.9,
            "bin_start": 80,
            "count": 1
           },
           {
            "bin_end": 81.8,
            "bin_start": 80.9,
            "count": 0
           },
           {
            "bin_end": 82.7,
            "bin_start": 81.8,
            "count": 1
           },
           {
            "bin_end": 83.6,
            "bin_start": 82.7,
            "count": 0
           },
           {
            "bin_end": 84.5,
            "bin_start": 83.6,
            "count": 0
           },
           {
            "bin_end": 85.4,
            "bin_start": 84.5,
            "count": 0
           },
           {
            "bin_end": 86.3,
            "bin_start": 85.4,
            "count": 0
           },
           {
            "bin_end": 87.2,
            "bin_start": 86.3,
            "count": 0
           },
           {
            "bin_end": 88.1,
            "bin_start": 87.2,
            "count": 1
           },
           {
            "bin_end": 89,
            "bin_start": 88.1,
            "count": 2
           }
          ],
          "max": "89",
          "min": "80",
          "nan_count": 0,
          "unique_count": 4
         }
        },
        {
         "dtype": "bool",
         "name": "WasInHouse",
         "stats": {
          "categories": [
           {
            "count": 3,
            "name": "False"
           },
           {
            "count": 2,
            "name": "True"
           }
          ],
          "nan_count": 0,
          "unique_count": 2
         }
        },
        {
         "dtype": "int64",
         "name": "NumOccupations",
         "stats": {
          "histogram": [
           {
            "bin_end": 1.2,
            "bin_start": 1,
            "count": 2
           },
           {
            "bin_end": 1.4,
            "bin_start": 1.2,
            "count": 0
           },
           {
            "bin_end": 1.6,
            "bin_start": 1.4,
            "count": 0
           },
           {
            "bin_end": 1.8,
            "bin_start": 1.6,
            "count": 0
           },
           {
            "bin_end": 2,
            "bin_start": 1.8,
            "count": 0
           },
           {
            "bin_end": 2.2,
            "bin_start": 2,
            "count": 2
           },
           {
            "bin_end": 2.4000000000000004,
            "bin_start": 2.2,
            "count": 0
           },
           {
            "bin_end": 2.6,
            "bin_start": 2.4000000000000004,
            "count": 0
           },
           {
            "bin_end": 2.8,
            "bin_start": 2.6,
            "count": 0
           },
           {
            "bin_end": 3,
            "bin_start": 2.8,
            "count": 1
           }
          ],
          "max": "3",
          "min": "1",
          "nan_count": 0,
          "unique_count": 3
         }
        },
        {
         "dtype": "timedelta64[ns]",
         "name": "TimeInOffice",
         "stats": {
          "histogram": [
           {
            "bin_end": 999638527772156000,
            "bin_start": 943297087772156000,
            "count": 1
           },
           {
            "bin_end": 1055979967772156000,
            "bin_start": 999638527772156000,
            "count": 0
           },
           {
            "bin_end": 1112321407772155900,
            "bin_start": 1055979967772156000,
            "count": 0
           },
           {
            "bin_end": 1168662847772156000,
            "bin_start": 1112321407772155900,
            "count": 1
           },
           {
            "bin_end": 1225004287772156000,
            "bin_start": 1168662847772156000,
            "count": 1
           },
           {
            "bin_end": 1281345727772156000,
            "bin_start": 1225004287772156000,
            "count": 0
           },
           {
            "bin_end": 1337687167772156000,
            "bin_start": 1281345727772156000,
            "count": 1
           },
           {
            "bin_end": 1394028607772156000,
            "bin_start": 1337687167772156000,
            "count": 0
           },
           {
            "bin_end": 1450370047772156000,
            "bin_start": 1394028607772156000,
            "count": 0
           },
           {
            "bin_end": 1506711487772156000,
            "bin_start": 1450370047772156000,
            "count": 1
           }
          ],
          "max": "17438 days 18:58:07.772156",
          "min": "10917 days 18:58:07.772156",
          "nan_count": 0,
          "unique_count": 5
         }
        },
        {
         "dtype": "int64",
         "name": "_deepnote_index_column"
        }
       ],
       "row_count": 5,
       "rows": [
        {
         "Age": "82",
         "AssumedOffice": "1975-01-03 00:00:00",
         "BirthDate": "March 31, 1940 (age 82)",
         "Education": "Saint Michael's College (BA), Georgetown University (JD)",
         "Election": "2022",
         "Name": "Patrick Leahy",
         "NumOccupations": "1",
         "Occupation": "Lawyer",
         "Party": "Democratic",
         "PreviousOffice": "State's Attorney, Chittenden County, Vermont",
         "Residence": "Middlesex, Vermont",
         "State": "Vermont",
         "TimeInOffice": "17438 days 18:58:07.772156",
         "WasInHouse": "False",
         "_deepnote_index_column": "88"
        },
        {
         "Age": "89",
         "AssumedOffice": "1981-01-03 00:00:00",
         "BirthDate": "September 17, 1933 (age 89)",
         "Education": "University of Northern Iowa (BA, MA), University of Iowa",
         "Election": "2022",
         "Name": "Chuck Grassley",
         "NumOccupations": "2",
         "Occupation": "Farmer, College professor",
         "Party": "Republican",
         "PreviousOffice": "U.S. House, Iowa House of Representatives",
         "Residence": "New Hartford, Iowa",
         "State": "Iowa",
         "TimeInOffice": "15246 days 18:58:07.772156",
         "WasInHouse": "True",
         "_deepnote_index_column": "28"
        },
        {
         "Age": "80",
         "AssumedOffice": "1985-01-03 00:00:00",
         "BirthDate": "February 20, 1942 (age 80)",
         "Education": "University of Louisville (BA), University of Kentucky (JD)",
         "Election": "2026",
         "Name": "Mitch McConnell",
         "NumOccupations": "3",
         "Occupation": "Lawyer, U.S. Senate staff member, United States Attorney Assistant Attorney General for the U.S. Department of Justice Office of Legislative Affairs",
         "Party": "Republican",
         "PreviousOffice": "Judge/Executive of Jefferson County, Kentucky",
         "Residence": "Louisville, Kentucky",
         "State": "Kentucky",
         "TimeInOffice": "13785 days 18:58:07.772156",
         "WasInHouse": "False",
         "_deepnote_index_column": "32"
        },
        {
         "Age": "88",
         "AssumedOffice": "1987-01-03 00:00:00",
         "BirthDate": "May 6, 1934 (age 88)",
         "Education": "University of Alabama (BA, LLB), Birmingham School of Law (JD)",
         "Election": "2022",
         "Name": "Richard Shelby",
         "NumOccupations": "1",
         "Occupation": "Lawyer",
         "Party": "Republican",
         "PreviousOffice": "U.S. House, Alabama Senate",
         "Residence": "Tuscaloosa, Alabama",
         "State": "Alabama",
         "TimeInOffice": "13055 days 18:58:07.772156",
         "WasInHouse": "True",
         "_deepnote_index_column": "0"
        },
        {
         "Age": "89",
         "AssumedOffice": "1992-11-10 00:00:00",
         "BirthDate": "June 22, 1933 (age 89)",
         "Education": "Stanford University (BA)",
         "Election": "2024",
         "Name": "Dianne Feinstein",
         "NumOccupations": "2",
         "Occupation": "Nonprofit organization fellow, California Women's Parole Board Member",
         "Party": "Democratic",
         "PreviousOffice": "Mayor of San Francisco, San Francisco Board of Supervisors",
         "Residence": "San Francisco, California",
         "State": "California",
         "TimeInOffice": "10917 days 18:58:07.772156",
         "WasInHouse": "False",
         "_deepnote_index_column": "8"
        }
       ]
      },
      "text/html": [
       "<div>\n",
       "<style scoped>\n",
       "    .dataframe tbody tr th:only-of-type {\n",
       "        vertical-align: middle;\n",
       "    }\n",
       "\n",
       "    .dataframe tbody tr th {\n",
       "        vertical-align: top;\n",
       "    }\n",
       "\n",
       "    .dataframe thead th {\n",
       "        text-align: right;\n",
       "    }\n",
       "</style>\n",
       "<table border=\"1\" class=\"dataframe\">\n",
       "  <thead>\n",
       "    <tr style=\"text-align: right;\">\n",
       "      <th></th>\n",
       "      <th>Name</th>\n",
       "      <th>State</th>\n",
       "      <th>Party</th>\n",
       "      <th>BirthDate</th>\n",
       "      <th>Occupation</th>\n",
       "      <th>PreviousOffice</th>\n",
       "      <th>Education</th>\n",
       "      <th>AssumedOffice</th>\n",
       "      <th>Election</th>\n",
       "      <th>Residence</th>\n",
       "      <th>Age</th>\n",
       "      <th>WasInHouse</th>\n",
       "      <th>NumOccupations</th>\n",
       "      <th>TimeInOffice</th>\n",
       "    </tr>\n",
       "  </thead>\n",
       "  <tbody>\n",
       "    <tr>\n",
       "      <th>88</th>\n",
       "      <td>Patrick Leahy</td>\n",
       "      <td>Vermont</td>\n",
       "      <td>Democratic</td>\n",
       "      <td>March 31, 1940 (age 82)</td>\n",
       "      <td>Lawyer</td>\n",
       "      <td>State's Attorney, Chittenden County, Vermont</td>\n",
       "      <td>Saint Michael's College (BA), Georgetown Unive...</td>\n",
       "      <td>1975-01-03</td>\n",
       "      <td>2022</td>\n",
       "      <td>Middlesex, Vermont</td>\n",
       "      <td>82</td>\n",
       "      <td>False</td>\n",
       "      <td>1</td>\n",
       "      <td>17438 days 18:58:07.772156</td>\n",
       "    </tr>\n",
       "    <tr>\n",
       "      <th>28</th>\n",
       "      <td>Chuck Grassley</td>\n",
       "      <td>Iowa</td>\n",
       "      <td>Republican</td>\n",
       "      <td>September 17, 1933 (age 89)</td>\n",
       "      <td>Farmer, College professor</td>\n",
       "      <td>U.S. House, Iowa House of Representatives</td>\n",
       "      <td>University of Northern Iowa (BA, MA), Universi...</td>\n",
       "      <td>1981-01-03</td>\n",
       "      <td>2022</td>\n",
       "      <td>New Hartford, Iowa</td>\n",
       "      <td>89</td>\n",
       "      <td>True</td>\n",
       "      <td>2</td>\n",
       "      <td>15246 days 18:58:07.772156</td>\n",
       "    </tr>\n",
       "    <tr>\n",
       "      <th>32</th>\n",
       "      <td>Mitch McConnell</td>\n",
       "      <td>Kentucky</td>\n",
       "      <td>Republican</td>\n",
       "      <td>February 20, 1942 (age 80)</td>\n",
       "      <td>Lawyer, U.S. Senate staff member, United State...</td>\n",
       "      <td>Judge/Executive of Jefferson County, Kentucky</td>\n",
       "      <td>University of Louisville (BA), University of K...</td>\n",
       "      <td>1985-01-03</td>\n",
       "      <td>2026</td>\n",
       "      <td>Louisville, Kentucky</td>\n",
       "      <td>80</td>\n",
       "      <td>False</td>\n",
       "      <td>3</td>\n",
       "      <td>13785 days 18:58:07.772156</td>\n",
       "    </tr>\n",
       "    <tr>\n",
       "      <th>0</th>\n",
       "      <td>Richard Shelby</td>\n",
       "      <td>Alabama</td>\n",
       "      <td>Republican</td>\n",
       "      <td>May 6, 1934 (age 88)</td>\n",
       "      <td>Lawyer</td>\n",
       "      <td>U.S. House, Alabama Senate</td>\n",
       "      <td>University of Alabama (BA, LLB), Birmingham Sc...</td>\n",
       "      <td>1987-01-03</td>\n",
       "      <td>2022</td>\n",
       "      <td>Tuscaloosa, Alabama</td>\n",
       "      <td>88</td>\n",
       "      <td>True</td>\n",
       "      <td>1</td>\n",
       "      <td>13055 days 18:58:07.772156</td>\n",
       "    </tr>\n",
       "    <tr>\n",
       "      <th>8</th>\n",
       "      <td>Dianne Feinstein</td>\n",
       "      <td>California</td>\n",
       "      <td>Democratic</td>\n",
       "      <td>June 22, 1933 (age 89)</td>\n",
       "      <td>Nonprofit organization fellow, California Wome...</td>\n",
       "      <td>Mayor of San Francisco, San Francisco Board of...</td>\n",
       "      <td>Stanford University (BA)</td>\n",
       "      <td>1992-11-10</td>\n",
       "      <td>2024</td>\n",
       "      <td>San Francisco, California</td>\n",
       "      <td>89</td>\n",
       "      <td>False</td>\n",
       "      <td>2</td>\n",
       "      <td>10917 days 18:58:07.772156</td>\n",
       "    </tr>\n",
       "  </tbody>\n",
       "</table>\n",
       "</div>"
      ],
      "text/plain": [
       "                Name       State       Party                    BirthDate  \\\n",
       "88     Patrick Leahy     Vermont  Democratic      March 31, 1940 (age 82)   \n",
       "28    Chuck Grassley        Iowa  Republican  September 17, 1933 (age 89)   \n",
       "32   Mitch McConnell    Kentucky  Republican   February 20, 1942 (age 80)   \n",
       "0     Richard Shelby     Alabama  Republican         May 6, 1934 (age 88)   \n",
       "8   Dianne Feinstein  California  Democratic       June 22, 1933 (age 89)   \n",
       "\n",
       "                                           Occupation  \\\n",
       "88                                             Lawyer   \n",
       "28                          Farmer, College professor   \n",
       "32  Lawyer, U.S. Senate staff member, United State...   \n",
       "0                                              Lawyer   \n",
       "8   Nonprofit organization fellow, California Wome...   \n",
       "\n",
       "                                       PreviousOffice  \\\n",
       "88       State's Attorney, Chittenden County, Vermont   \n",
       "28          U.S. House, Iowa House of Representatives   \n",
       "32      Judge/Executive of Jefferson County, Kentucky   \n",
       "0                          U.S. House, Alabama Senate   \n",
       "8   Mayor of San Francisco, San Francisco Board of...   \n",
       "\n",
       "                                            Education AssumedOffice  Election  \\\n",
       "88  Saint Michael's College (BA), Georgetown Unive...    1975-01-03      2022   \n",
       "28  University of Northern Iowa (BA, MA), Universi...    1981-01-03      2022   \n",
       "32  University of Louisville (BA), University of K...    1985-01-03      2026   \n",
       "0   University of Alabama (BA, LLB), Birmingham Sc...    1987-01-03      2022   \n",
       "8                            Stanford University (BA)    1992-11-10      2024   \n",
       "\n",
       "                    Residence  Age  WasInHouse  NumOccupations  \\\n",
       "88         Middlesex, Vermont   82       False               1   \n",
       "28         New Hartford, Iowa   89        True               2   \n",
       "32       Louisville, Kentucky   80       False               3   \n",
       "0         Tuscaloosa, Alabama   88        True               1   \n",
       "8   San Francisco, California   89       False               2   \n",
       "\n",
       "                 TimeInOffice  \n",
       "88 17438 days 18:58:07.772156  \n",
       "28 15246 days 18:58:07.772156  \n",
       "32 13785 days 18:58:07.772156  \n",
       "0  13055 days 18:58:07.772156  \n",
       "8  10917 days 18:58:07.772156  "
      ]
     },
     "execution_count": 14,
     "metadata": {},
     "output_type": "execute_result"
    }
   ],
   "source": [
    "# Solution to Question 13\n",
    "import datetime\n",
    "# Convert \"AssumedOffice\" column into Python datetime objects for use in computation:\n",
    "df.AssumedOffice = pd.to_datetime( df.AssumedOffice )\n",
    "# Subtract each \"AssumedOffice\" time from now, to find the total time in office so far:\n",
    "now = datetime.datetime.now()\n",
    "df['TimeInOffice'] = now - df.AssumedOffice\n",
    "# Show the table sorted by that value, decreasing:\n",
    "df.sort_values( by='TimeInOffice', ascending=False ).head()"
   ]
  },
  {
   "cell_type": "markdown",
   "metadata": {
    "deepnote_cell_height": 144.78125,
    "deepnote_cell_type": "markdown",
    "tags": []
   },
   "source": [
    "## Question 14 - Challenge\n",
    "\n",
    "Which senator was the oldest when they assumed office?\n",
    "\n",
    "(Hint: You definitely need `datetime`s for this one.)"
   ]
  },
  {
   "cell_type": "code",
   "execution_count": 15,
   "metadata": {
    "deepnote_cell_height": 533,
    "deepnote_cell_type": "code",
    "deepnote_to_be_reexecuted": false,
    "execution_millis": 424,
    "execution_start": 1664650687839,
    "source_hash": "6aecebe7",
    "tags": []
   },
   "outputs": [
    {
     "data": {
      "application/vnd.deepnote.dataframe.v3+json": {
       "column_count": 16,
       "columns": [
        {
         "dtype": "object",
         "name": "Name",
         "stats": {
          "categories": [
           {
            "count": 1,
            "name": "Mitt Romney"
           },
           {
            "count": 1,
            "name": "John Hickenlooper"
           },
           {
            "count": 3,
            "name": "3 others"
           }
          ],
          "nan_count": 0,
          "unique_count": 5
         }
        },
        {
         "dtype": "object",
         "name": "State",
         "stats": {
          "categories": [
           {
            "count": 1,
            "name": "Utah"
           },
           {
            "count": 1,
            "name": "Colorado"
           },
           {
            "count": 3,
            "name": "3 others"
           }
          ],
          "nan_count": 0,
          "unique_count": 5
         }
        },
        {
         "dtype": "object",
         "name": "Party",
         "stats": {
          "categories": [
           {
            "count": 2,
            "name": "Republican"
           },
           {
            "count": 2,
            "name": "Democratic"
           },
           {
            "count": 1,
            "name": "Independent"
           }
          ],
          "nan_count": 0,
          "unique_count": 3
         }
        },
        {
         "dtype": "object",
         "name": "BirthDate",
         "stats": {
          "categories": [
           {
            "count": 1,
            "name": "March 12, 1947 (age 75)"
           },
           {
            "count": 1,
            "name": "February 7, 1952 (age 70)"
           },
           {
            "count": 3,
            "name": "3 others"
           }
          ],
          "nan_count": 0,
          "unique_count": 5
         }
        },
        {
         "dtype": "object",
         "name": "Occupation",
         "stats": {
          "categories": [
           {
            "count": 1,
            "name": "Businessman"
           },
           {
            "count": 1,
            "name": "Geologist, Businessman"
           },
           {
            "count": 3,
            "name": "3 others"
           }
          ],
          "nan_count": 0,
          "unique_count": 5
         }
        },
        {
         "dtype": "object",
         "name": "PreviousOffice",
         "stats": {
          "categories": [
           {
            "count": 1,
            "name": "Governor of Massachusetts"
           },
           {
            "count": 1,
            "name": "Governor of Colorado, Mayor of Denver"
           },
           {
            "count": 3,
            "name": "3 others"
           }
          ],
          "nan_count": 0,
          "unique_count": 5
         }
        },
        {
         "dtype": "object",
         "name": "Education",
         "stats": {
          "categories": [
           {
            "count": 1,
            "name": "Brigham Young University (BA), Harvard University (JD/MBA)"
           },
           {
            "count": 1,
            "name": "Wesleyan University (BA, MS)"
           },
           {
            "count": 3,
            "name": "3 others"
           }
          ],
          "nan_count": 0,
          "unique_count": 5
         }
        },
        {
         "dtype": "datetime64[ns]",
         "name": "AssumedOffice",
         "stats": {
          "histogram": [
           {
            "bin_end": 1382417280000000000,
            "bin_start": 1357171200000000000,
            "count": 2
           },
           {
            "bin_end": 1407663360000000000,
            "bin_start": 1382417280000000000,
            "count": 0
           },
           {
            "bin_end": 1432909440000000000,
            "bin_start": 1407663360000000000,
            "count": 0
           },
           {
            "bin_end": 1458155520000000000,
            "bin_start": 1432909440000000000,
            "count": 0
           },
           {
            "bin_end": 1483401600000000000,
            "bin_start": 1458155520000000000,
            "count": 0
           },
           {
            "bin_end": 1508647680000000000,
            "bin_start": 1483401600000000000,
            "count": 0
           },
           {
            "bin_end": 1533893760000000000,
            "bin_start": 1508647680000000000,
            "count": 0
           },
           {
            "bin_end": 1559139840000000000,
            "bin_start": 1533893760000000000,
            "count": 2
           },
           {
            "bin_end": 1584385920000000000,
            "bin_start": 1559139840000000000,
            "count": 0
           },
           {
            "bin_end": 1609632000000000000,
            "bin_start": 1584385920000000000,
            "count": 1
           }
          ],
          "max": "2021-01-03 00:00:00",
          "min": "2013-01-03 00:00:00",
          "nan_count": 0,
          "unique_count": 4
         }
        },
        {
         "dtype": "int64",
         "name": "Election",
         "stats": {
          "histogram": [
           {
            "bin_end": 2024.2,
            "bin_start": 2024,
            "count": 3
           },
           {
            "bin_end": 2024.4,
            "bin_start": 2024.2,
            "count": 0
           },
           {
            "bin_end": 2024.6,
            "bin_start": 2024.4,
            "count": 0
           },
           {
            "bin_end": 2024.8,
            "bin_start": 2024.6,
            "count": 0
           },
           {
            "bin_end": 2025,
            "bin_start": 2024.8,
            "count": 0
           },
           {
            "bin_end": 2025.2,
            "bin_start": 2025,
            "count": 0
           },
           {
            "bin_end": 2025.4,
            "bin_start": 2025.2,
            "count": 0
           },
           {
            "bin_end": 2025.6,
            "bin_start": 2025.4,
            "count": 0
           },
           {
            "bin_end": 2025.8,
            "bin_start": 2025.6,
            "count": 0
           },
           {
            "bin_end": 2026,
            "bin_start": 2025.8,
            "count": 2
           }
          ],
          "max": "2026",
          "min": "2024",
          "nan_count": 0,
          "unique_count": 2
         }
        },
        {
         "dtype": "object",
         "name": "Residence",
         "stats": {
          "categories": [
           {
            "count": 1,
            "name": "Holladay, Utah"
           },
           {
            "count": 1,
            "name": "Denver, Colorado"
           },
           {
            "count": 3,
            "name": "3 others"
           }
          ],
          "nan_count": 0,
          "unique_count": 5
         }
        },
        {
         "dtype": "int64",
         "name": "Age",
         "stats": {
          "histogram": [
           {
            "bin_end": 70.8,
            "bin_start": 70,
            "count": 2
           },
           {
            "bin_end": 71.6,
            "bin_start": 70.8,
            "count": 0
           },
           {
            "bin_end": 72.4,
            "bin_start": 71.6,
            "count": 0
           },
           {
            "bin_end": 73.2,
            "bin_start": 72.4,
            "count": 0
           },
           {
            "bin_end": 74,
            "bin_start": 73.2,
            "count": 0
           },
           {
            "bin_end": 74.8,
            "bin_start": 74,
            "count": 0
           },
           {
            "bin_end": 75.6,
            "bin_start": 74.8,
            "count": 1
           },
           {
            "bin_end": 76.4,
            "bin_start": 75.6,
            "count": 1
           },
           {
            "bin_end": 77.2,
            "bin_start": 76.4,
            "count": 0
           },
           {
            "bin_end": 78,
            "bin_start": 77.2,
            "count": 1
           }
          ],
          "max": "78",
          "min": "70",
          "nan_count": 0,
          "unique_count": 4
         }
        },
        {
         "dtype": "bool",
         "name": "WasInHouse",
         "stats": {
          "categories": [
           {
            "count": 3,
            "name": "False"
           },
           {
            "count": 2,
            "name": "True"
           }
          ],
          "nan_count": 0,
          "unique_count": 2
         }
        },
        {
         "dtype": "int64",
         "name": "NumOccupations",
         "stats": {
          "histogram": [
           {
            "bin_end": 1.4,
            "bin_start": 1,
            "count": 1
           },
           {
            "bin_end": 1.8,
            "bin_start": 1.4,
            "count": 0
           },
           {
            "bin_end": 2.2,
            "bin_start": 1.8,
            "count": 2
           },
           {
            "bin_end": 2.6,
            "bin_start": 2.2,
            "count": 0
           },
           {
            "bin_end": 3,
            "bin_start": 2.6,
            "count": 0
           },
           {
            "bin_end": 3.4000000000000004,
            "bin_start": 3,
            "count": 0
           },
           {
            "bin_end": 3.8000000000000003,
            "bin_start": 3.4000000000000004,
            "count": 0
           },
           {
            "bin_end": 4.2,
            "bin_start": 3.8000000000000003,
            "count": 1
           },
           {
            "bin_end": 4.6,
            "bin_start": 4.2,
            "count": 0
           },
           {
            "bin_end": 5,
            "bin_start": 4.6,
            "count": 1
           }
          ],
          "max": "5",
          "min": "1",
          "nan_count": 0,
          "unique_count": 4
         }
        },
        {
         "dtype": "timedelta64[ns]",
         "name": "TimeInOffice",
         "stats": {
          "histogram": [
           {
            "bin_end": 80264767772156000,
            "bin_start": 55018687772156000,
            "count": 1
           },
           {
            "bin_end": 105510847772156000,
            "bin_start": 80264767772156000,
            "count": 0
           },
           {
            "bin_end": 130756927772156020,
            "bin_start": 105510847772156000,
            "count": 2
           },
           {
            "bin_end": 156003007772156030,
            "bin_start": 130756927772156020,
            "count": 0
           },
           {
            "bin_end": 181249087772156030,
            "bin_start": 156003007772156030,
            "count": 0
           },
           {
            "bin_end": 206495167772156030,
            "bin_start": 181249087772156030,
            "count": 0
           },
           {
            "bin_end": 231741247772156030,
            "bin_start": 206495167772156030,
            "count": 0
           },
           {
            "bin_end": 256987327772156030,
            "bin_start": 231741247772156030,
            "count": 0
           },
           {
            "bin_end": 282233407772156030,
            "bin_start": 256987327772156030,
            "count": 0
           },
           {
            "bin_end": 307479487772156000,
            "bin_start": 282233407772156030,
            "count": 2
           }
          ],
          "max": "3558 days 18:58:07.772156",
          "min": "636 days 18:58:07.772156",
          "nan_count": 0,
          "unique_count": 4
         }
        },
        {
         "dtype": "datetime64[ns]",
         "name": "BirthDatetime",
         "stats": {
          "histogram": [
           {
            "bin_end": -786939840000000000,
            "bin_start": -812764800000000000,
            "count": 1
           },
           {
            "bin_end": -761114880000000000,
            "bin_start": -786939840000000000,
            "count": 0
           },
           {
            "bin_end": -735289920000000000,
            "bin_start": -761114880000000000,
            "count": 1
           },
           {
            "bin_end": -709464960000000000,
            "bin_start": -735289920000000000,
            "count": 1
           },
           {
            "bin_end": -683640000000000000,
            "bin_start": -709464960000000000,
            "count": 0
           },
           {
            "bin_end": -657815040000000000,
            "bin_start": -683640000000000000,
            "count": 0
           },
           {
            "bin_end": -631990080000000000,
            "bin_start": -657815040000000000,
            "count": 0
           },
           {
            "bin_end": -606165120000000000,
            "bin_start": -631990080000000000,
            "count": 0
           },
           {
            "bin_end": -580340160000000000,
            "bin_start": -606165120000000000,
            "count": 0
           },
           {
            "bin_end": -554515200000000000,
            "bin_start": -580340160000000000,
            "count": 2
           }
          ],
          "max": "1952-06-06 00:00:00",
          "min": "1944-03-31 00:00:00",
          "nan_count": 0,
          "unique_count": 5
         }
        },
        {
         "dtype": "timedelta64[ns]",
         "name": "AgeWhenAssumedOffice",
         "stats": {
          "histogram": [
           {
            "bin_end": 2117517120000000000,
            "bin_start": 2100988800000000000,
            "count": 2
           },
           {
            "bin_end": 2134045440000000000,
            "bin_start": 2117517120000000000,
            "count": 0
           },
           {
            "bin_end": 2150573760000000000,
            "bin_start": 2134045440000000000,
            "count": 0
           },
           {
            "bin_end": 2167102080000000000,
            "bin_start": 2150573760000000000,
            "count": 0
           },
           {
            "bin_end": 2183630400000000000,
            "bin_start": 2167102080000000000,
            "count": 2
           },
           {
            "bin_end": 2200158720000000000,
            "bin_start": 2183630400000000000,
            "count": 0
           },
           {
            "bin_end": 2216687040000000000,
            "bin_start": 2200158720000000000,
            "count": 0
           },
           {
            "bin_end": 2233215360000000000,
            "bin_start": 2216687040000000000,
            "count": 0
           },
           {
            "bin_end": 2249743680000000000,
            "bin_start": 2233215360000000000,
            "count": 0
           },
           {
            "bin_end": 2266272000000000000,
            "bin_start": 2249743680000000000,
            "count": 1
           }
          ],
          "max": "26230 days 00:00:00",
          "min": "24317 days 00:00:00",
          "nan_count": 0,
          "unique_count": 5
         }
        },
        {
         "dtype": "int64",
         "name": "_deepnote_index_column"
        }
       ],
       "row_count": 5,
       "rows": [
        {
         "Age": "75",
         "AgeWhenAssumedOffice": "26230 days 00:00:00",
         "AssumedOffice": "2019-01-03 00:00:00",
         "BirthDate": "March 12, 1947 (age 75)",
         "BirthDatetime": "1947-03-12 00:00:00",
         "Education": "Brigham Young University (BA), Harvard University (JD/MBA)",
         "Election": "2024",
         "Name": "Mitt Romney",
         "NumOccupations": "1",
         "Occupation": "Businessman",
         "Party": "Republican",
         "PreviousOffice": "Governor of Massachusetts",
         "Residence": "Holladay, Utah",
         "State": "Utah",
         "TimeInOffice": "1367 days 18:58:07.772156",
         "WasInHouse": "False",
         "_deepnote_index_column": "87"
        },
        {
         "Age": "70",
         "AgeWhenAssumedOffice": "25168 days 00:00:00",
         "AssumedOffice": "2021-01-03 00:00:00",
         "BirthDate": "February 7, 1952 (age 70)",
         "BirthDatetime": "1952-02-07 00:00:00",
         "Education": "Wesleyan University (BA, MS)",
         "Election": "2026",
         "Name": "John Hickenlooper",
         "NumOccupations": "2",
         "Occupation": "Geologist, Businessman",
         "Party": "Democratic",
         "PreviousOffice": "Governor of Colorado, Mayor of Denver",
         "Residence": "Denver, Colorado",
         "State": "Colorado",
         "TimeInOffice": "636 days 18:58:07.772156",
         "WasInHouse": "False",
         "_deepnote_index_column": "11"
        },
        {
         "Age": "78",
         "AgeWhenAssumedOffice": "25115 days 00:00:00",
         "AssumedOffice": "2013-01-03 00:00:00",
         "BirthDate": "March 31, 1944 (age 78)",
         "BirthDatetime": "1944-03-31 00:00:00",
         "Education": "Dartmouth College (BA), University of Virginia (JD)",
         "Election": "2024",
         "Name": "Angus King",
         "NumOccupations": "5",
         "Occupation": "Lawyer, Senate staffer, Entrepreneur, Corporate executive, Public television news program host",
         "Party": "Independent",
         "PreviousOffice": "Governor of Maine",
         "Residence": "Brunswick, Maine",
         "State": "Maine",
         "TimeInOffice": "3558 days 18:58:07.772156",
         "WasInHouse": "False",
         "_deepnote_index_column": "37"
        },
        {
         "Age": "76",
         "AgeWhenAssumedOffice": "24477 days 00:00:00",
         "AssumedOffice": "2013-07-16 00:00:00",
         "BirthDate": "July 11, 1946 (age 76)",
         "BirthDatetime": "1946-07-11 00:00:00",
         "Education": "Boston College (BA, JD)",
         "Election": "2026",
         "Name": "Ed Markey",
         "NumOccupations": "2",
         "Occupation": "United States Army Reserve, Lawyer",
         "Party": "Democratic",
         "PreviousOffice": "U.S. House, Massachusetts House of Representatives",
         "Residence": "Malden, Massachusetts",
         "State": "Massachusetts",
         "TimeInOffice": "3364 days 18:58:07.772156",
         "WasInHouse": "True",
         "_deepnote_index_column": "41"
        },
        {
         "Age": "70",
         "AgeWhenAssumedOffice": "24317 days 00:00:00",
         "AssumedOffice": "2019-01-03 00:00:00",
         "BirthDate": "June 6, 1952 (age 70)",
         "BirthDatetime": "1952-06-06 00:00:00",
         "Education": "Mississippi State University (BS)",
         "Election": "2024",
         "Name": "Marsha Blackburn",
         "NumOccupations": "4",
         "Occupation": "Marketing consultant, Executive Director of the Tennessee Film, Entertainment, and Music Commission",
         "Party": "Republican",
         "PreviousOffice": "U.S. House, Tennessee Senate",
         "Residence": "Brentwood, Tennessee",
         "State": "Tennessee",
         "TimeInOffice": "1367 days 18:58:07.772156",
         "WasInHouse": "True",
         "_deepnote_index_column": "82"
        }
       ]
      },
      "text/html": [
       "<div>\n",
       "<style scoped>\n",
       "    .dataframe tbody tr th:only-of-type {\n",
       "        vertical-align: middle;\n",
       "    }\n",
       "\n",
       "    .dataframe tbody tr th {\n",
       "        vertical-align: top;\n",
       "    }\n",
       "\n",
       "    .dataframe thead th {\n",
       "        text-align: right;\n",
       "    }\n",
       "</style>\n",
       "<table border=\"1\" class=\"dataframe\">\n",
       "  <thead>\n",
       "    <tr style=\"text-align: right;\">\n",
       "      <th></th>\n",
       "      <th>Name</th>\n",
       "      <th>State</th>\n",
       "      <th>Party</th>\n",
       "      <th>BirthDate</th>\n",
       "      <th>Occupation</th>\n",
       "      <th>PreviousOffice</th>\n",
       "      <th>Education</th>\n",
       "      <th>AssumedOffice</th>\n",
       "      <th>Election</th>\n",
       "      <th>Residence</th>\n",
       "      <th>Age</th>\n",
       "      <th>WasInHouse</th>\n",
       "      <th>NumOccupations</th>\n",
       "      <th>TimeInOffice</th>\n",
       "      <th>BirthDatetime</th>\n",
       "      <th>AgeWhenAssumedOffice</th>\n",
       "    </tr>\n",
       "  </thead>\n",
       "  <tbody>\n",
       "    <tr>\n",
       "      <th>87</th>\n",
       "      <td>Mitt Romney</td>\n",
       "      <td>Utah</td>\n",
       "      <td>Republican</td>\n",
       "      <td>March 12, 1947 (age 75)</td>\n",
       "      <td>Businessman</td>\n",
       "      <td>Governor of Massachusetts</td>\n",
       "      <td>Brigham Young University (BA), Harvard Univers...</td>\n",
       "      <td>2019-01-03</td>\n",
       "      <td>2024</td>\n",
       "      <td>Holladay, Utah</td>\n",
       "      <td>75</td>\n",
       "      <td>False</td>\n",
       "      <td>1</td>\n",
       "      <td>1367 days 18:58:07.772156</td>\n",
       "      <td>1947-03-12</td>\n",
       "      <td>26230 days</td>\n",
       "    </tr>\n",
       "    <tr>\n",
       "      <th>11</th>\n",
       "      <td>John Hickenlooper</td>\n",
       "      <td>Colorado</td>\n",
       "      <td>Democratic</td>\n",
       "      <td>February 7, 1952 (age 70)</td>\n",
       "      <td>Geologist, Businessman</td>\n",
       "      <td>Governor of Colorado, Mayor of Denver</td>\n",
       "      <td>Wesleyan University (BA, MS)</td>\n",
       "      <td>2021-01-03</td>\n",
       "      <td>2026</td>\n",
       "      <td>Denver, Colorado</td>\n",
       "      <td>70</td>\n",
       "      <td>False</td>\n",
       "      <td>2</td>\n",
       "      <td>636 days 18:58:07.772156</td>\n",
       "      <td>1952-02-07</td>\n",
       "      <td>25168 days</td>\n",
       "    </tr>\n",
       "    <tr>\n",
       "      <th>37</th>\n",
       "      <td>Angus King</td>\n",
       "      <td>Maine</td>\n",
       "      <td>Independent</td>\n",
       "      <td>March 31, 1944 (age 78)</td>\n",
       "      <td>Lawyer, Senate staffer, Entrepreneur, Corporat...</td>\n",
       "      <td>Governor of Maine</td>\n",
       "      <td>Dartmouth College (BA), University of Virginia...</td>\n",
       "      <td>2013-01-03</td>\n",
       "      <td>2024</td>\n",
       "      <td>Brunswick, Maine</td>\n",
       "      <td>78</td>\n",
       "      <td>False</td>\n",
       "      <td>5</td>\n",
       "      <td>3558 days 18:58:07.772156</td>\n",
       "      <td>1944-03-31</td>\n",
       "      <td>25115 days</td>\n",
       "    </tr>\n",
       "    <tr>\n",
       "      <th>41</th>\n",
       "      <td>Ed Markey</td>\n",
       "      <td>Massachusetts</td>\n",
       "      <td>Democratic</td>\n",
       "      <td>July 11, 1946 (age 76)</td>\n",
       "      <td>United States Army Reserve, Lawyer</td>\n",
       "      <td>U.S. House, Massachusetts House of Representat...</td>\n",
       "      <td>Boston College (BA, JD)</td>\n",
       "      <td>2013-07-16</td>\n",
       "      <td>2026</td>\n",
       "      <td>Malden, Massachusetts</td>\n",
       "      <td>76</td>\n",
       "      <td>True</td>\n",
       "      <td>2</td>\n",
       "      <td>3364 days 18:58:07.772156</td>\n",
       "      <td>1946-07-11</td>\n",
       "      <td>24477 days</td>\n",
       "    </tr>\n",
       "    <tr>\n",
       "      <th>82</th>\n",
       "      <td>Marsha Blackburn</td>\n",
       "      <td>Tennessee</td>\n",
       "      <td>Republican</td>\n",
       "      <td>June 6, 1952 (age 70)</td>\n",
       "      <td>Marketing consultant, Executive Director of th...</td>\n",
       "      <td>U.S. House, Tennessee Senate</td>\n",
       "      <td>Mississippi State University (BS)</td>\n",
       "      <td>2019-01-03</td>\n",
       "      <td>2024</td>\n",
       "      <td>Brentwood, Tennessee</td>\n",
       "      <td>70</td>\n",
       "      <td>True</td>\n",
       "      <td>4</td>\n",
       "      <td>1367 days 18:58:07.772156</td>\n",
       "      <td>1952-06-06</td>\n",
       "      <td>24317 days</td>\n",
       "    </tr>\n",
       "  </tbody>\n",
       "</table>\n",
       "</div>"
      ],
      "text/plain": [
       "                 Name          State        Party                  BirthDate  \\\n",
       "87        Mitt Romney           Utah   Republican    March 12, 1947 (age 75)   \n",
       "11  John Hickenlooper       Colorado   Democratic  February 7, 1952 (age 70)   \n",
       "37         Angus King          Maine  Independent    March 31, 1944 (age 78)   \n",
       "41          Ed Markey  Massachusetts   Democratic     July 11, 1946 (age 76)   \n",
       "82   Marsha Blackburn      Tennessee   Republican      June 6, 1952 (age 70)   \n",
       "\n",
       "                                           Occupation  \\\n",
       "87                                        Businessman   \n",
       "11                             Geologist, Businessman   \n",
       "37  Lawyer, Senate staffer, Entrepreneur, Corporat...   \n",
       "41                 United States Army Reserve, Lawyer   \n",
       "82  Marketing consultant, Executive Director of th...   \n",
       "\n",
       "                                       PreviousOffice  \\\n",
       "87                          Governor of Massachusetts   \n",
       "11              Governor of Colorado, Mayor of Denver   \n",
       "37                                  Governor of Maine   \n",
       "41  U.S. House, Massachusetts House of Representat...   \n",
       "82                       U.S. House, Tennessee Senate   \n",
       "\n",
       "                                            Education AssumedOffice  Election  \\\n",
       "87  Brigham Young University (BA), Harvard Univers...    2019-01-03      2024   \n",
       "11                       Wesleyan University (BA, MS)    2021-01-03      2026   \n",
       "37  Dartmouth College (BA), University of Virginia...    2013-01-03      2024   \n",
       "41                            Boston College (BA, JD)    2013-07-16      2026   \n",
       "82                  Mississippi State University (BS)    2019-01-03      2024   \n",
       "\n",
       "                Residence  Age  WasInHouse  NumOccupations  \\\n",
       "87         Holladay, Utah   75       False               1   \n",
       "11       Denver, Colorado   70       False               2   \n",
       "37       Brunswick, Maine   78       False               5   \n",
       "41  Malden, Massachusetts   76        True               2   \n",
       "82   Brentwood, Tennessee   70        True               4   \n",
       "\n",
       "                TimeInOffice BirthDatetime AgeWhenAssumedOffice  \n",
       "87 1367 days 18:58:07.772156    1947-03-12           26230 days  \n",
       "11  636 days 18:58:07.772156    1952-02-07           25168 days  \n",
       "37 3558 days 18:58:07.772156    1944-03-31           25115 days  \n",
       "41 3364 days 18:58:07.772156    1946-07-11           24477 days  \n",
       "82 1367 days 18:58:07.772156    1952-06-06           24317 days  "
      ]
     },
     "execution_count": 15,
     "metadata": {},
     "output_type": "execute_result"
    }
   ],
   "source": [
    "# Solution to Question 14\n",
    "# Convert the BirthDate column into a Python datetime, for use in computations:\n",
    "# (Note that we have to drop the end of each BirthDate, where it has the age.)\n",
    "df['BirthDatetime'] = pd.to_datetime( df.BirthDate.str[:-9] )\n",
    "# Compute the Senator's age when they assumed office:\n",
    "df['AgeWhenAssumedOffice'] = df.AssumedOffice - df.BirthDatetime\n",
    "# Show the table sorted by that value, decreasing:\n",
    "df.sort_values( by='AgeWhenAssumedOffice', ascending=False ).head()"
   ]
  },
  {
   "cell_type": "markdown",
   "metadata": {
    "deepnote_cell_height": 144.78125,
    "deepnote_cell_type": "markdown",
    "tags": []
   },
   "source": [
    "## Question 15 - Challenge\n",
    "\n",
    "Which college/university granted the most degrees to Senate members?\n",
    "\n",
    "(Hint: You probably need regular expressions for this one.)"
   ]
  },
  {
   "cell_type": "code",
   "execution_count": 16,
   "metadata": {
    "deepnote_cell_height": 539.25,
    "deepnote_cell_type": "code",
    "deepnote_output_heights": [
     231.25
    ],
    "deepnote_to_be_reexecuted": false,
    "execution_millis": 292,
    "execution_start": 1664650687975,
    "source_hash": "bb5c17bb",
    "tags": []
   },
   "outputs": [
    {
     "data": {
      "text/plain": [
       "Harvard University                            14\n",
       "Yale University                                9\n",
       "Georgetown University                          8\n",
       "Stanford University                            6\n",
       "University of Virginia                         5\n",
       "                                              ..\n",
       "College of the Holy Cross                      1\n",
       "University of Maryland University College      1\n",
       "St. Lawrence University                        1\n",
       "University of Mary                             1\n",
       "Northeastern University                        1\n",
       "Length: 111, dtype: int64"
      ]
     },
     "execution_count": 16,
     "metadata": {},
     "output_type": "execute_result"
    }
   ],
   "source": [
    "# Solution to Question 15\n",
    "# NOTE: To help the reader understand this solution, I suggest running each line separately,\n",
    "#       in a cell on its own, to see the value of its output alone.\n",
    "# Break each Senator's education up at the commas:\n",
    "education_parts = df.Education.str.split( ', ' )\n",
    "# Flatten all those results into one big list for all Senators:\n",
    "schools_and_more = [ text for parts in education_parts for text in parts ]\n",
    "# Drop little bits that don't contain any school names:\n",
    "without_junk = [ text for text in schools_and_more if '(' in text ]\n",
    "# Erase the degree from the end of each piece of text, leaving only the school name:\n",
    "just_schools = [ text[:text.index( '(' )] for text in without_junk ]\n",
    "# Build a frequency table from that list of school names:\n",
    "pd.Series( just_schools ).value_counts()"
   ]
  }
 ],
 "metadata": {
  "deepnote": {},
  "deepnote_execution_queue": [],
  "deepnote_notebook_id": "52c04b59-db54-425f-bb02-2c49f0bff1b6",
  "kernelspec": {
   "display_name": "Python 3 (ipykernel)",
   "language": "python",
   "name": "python3"
  },
  "language_info": {
   "codemirror_mode": {
    "name": "ipython",
    "version": 3
   },
   "file_extension": ".py",
   "mimetype": "text/x-python",
   "name": "python",
   "nbconvert_exporter": "python",
   "pygments_lexer": "ipython3",
   "version": "3.8.12"
  }
 },
 "nbformat": 4,
 "nbformat_minor": 4
}
