{
 "cells": [
  {
   "cell_type": "markdown",
   "metadata": {
    "cell_id": "a53e807e651f4e27b7e64d79dbd19871",
    "deepnote_cell_height": 514.078125,
    "deepnote_cell_type": "markdown",
    "tags": []
   },
   "source": [
    "# Python Practice Exercises\n",
    "\n",
    "Thanks to Luke Cherveny for creating these Python exercises.\n",
    "\n",
    "## Data file\n",
    "\n",
    "The file `senate_2022.csv` contains data on the 100 current members of the United States Senate. It is a cleaned copy/paste from [Wikipedia](https://en.wikipedia.org/wiki/List_of_current_United_States_senators). Variables include\n",
    "\n",
    " * Name: Senator name\n",
    " * State: State the senator represents\n",
    " * Party: Official political affiliation \n",
    " * BirthDate: Date of Birth (along with age)\n",
    " * Occupation: Declared occupation(s), separated by commas\n",
    " * PreviousOffice: Previously held elected offices, separated by commas\n",
    " * Education: College/University and degree, separated by commas\n",
    " * AssumedOffice: Date senate seat assumed\n",
    " * Election: Year the senator's seat is up for election\n",
    " * Residence: Senator official city of residence (in the state they represent)\n"
   ]
  },
  {
   "cell_type": "markdown",
   "metadata": {
    "cell_id": "9cabec6fec21429d997db45291950c32",
    "deepnote_cell_height": 108.390625,
    "deepnote_cell_type": "markdown",
    "tags": []
   },
   "source": [
    "## Question 1\n",
    "\n",
    "Load the `.csv` as a pandas DataFrame"
   ]
  },
  {
   "cell_type": "code",
   "execution_count": null,
   "metadata": {
    "cell_id": "644632b74df447baaf910aad76714486",
    "deepnote_cell_height": 76,
    "deepnote_cell_type": "code",
    "deepnote_to_be_reexecuted": false,
    "execution_millis": 0,
    "execution_start": 1664650816073,
    "source_hash": "6bd14b2a",
    "tags": []
   },
   "outputs": [],
   "source": [
    "# Place your Solution to Question 1 here"
   ]
  },
  {
   "cell_type": "markdown",
   "metadata": {
    "cell_id": "7d42dedd409a4b9fbbc676f916eb59c8",
    "deepnote_cell_height": 108.390625,
    "deepnote_cell_type": "markdown",
    "tags": []
   },
   "source": [
    "## Question 2\n",
    "\n",
    "Make a list of the states that have Senate elections this year."
   ]
  },
  {
   "cell_type": "code",
   "execution_count": null,
   "metadata": {
    "cell_id": "cdd81d75337c4a3f92197f867ca1f1c1",
    "deepnote_cell_height": 76,
    "deepnote_cell_type": "code",
    "deepnote_output_heights": [
     135
    ],
    "deepnote_to_be_reexecuted": false,
    "execution_millis": 130312,
    "execution_start": 1664650816075,
    "source_hash": "aaca9a6d",
    "tags": []
   },
   "outputs": [],
   "source": [
    "# Place your Solution to Question 2 here"
   ]
  },
  {
   "cell_type": "markdown",
   "metadata": {
    "cell_id": "6391618e8bbd43a8ba14bf17c6c7dae0",
    "deepnote_cell_height": 108.390625,
    "deepnote_cell_type": "markdown",
    "tags": []
   },
   "source": [
    "## Question 3\n",
    "\n",
    "What is the political make up of the US Senate?"
   ]
  },
  {
   "cell_type": "code",
   "execution_count": null,
   "metadata": {
    "cell_id": "2d5974c6f95b4b77a0ff9fa9a8884c35",
    "deepnote_cell_height": 76,
    "deepnote_cell_type": "code",
    "deepnote_output_heights": [
     78
    ],
    "deepnote_to_be_reexecuted": false,
    "execution_millis": 130285,
    "execution_start": 1664650816092,
    "source_hash": "9142540c",
    "tags": []
   },
   "outputs": [],
   "source": [
    "# Place your Solution to Question 3 here"
   ]
  },
  {
   "cell_type": "markdown",
   "metadata": {
    "cell_id": "007c5318b7664fdd949ac10a334d5665",
    "deepnote_cell_height": 108.390625,
    "deepnote_cell_type": "markdown",
    "tags": []
   },
   "source": [
    "## Question 4\n",
    "\n",
    "Which senators have a JD?"
   ]
  },
  {
   "cell_type": "code",
   "execution_count": null,
   "metadata": {
    "cell_id": "397ff10f59d54602abf5bfa31d259d4c",
    "deepnote_cell_height": 76,
    "deepnote_cell_type": "code",
    "deepnote_to_be_reexecuted": false,
    "execution_millis": 0,
    "execution_start": 1664650816093,
    "source_hash": "60709b99",
    "tags": []
   },
   "outputs": [],
   "source": [
    "# Place your Solution to Question 4 here"
   ]
  },
  {
   "cell_type": "markdown",
   "metadata": {
    "cell_id": "f9f9baa9f4cd4fde80b3a00c1e4966e0",
    "deepnote_cell_height": 108.390625,
    "deepnote_cell_type": "markdown",
    "tags": []
   },
   "source": [
    "## Question 5\n",
    "\n",
    "Which senator names have more than two words?"
   ]
  },
  {
   "cell_type": "code",
   "execution_count": null,
   "metadata": {
    "cell_id": "f1ab05525bac41c69002eddb83d2adb5",
    "deepnote_cell_height": 76,
    "deepnote_cell_type": "code",
    "deepnote_output_heights": [
     116
    ],
    "deepnote_to_be_reexecuted": false,
    "execution_millis": 4,
    "execution_start": 1664650816094,
    "source_hash": "374c641",
    "tags": []
   },
   "outputs": [],
   "source": [
    "# Place your Solution to Question 5 here"
   ]
  },
  {
   "cell_type": "markdown",
   "metadata": {
    "cell_id": "52596f749b0640d4af514434cb0fc9ec",
    "deepnote_cell_height": 108.390625,
    "deepnote_cell_type": "markdown",
    "tags": []
   },
   "source": [
    "## Question 6\n",
    "\n",
    "Change each senator's hometown to include the state, e.g. \"Cambridge\" becomes \"Cambridge, Massachusetts\"."
   ]
  },
  {
   "cell_type": "code",
   "execution_count": null,
   "metadata": {
    "cell_id": "0ea4a23756084089a12fafe07ec8cd3e",
    "deepnote_cell_height": 76,
    "deepnote_cell_type": "code",
    "deepnote_to_be_reexecuted": false,
    "execution_millis": 1,
    "execution_start": 1664650816099,
    "source_hash": "63b52c26",
    "tags": []
   },
   "outputs": [],
   "source": [
    "# Place your Solution to Question 6 here"
   ]
  },
  {
   "cell_type": "markdown",
   "metadata": {
    "cell_id": "25067fd0ba3e45d4b4032fe377724df7",
    "deepnote_cell_height": 108.390625,
    "deepnote_cell_type": "markdown",
    "tags": []
   },
   "source": [
    "## Question 7\n",
    "\n",
    "Make a new variable for just the age of each senator and sort the senators by age."
   ]
  },
  {
   "cell_type": "code",
   "execution_count": null,
   "metadata": {
    "cell_id": "9a2fecf5ddd14fa5a926e1d948ad94b4",
    "deepnote_cell_height": 76,
    "deepnote_cell_type": "code",
    "deepnote_to_be_reexecuted": false,
    "execution_millis": 1,
    "execution_start": 1664650816180,
    "source_hash": "59165b8a",
    "tags": []
   },
   "outputs": [],
   "source": [
    "# Place your Solution to Question 7 here"
   ]
  },
  {
   "cell_type": "markdown",
   "metadata": {
    "cell_id": "66f325a5b5a8436d8cb0182926662969",
    "deepnote_cell_height": 108.390625,
    "deepnote_cell_type": "markdown",
    "tags": []
   },
   "source": [
    "## Question 8\n",
    "\n",
    "Make a new variable for whether a senator was in the U.S. House."
   ]
  },
  {
   "cell_type": "code",
   "execution_count": null,
   "metadata": {
    "cell_id": "1aa2bb99b1404316b5c1fe620814e969",
    "deepnote_cell_height": 76,
    "deepnote_cell_type": "code",
    "deepnote_to_be_reexecuted": false,
    "execution_millis": 1,
    "execution_start": 1664650816181,
    "source_hash": "d6036eee",
    "tags": []
   },
   "outputs": [],
   "source": [
    "# Place your Solution to Question 8 here"
   ]
  },
  {
   "cell_type": "markdown",
   "metadata": {
    "cell_id": "3caf1a1da4504b67927f437521134d80",
    "deepnote_cell_height": 108.390625,
    "deepnote_cell_type": "markdown",
    "tags": []
   },
   "source": [
    "## Question 9\n",
    "\n",
    "Which senator has the most declared occupations?"
   ]
  },
  {
   "cell_type": "code",
   "execution_count": null,
   "metadata": {
    "cell_id": "e648dcfe8e704027b0e33deeeb4e8e04",
    "deepnote_cell_height": 76,
    "deepnote_cell_type": "code",
    "deepnote_to_be_reexecuted": false,
    "execution_millis": 0,
    "execution_start": 1664650816182,
    "source_hash": "567287a4",
    "tags": []
   },
   "outputs": [],
   "source": [
    "# Place your Solution to Question 9 here"
   ]
  },
  {
   "cell_type": "markdown",
   "metadata": {
    "cell_id": "e29a736c975f4c9d839e57deee893033",
    "deepnote_cell_height": 108.390625,
    "deepnote_cell_type": "markdown",
    "tags": []
   },
   "source": [
    "## Question 10\n",
    "\n",
    "In which states are both seats in the Senate controlled by the same party?"
   ]
  },
  {
   "cell_type": "code",
   "execution_count": null,
   "metadata": {
    "cell_id": "082d48d59b6e4a09886fabedd1627d33",
    "deepnote_cell_height": 76,
    "deepnote_cell_type": "code",
    "deepnote_output_heights": [
     610
    ],
    "deepnote_to_be_reexecuted": false,
    "execution_millis": 1,
    "execution_start": 1664650816183,
    "source_hash": "3cc0ad25",
    "tags": []
   },
   "outputs": [],
   "source": [
    "# Place your Solution to Question 10 here"
   ]
  },
  {
   "cell_type": "markdown",
   "metadata": {
    "cell_id": "75977ba3c9a44c74bb93163a74461915",
    "deepnote_cell_height": 108.390625,
    "deepnote_cell_type": "markdown",
    "tags": []
   },
   "source": [
    "## Question 11\n",
    "\n",
    "Make a histogram of senator ages."
   ]
  },
  {
   "cell_type": "code",
   "execution_count": null,
   "metadata": {
    "cell_id": "d29b9617a75349859f1f712af4113177",
    "deepnote_cell_height": 76,
    "deepnote_cell_type": "code",
    "deepnote_output_heights": [
     456,
     414
    ],
    "deepnote_to_be_reexecuted": false,
    "execution_millis": 2,
    "execution_start": 1664650816184,
    "source_hash": "c728bb4",
    "tags": []
   },
   "outputs": [],
   "source": [
    "# Place your Solution to Question 11 here"
   ]
  },
  {
   "cell_type": "markdown",
   "metadata": {
    "cell_id": "050e45bd2af14bf1a42bbbda0e6aff79",
    "deepnote_cell_height": 144.78125,
    "deepnote_cell_type": "markdown",
    "tags": []
   },
   "source": [
    "## Question 12\n",
    "\n",
    "How does average age for republican senators compare to average age for democratic senators?\n",
    "\n",
    "Challenge: Make side-by-side box plots to compare the age distribution by party.\n"
   ]
  },
  {
   "cell_type": "code",
   "execution_count": null,
   "metadata": {
    "cell_id": "208445d4ce4f43958e0a9af642803ac5",
    "deepnote_cell_height": 76,
    "deepnote_cell_type": "code",
    "deepnote_output_heights": [
     97
    ],
    "deepnote_to_be_reexecuted": false,
    "execution_millis": 0,
    "execution_start": 1664650816205,
    "source_hash": "6aa8f1e7",
    "tags": []
   },
   "outputs": [],
   "source": [
    "# Place your Solution to Question 12 here"
   ]
  },
  {
   "cell_type": "code",
   "execution_count": null,
   "metadata": {
    "cell_id": "ed89cca2b5c646de8d45401256a1b65f",
    "deepnote_cell_height": 76,
    "deepnote_cell_type": "code",
    "deepnote_output_heights": [
     20,
     462
    ],
    "deepnote_to_be_reexecuted": false,
    "execution_millis": 0,
    "execution_start": 1664650816206,
    "source_hash": "2646c7de",
    "tags": []
   },
   "outputs": [],
   "source": [
    "# Place your Solution to Question 12's challenge part here"
   ]
  },
  {
   "cell_type": "markdown",
   "metadata": {
    "cell_id": "f210b9c5073d4b579495afe1599d312d",
    "deepnote_cell_height": 144.78125,
    "deepnote_cell_type": "markdown",
    "tags": []
   },
   "source": [
    "## Question 13\n",
    "\n",
    "Which senator has been in the senate the longest?\n",
    "\n",
    "(Hint: You don't *need* to use `datetime`s, but the solution is cleaner if you do.)\n"
   ]
  },
  {
   "cell_type": "code",
   "execution_count": null,
   "metadata": {
    "cell_id": "1c0f83118496475899c8bff8fd89b428",
    "deepnote_cell_height": 76,
    "deepnote_cell_type": "code",
    "deepnote_output_heights": [
     231.25
    ],
    "deepnote_to_be_reexecuted": false,
    "execution_millis": 0,
    "execution_start": 1664650816207,
    "source_hash": "f18dc7b4",
    "tags": []
   },
   "outputs": [],
   "source": [
    "# Place your Solution to Question 13 here"
   ]
  },
  {
   "cell_type": "markdown",
   "metadata": {
    "cell_id": "c798f54f415849bdb80bbd5b16701a67",
    "deepnote_cell_height": 144.78125,
    "deepnote_cell_type": "markdown",
    "tags": []
   },
   "source": [
    "## Question 14 - Challenge\n",
    "\n",
    "Which senator was the oldest when they assumed office?\n",
    "\n",
    "(Hint: You definitely need `datetime`s for this one.)"
   ]
  },
  {
   "cell_type": "code",
   "execution_count": null,
   "metadata": {
    "cell_id": "2ace58ab0879494dbb53aa1ab9221a41",
    "deepnote_cell_height": 76,
    "deepnote_cell_type": "code",
    "deepnote_to_be_reexecuted": false,
    "execution_millis": 1,
    "execution_start": 1664650816208,
    "source_hash": "19ed657c",
    "tags": []
   },
   "outputs": [],
   "source": [
    "# Place your Solution to Question 14 here"
   ]
  },
  {
   "cell_type": "markdown",
   "metadata": {
    "cell_id": "0bc0eb758204457984b0a0a59cc7d760",
    "deepnote_cell_height": 144.78125,
    "deepnote_cell_type": "markdown",
    "tags": []
   },
   "source": [
    "## Question 15 - Challenge\n",
    "\n",
    "Which college/university granted the most degrees to Senate members?\n",
    "\n",
    "(Hint: You probably need regular expressions for this one.)"
   ]
  },
  {
   "cell_type": "code",
   "execution_count": null,
   "metadata": {
    "cell_id": "2d4198c809cb4eb39adb6dfbed12db06",
    "deepnote_cell_height": 76,
    "deepnote_cell_type": "code",
    "deepnote_output_heights": [
     231
    ],
    "deepnote_to_be_reexecuted": false,
    "execution_millis": 51,
    "execution_start": 1664650816209,
    "source_hash": "ea1d822d",
    "tags": []
   },
   "outputs": [],
   "source": [
    "# Place your Solution to Question 15 here"
   ]
  }
 ],
 "metadata": {
  "deepnote": {},
  "deepnote_execution_queue": [],
  "deepnote_notebook_id": "5719ffe4-81cc-403c-b489-2d73375c1424",
  "kernelspec": {
   "display_name": "Python 3 (ipykernel)",
   "language": "python",
   "name": "python3"
  },
  "language_info": {
   "codemirror_mode": {
    "name": "ipython",
    "version": 3
   },
   "file_extension": ".py",
   "mimetype": "text/x-python",
   "name": "python",
   "nbconvert_exporter": "python",
   "pygments_lexer": "ipython3",
   "version": "3.8.12"
  }
 },
 "nbformat": 4,
 "nbformat_minor": 4
}
